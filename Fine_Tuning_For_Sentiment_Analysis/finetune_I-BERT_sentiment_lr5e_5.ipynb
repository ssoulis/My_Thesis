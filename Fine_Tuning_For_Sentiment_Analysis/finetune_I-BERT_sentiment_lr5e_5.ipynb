{
  "cells": [
    {
      "cell_type": "code",
      "execution_count": 1,
      "metadata": {
        "execution": {
          "iopub.execute_input": "2023-12-16T15:46:44.210789Z",
          "iopub.status.busy": "2023-12-16T15:46:44.210343Z",
          "iopub.status.idle": "2023-12-16T15:46:44.218442Z",
          "shell.execute_reply": "2023-12-16T15:46:44.217477Z",
          "shell.execute_reply.started": "2023-12-16T15:46:44.210758Z"
        },
        "id": "3Ibntwh5mz1b",
        "trusted": true
      },
      "outputs": [],
      "source": [
        "#general purpose packages\n",
        "import numpy as np\n",
        "import pandas as pd\n",
        "import tensorflow as tf\n",
        "import matplotlib.pyplot as plt\n",
        "\n",
        "\n",
        "#data processing\n",
        "import re, string\n",
        "import nltk\n",
        "\n",
        "from sklearn import preprocessing\n",
        "from imblearn.over_sampling import RandomOverSampler\n",
        "from sklearn.model_selection import train_test_split\n",
        "\n",
        "\n",
        "#Naive Bayes\n",
        "from sklearn.feature_extraction.text import CountVectorizer\n",
        "from sklearn.feature_extraction.text import TfidfTransformer\n",
        "from sklearn.naive_bayes import MultinomialNB\n",
        "\n",
        "\n",
        "\n",
        "#metrics\n",
        "from sklearn.metrics import accuracy_score, f1_score\n",
        "from sklearn.metrics import classification_report, confusion_matrix\n",
        "\n",
        "#set seed for reproducibility\n",
        "seed=42\n"
      ]
    },
    {
      "cell_type": "code",
      "execution_count": 2,
      "metadata": {
        "execution": {
          "iopub.execute_input": "2023-12-16T15:46:44.220642Z",
          "iopub.status.busy": "2023-12-16T15:46:44.220335Z",
          "iopub.status.idle": "2023-12-16T15:46:44.405848Z",
          "shell.execute_reply": "2023-12-16T15:46:44.404670Z",
          "shell.execute_reply.started": "2023-12-16T15:46:44.220598Z"
        },
        "id": "EppnSQEHmz1g",
        "trusted": true
      },
      "outputs": [],
      "source": [
        "df = pd.read_csv('/content/Corona_NLP_train.csv',encoding='ISO-8859-1')\n",
        "df_test = pd.read_csv('/content/Corona_NLP_test.csv')"
      ]
    },
    {
      "cell_type": "code",
      "execution_count": 3,
      "metadata": {
        "colab": {
          "base_uri": "https://localhost:8080/",
          "height": 206
        },
        "execution": {
          "iopub.execute_input": "2023-12-16T15:46:44.407442Z",
          "iopub.status.busy": "2023-12-16T15:46:44.407037Z",
          "iopub.status.idle": "2023-12-16T15:46:44.420860Z",
          "shell.execute_reply": "2023-12-16T15:46:44.419726Z",
          "shell.execute_reply.started": "2023-12-16T15:46:44.407407Z"
        },
        "id": "3aH2Epxxmz1h",
        "outputId": "75afe89d-9d75-4447-b49b-2c37bb1b85a4",
        "trusted": true
      },
      "outputs": [
        {
          "output_type": "execute_result",
          "data": {
            "text/plain": [
              "   UserName  ScreenName   Location     TweetAt  \\\n",
              "0      3799       48751     London  16-03-2020   \n",
              "1      3800       48752         UK  16-03-2020   \n",
              "2      3801       48753  Vagabonds  16-03-2020   \n",
              "3      3802       48754        NaN  16-03-2020   \n",
              "4      3803       48755        NaN  16-03-2020   \n",
              "\n",
              "                                       OriginalTweet           Sentiment  \n",
              "0  @MeNyrbie @Phil_Gahan @Chrisitv https://t.co/i...             Neutral  \n",
              "1  advice Talk to your neighbours family to excha...            Positive  \n",
              "2  Coronavirus Australia: Woolworths to give elde...            Positive  \n",
              "3  My food stock is not the only one which is emp...            Positive  \n",
              "4  Me, ready to go at supermarket during the #COV...  Extremely Negative  "
            ],
            "text/html": [
              "\n",
              "  <div id=\"df-1e50d167-948f-49b4-8a64-14e4b2ea4359\" class=\"colab-df-container\">\n",
              "    <div>\n",
              "<style scoped>\n",
              "    .dataframe tbody tr th:only-of-type {\n",
              "        vertical-align: middle;\n",
              "    }\n",
              "\n",
              "    .dataframe tbody tr th {\n",
              "        vertical-align: top;\n",
              "    }\n",
              "\n",
              "    .dataframe thead th {\n",
              "        text-align: right;\n",
              "    }\n",
              "</style>\n",
              "<table border=\"1\" class=\"dataframe\">\n",
              "  <thead>\n",
              "    <tr style=\"text-align: right;\">\n",
              "      <th></th>\n",
              "      <th>UserName</th>\n",
              "      <th>ScreenName</th>\n",
              "      <th>Location</th>\n",
              "      <th>TweetAt</th>\n",
              "      <th>OriginalTweet</th>\n",
              "      <th>Sentiment</th>\n",
              "    </tr>\n",
              "  </thead>\n",
              "  <tbody>\n",
              "    <tr>\n",
              "      <th>0</th>\n",
              "      <td>3799</td>\n",
              "      <td>48751</td>\n",
              "      <td>London</td>\n",
              "      <td>16-03-2020</td>\n",
              "      <td>@MeNyrbie @Phil_Gahan @Chrisitv https://t.co/i...</td>\n",
              "      <td>Neutral</td>\n",
              "    </tr>\n",
              "    <tr>\n",
              "      <th>1</th>\n",
              "      <td>3800</td>\n",
              "      <td>48752</td>\n",
              "      <td>UK</td>\n",
              "      <td>16-03-2020</td>\n",
              "      <td>advice Talk to your neighbours family to excha...</td>\n",
              "      <td>Positive</td>\n",
              "    </tr>\n",
              "    <tr>\n",
              "      <th>2</th>\n",
              "      <td>3801</td>\n",
              "      <td>48753</td>\n",
              "      <td>Vagabonds</td>\n",
              "      <td>16-03-2020</td>\n",
              "      <td>Coronavirus Australia: Woolworths to give elde...</td>\n",
              "      <td>Positive</td>\n",
              "    </tr>\n",
              "    <tr>\n",
              "      <th>3</th>\n",
              "      <td>3802</td>\n",
              "      <td>48754</td>\n",
              "      <td>NaN</td>\n",
              "      <td>16-03-2020</td>\n",
              "      <td>My food stock is not the only one which is emp...</td>\n",
              "      <td>Positive</td>\n",
              "    </tr>\n",
              "    <tr>\n",
              "      <th>4</th>\n",
              "      <td>3803</td>\n",
              "      <td>48755</td>\n",
              "      <td>NaN</td>\n",
              "      <td>16-03-2020</td>\n",
              "      <td>Me, ready to go at supermarket during the #COV...</td>\n",
              "      <td>Extremely Negative</td>\n",
              "    </tr>\n",
              "  </tbody>\n",
              "</table>\n",
              "</div>\n",
              "    <div class=\"colab-df-buttons\">\n",
              "\n",
              "  <div class=\"colab-df-container\">\n",
              "    <button class=\"colab-df-convert\" onclick=\"convertToInteractive('df-1e50d167-948f-49b4-8a64-14e4b2ea4359')\"\n",
              "            title=\"Convert this dataframe to an interactive table.\"\n",
              "            style=\"display:none;\">\n",
              "\n",
              "  <svg xmlns=\"http://www.w3.org/2000/svg\" height=\"24px\" viewBox=\"0 -960 960 960\">\n",
              "    <path d=\"M120-120v-720h720v720H120Zm60-500h600v-160H180v160Zm220 220h160v-160H400v160Zm0 220h160v-160H400v160ZM180-400h160v-160H180v160Zm440 0h160v-160H620v160ZM180-180h160v-160H180v160Zm440 0h160v-160H620v160Z\"/>\n",
              "  </svg>\n",
              "    </button>\n",
              "\n",
              "  <style>\n",
              "    .colab-df-container {\n",
              "      display:flex;\n",
              "      gap: 12px;\n",
              "    }\n",
              "\n",
              "    .colab-df-convert {\n",
              "      background-color: #E8F0FE;\n",
              "      border: none;\n",
              "      border-radius: 50%;\n",
              "      cursor: pointer;\n",
              "      display: none;\n",
              "      fill: #1967D2;\n",
              "      height: 32px;\n",
              "      padding: 0 0 0 0;\n",
              "      width: 32px;\n",
              "    }\n",
              "\n",
              "    .colab-df-convert:hover {\n",
              "      background-color: #E2EBFA;\n",
              "      box-shadow: 0px 1px 2px rgba(60, 64, 67, 0.3), 0px 1px 3px 1px rgba(60, 64, 67, 0.15);\n",
              "      fill: #174EA6;\n",
              "    }\n",
              "\n",
              "    .colab-df-buttons div {\n",
              "      margin-bottom: 4px;\n",
              "    }\n",
              "\n",
              "    [theme=dark] .colab-df-convert {\n",
              "      background-color: #3B4455;\n",
              "      fill: #D2E3FC;\n",
              "    }\n",
              "\n",
              "    [theme=dark] .colab-df-convert:hover {\n",
              "      background-color: #434B5C;\n",
              "      box-shadow: 0px 1px 3px 1px rgba(0, 0, 0, 0.15);\n",
              "      filter: drop-shadow(0px 1px 2px rgba(0, 0, 0, 0.3));\n",
              "      fill: #FFFFFF;\n",
              "    }\n",
              "  </style>\n",
              "\n",
              "    <script>\n",
              "      const buttonEl =\n",
              "        document.querySelector('#df-1e50d167-948f-49b4-8a64-14e4b2ea4359 button.colab-df-convert');\n",
              "      buttonEl.style.display =\n",
              "        google.colab.kernel.accessAllowed ? 'block' : 'none';\n",
              "\n",
              "      async function convertToInteractive(key) {\n",
              "        const element = document.querySelector('#df-1e50d167-948f-49b4-8a64-14e4b2ea4359');\n",
              "        const dataTable =\n",
              "          await google.colab.kernel.invokeFunction('convertToInteractive',\n",
              "                                                    [key], {});\n",
              "        if (!dataTable) return;\n",
              "\n",
              "        const docLinkHtml = 'Like what you see? Visit the ' +\n",
              "          '<a target=\"_blank\" href=https://colab.research.google.com/notebooks/data_table.ipynb>data table notebook</a>'\n",
              "          + ' to learn more about interactive tables.';\n",
              "        element.innerHTML = '';\n",
              "        dataTable['output_type'] = 'display_data';\n",
              "        await google.colab.output.renderOutput(dataTable, element);\n",
              "        const docLink = document.createElement('div');\n",
              "        docLink.innerHTML = docLinkHtml;\n",
              "        element.appendChild(docLink);\n",
              "      }\n",
              "    </script>\n",
              "  </div>\n",
              "\n",
              "\n",
              "<div id=\"df-fc9362cc-728e-429a-8d0f-006eb796d409\">\n",
              "  <button class=\"colab-df-quickchart\" onclick=\"quickchart('df-fc9362cc-728e-429a-8d0f-006eb796d409')\"\n",
              "            title=\"Suggest charts\"\n",
              "            style=\"display:none;\">\n",
              "\n",
              "<svg xmlns=\"http://www.w3.org/2000/svg\" height=\"24px\"viewBox=\"0 0 24 24\"\n",
              "     width=\"24px\">\n",
              "    <g>\n",
              "        <path d=\"M19 3H5c-1.1 0-2 .9-2 2v14c0 1.1.9 2 2 2h14c1.1 0 2-.9 2-2V5c0-1.1-.9-2-2-2zM9 17H7v-7h2v7zm4 0h-2V7h2v10zm4 0h-2v-4h2v4z\"/>\n",
              "    </g>\n",
              "</svg>\n",
              "  </button>\n",
              "\n",
              "<style>\n",
              "  .colab-df-quickchart {\n",
              "      --bg-color: #E8F0FE;\n",
              "      --fill-color: #1967D2;\n",
              "      --hover-bg-color: #E2EBFA;\n",
              "      --hover-fill-color: #174EA6;\n",
              "      --disabled-fill-color: #AAA;\n",
              "      --disabled-bg-color: #DDD;\n",
              "  }\n",
              "\n",
              "  [theme=dark] .colab-df-quickchart {\n",
              "      --bg-color: #3B4455;\n",
              "      --fill-color: #D2E3FC;\n",
              "      --hover-bg-color: #434B5C;\n",
              "      --hover-fill-color: #FFFFFF;\n",
              "      --disabled-bg-color: #3B4455;\n",
              "      --disabled-fill-color: #666;\n",
              "  }\n",
              "\n",
              "  .colab-df-quickchart {\n",
              "    background-color: var(--bg-color);\n",
              "    border: none;\n",
              "    border-radius: 50%;\n",
              "    cursor: pointer;\n",
              "    display: none;\n",
              "    fill: var(--fill-color);\n",
              "    height: 32px;\n",
              "    padding: 0;\n",
              "    width: 32px;\n",
              "  }\n",
              "\n",
              "  .colab-df-quickchart:hover {\n",
              "    background-color: var(--hover-bg-color);\n",
              "    box-shadow: 0 1px 2px rgba(60, 64, 67, 0.3), 0 1px 3px 1px rgba(60, 64, 67, 0.15);\n",
              "    fill: var(--button-hover-fill-color);\n",
              "  }\n",
              "\n",
              "  .colab-df-quickchart-complete:disabled,\n",
              "  .colab-df-quickchart-complete:disabled:hover {\n",
              "    background-color: var(--disabled-bg-color);\n",
              "    fill: var(--disabled-fill-color);\n",
              "    box-shadow: none;\n",
              "  }\n",
              "\n",
              "  .colab-df-spinner {\n",
              "    border: 2px solid var(--fill-color);\n",
              "    border-color: transparent;\n",
              "    border-bottom-color: var(--fill-color);\n",
              "    animation:\n",
              "      spin 1s steps(1) infinite;\n",
              "  }\n",
              "\n",
              "  @keyframes spin {\n",
              "    0% {\n",
              "      border-color: transparent;\n",
              "      border-bottom-color: var(--fill-color);\n",
              "      border-left-color: var(--fill-color);\n",
              "    }\n",
              "    20% {\n",
              "      border-color: transparent;\n",
              "      border-left-color: var(--fill-color);\n",
              "      border-top-color: var(--fill-color);\n",
              "    }\n",
              "    30% {\n",
              "      border-color: transparent;\n",
              "      border-left-color: var(--fill-color);\n",
              "      border-top-color: var(--fill-color);\n",
              "      border-right-color: var(--fill-color);\n",
              "    }\n",
              "    40% {\n",
              "      border-color: transparent;\n",
              "      border-right-color: var(--fill-color);\n",
              "      border-top-color: var(--fill-color);\n",
              "    }\n",
              "    60% {\n",
              "      border-color: transparent;\n",
              "      border-right-color: var(--fill-color);\n",
              "    }\n",
              "    80% {\n",
              "      border-color: transparent;\n",
              "      border-right-color: var(--fill-color);\n",
              "      border-bottom-color: var(--fill-color);\n",
              "    }\n",
              "    90% {\n",
              "      border-color: transparent;\n",
              "      border-bottom-color: var(--fill-color);\n",
              "    }\n",
              "  }\n",
              "</style>\n",
              "\n",
              "  <script>\n",
              "    async function quickchart(key) {\n",
              "      const quickchartButtonEl =\n",
              "        document.querySelector('#' + key + ' button');\n",
              "      quickchartButtonEl.disabled = true;  // To prevent multiple clicks.\n",
              "      quickchartButtonEl.classList.add('colab-df-spinner');\n",
              "      try {\n",
              "        const charts = await google.colab.kernel.invokeFunction(\n",
              "            'suggestCharts', [key], {});\n",
              "      } catch (error) {\n",
              "        console.error('Error during call to suggestCharts:', error);\n",
              "      }\n",
              "      quickchartButtonEl.classList.remove('colab-df-spinner');\n",
              "      quickchartButtonEl.classList.add('colab-df-quickchart-complete');\n",
              "    }\n",
              "    (() => {\n",
              "      let quickchartButtonEl =\n",
              "        document.querySelector('#df-fc9362cc-728e-429a-8d0f-006eb796d409 button');\n",
              "      quickchartButtonEl.style.display =\n",
              "        google.colab.kernel.accessAllowed ? 'block' : 'none';\n",
              "    })();\n",
              "  </script>\n",
              "</div>\n",
              "    </div>\n",
              "  </div>\n"
            ]
          },
          "metadata": {},
          "execution_count": 3
        }
      ],
      "source": [
        "df.head()"
      ]
    },
    {
      "cell_type": "code",
      "execution_count": 4,
      "metadata": {
        "colab": {
          "base_uri": "https://localhost:8080/"
        },
        "execution": {
          "iopub.execute_input": "2023-12-16T15:46:44.422347Z",
          "iopub.status.busy": "2023-12-16T15:46:44.422037Z",
          "iopub.status.idle": "2023-12-16T15:46:44.459132Z",
          "shell.execute_reply": "2023-12-16T15:46:44.458029Z",
          "shell.execute_reply.started": "2023-12-16T15:46:44.422322Z"
        },
        "id": "QZ6aQXr4mz1i",
        "outputId": "bb7aded9-d4b7-4fdc-d1af-71638f3b3534",
        "trusted": true
      },
      "outputs": [
        {
          "output_type": "stream",
          "name": "stdout",
          "text": [
            "<class 'pandas.core.frame.DataFrame'>\n",
            "RangeIndex: 41157 entries, 0 to 41156\n",
            "Data columns (total 6 columns):\n",
            " #   Column         Non-Null Count  Dtype \n",
            "---  ------         --------------  ----- \n",
            " 0   UserName       41157 non-null  int64 \n",
            " 1   ScreenName     41157 non-null  int64 \n",
            " 2   Location       32567 non-null  object\n",
            " 3   TweetAt        41157 non-null  object\n",
            " 4   OriginalTweet  41157 non-null  object\n",
            " 5   Sentiment      41157 non-null  object\n",
            "dtypes: int64(2), object(4)\n",
            "memory usage: 1.9+ MB\n"
          ]
        }
      ],
      "source": [
        "df.info()"
      ]
    },
    {
      "cell_type": "code",
      "execution_count": 5,
      "metadata": {
        "colab": {
          "base_uri": "https://localhost:8080/"
        },
        "execution": {
          "iopub.execute_input": "2023-12-16T15:46:44.463167Z",
          "iopub.status.busy": "2023-12-16T15:46:44.462863Z",
          "iopub.status.idle": "2023-12-16T15:46:44.476145Z",
          "shell.execute_reply": "2023-12-16T15:46:44.475199Z",
          "shell.execute_reply.started": "2023-12-16T15:46:44.463140Z"
        },
        "id": "YuQawIu8mz1j",
        "outputId": "970dac14-f4c2-4526-82ed-ff58ddae8219",
        "trusted": true
      },
      "outputs": [
        {
          "output_type": "stream",
          "name": "stderr",
          "text": [
            "<ipython-input-5-45b9b0fe6852>:1: UserWarning: Parsing dates in DD/MM/YYYY format when dayfirst=False (the default) was specified. This may lead to inconsistently parsed dates! Specify a format to ensure consistent parsing.\n",
            "  df['TweetAt'] = pd.to_datetime(df['TweetAt'])\n"
          ]
        }
      ],
      "source": [
        "df['TweetAt'] = pd.to_datetime(df['TweetAt'])"
      ]
    },
    {
      "cell_type": "code",
      "execution_count": 6,
      "metadata": {
        "execution": {
          "iopub.execute_input": "2023-12-16T15:46:44.477917Z",
          "iopub.status.busy": "2023-12-16T15:46:44.477569Z",
          "iopub.status.idle": "2023-12-16T15:46:44.498472Z",
          "shell.execute_reply": "2023-12-16T15:46:44.497681Z",
          "shell.execute_reply.started": "2023-12-16T15:46:44.477890Z"
        },
        "id": "1XD84yfPmz1j",
        "trusted": true
      },
      "outputs": [],
      "source": [
        "df.drop_duplicates(subset='OriginalTweet',inplace=True)"
      ]
    },
    {
      "cell_type": "code",
      "execution_count": 7,
      "metadata": {
        "colab": {
          "base_uri": "https://localhost:8080/"
        },
        "execution": {
          "iopub.execute_input": "2023-12-16T15:46:44.500216Z",
          "iopub.status.busy": "2023-12-16T15:46:44.499571Z",
          "iopub.status.idle": "2023-12-16T15:46:44.522572Z",
          "shell.execute_reply": "2023-12-16T15:46:44.521405Z",
          "shell.execute_reply.started": "2023-12-16T15:46:44.500180Z"
        },
        "id": "ltcJdgjAmz1k",
        "outputId": "c2c88c3d-bf0a-468a-810b-6c9777e3a5a8",
        "trusted": true
      },
      "outputs": [
        {
          "output_type": "stream",
          "name": "stdout",
          "text": [
            "<class 'pandas.core.frame.DataFrame'>\n",
            "Int64Index: 41157 entries, 0 to 41156\n",
            "Data columns (total 6 columns):\n",
            " #   Column         Non-Null Count  Dtype         \n",
            "---  ------         --------------  -----         \n",
            " 0   UserName       41157 non-null  int64         \n",
            " 1   ScreenName     41157 non-null  int64         \n",
            " 2   Location       32567 non-null  object        \n",
            " 3   TweetAt        41157 non-null  datetime64[ns]\n",
            " 4   OriginalTweet  41157 non-null  object        \n",
            " 5   Sentiment      41157 non-null  object        \n",
            "dtypes: datetime64[ns](1), int64(2), object(3)\n",
            "memory usage: 2.2+ MB\n"
          ]
        }
      ],
      "source": [
        "df.info()"
      ]
    },
    {
      "cell_type": "code",
      "execution_count": 8,
      "metadata": {
        "execution": {
          "iopub.execute_input": "2023-12-16T15:46:44.524120Z",
          "iopub.status.busy": "2023-12-16T15:46:44.523841Z",
          "iopub.status.idle": "2023-12-16T15:46:44.885911Z",
          "shell.execute_reply": "2023-12-16T15:46:44.885092Z",
          "shell.execute_reply.started": "2023-12-16T15:46:44.524080Z"
        },
        "id": "GQxpu4LHmz1k",
        "trusted": true
      },
      "outputs": [],
      "source": [
        "tweets_per_day = df['TweetAt'].dt.strftime('%m-%d').value_counts().sort_index().reset_index(name='counts')"
      ]
    },
    {
      "cell_type": "code",
      "execution_count": 9,
      "metadata": {
        "execution": {
          "iopub.execute_input": "2023-12-16T15:46:44.887467Z",
          "iopub.status.busy": "2023-12-16T15:46:44.887147Z",
          "iopub.status.idle": "2023-12-16T15:46:44.902709Z",
          "shell.execute_reply": "2023-12-16T15:46:44.901870Z",
          "shell.execute_reply.started": "2023-12-16T15:46:44.887439Z"
        },
        "id": "iWrGN2wYmz1l",
        "trusted": true
      },
      "outputs": [],
      "source": [
        "tweets_per_country = df['Location'].value_counts().loc[lambda x : x > 100].reset_index(name='counts')"
      ]
    },
    {
      "cell_type": "code",
      "execution_count": 10,
      "metadata": {
        "execution": {
          "iopub.execute_input": "2023-12-16T15:46:44.904840Z",
          "iopub.status.busy": "2023-12-16T15:46:44.904079Z",
          "iopub.status.idle": "2023-12-16T15:46:44.915974Z",
          "shell.execute_reply": "2023-12-16T15:46:44.915269Z",
          "shell.execute_reply.started": "2023-12-16T15:46:44.904811Z"
        },
        "id": "PCavlAEjmz1m",
        "trusted": true
      },
      "outputs": [],
      "source": [
        "df = df[['OriginalTweet','Sentiment']]"
      ]
    },
    {
      "cell_type": "code",
      "execution_count": 11,
      "metadata": {
        "execution": {
          "iopub.execute_input": "2023-12-16T15:46:44.917343Z",
          "iopub.status.busy": "2023-12-16T15:46:44.917031Z",
          "iopub.status.idle": "2023-12-16T15:46:44.929419Z",
          "shell.execute_reply": "2023-12-16T15:46:44.928522Z",
          "shell.execute_reply.started": "2023-12-16T15:46:44.917317Z"
        },
        "id": "4dt2kmScmz1m",
        "trusted": true
      },
      "outputs": [],
      "source": [
        "df_test = df_test[['OriginalTweet','Sentiment']]"
      ]
    },
    {
      "cell_type": "code",
      "execution_count": 12,
      "metadata": {
        "colab": {
          "base_uri": "https://localhost:8080/"
        },
        "execution": {
          "iopub.execute_input": "2023-12-16T15:46:44.930621Z",
          "iopub.status.busy": "2023-12-16T15:46:44.930356Z",
          "iopub.status.idle": "2023-12-16T15:46:56.965281Z",
          "shell.execute_reply": "2023-12-16T15:46:56.964197Z",
          "shell.execute_reply.started": "2023-12-16T15:46:44.930592Z"
        },
        "id": "8kGOX1enmz1m",
        "outputId": "164f675e-608d-4ed3-89a2-fa57ba58d57a",
        "trusted": true
      },
      "outputs": [
        {
          "output_type": "stream",
          "name": "stdout",
          "text": [
            "Collecting demoji\n",
            "  Downloading demoji-1.1.0-py3-none-any.whl (42 kB)\n",
            "\u001b[2K     \u001b[90m━━━━━━━━━━━━━━━━━━━━━━━━━━━━━━━━━━━━━━━━\u001b[0m \u001b[32m42.9/42.9 kB\u001b[0m \u001b[31m1.1 MB/s\u001b[0m eta \u001b[36m0:00:00\u001b[0m\n",
            "\u001b[?25hInstalling collected packages: demoji\n",
            "Successfully installed demoji-1.1.0\n"
          ]
        }
      ],
      "source": [
        "!pip install demoji\n",
        "import demoji\n",
        "\n",
        "\n",
        "\n",
        "# Clean emojis from text using the demoji library\n",
        "def strip_emoji(text):\n",
        "    return demoji.replace(text, '')\n",
        "\n",
        "# Remove punctuations, links, mentions, and \\r\\n new line characters\n",
        "def strip_all_entities(text):\n",
        "    text = text.replace('\\r', '').replace('\\n', ' ').replace('\\n', ' ').lower()  # Remove \\n and \\r and lowercase\n",
        "    text = re.sub(r\"(?:\\@|https?\\://)\\S+\", \"\", text)  # Remove links and mentions\n",
        "    text = re.sub(r'[^\\x00-\\x7f]', r'', text)  # Remove non utf8/ascii characters\n",
        "    banned_list = string.punctuation + 'Ã' + '±' + 'ã' + '¼' + 'â' + '»' + '§'\n",
        "    table = str.maketrans('', '', banned_list)\n",
        "    text = text.translate(table)\n",
        "    return text\n",
        "\n",
        "# Clean hashtags at the end of the sentence, and keep those in the middle of the sentence by removing just the # symbol\n",
        "def clean_hashtags(tweet):\n",
        "    new_tweet = \" \".join(word.strip() for word in re.split('#(?!(?:hashtag)\\b)[\\w-]+(?=(?:\\s+#[\\w-]+)*\\s*$)', tweet))  # Remove last hashtags\n",
        "    new_tweet2 = \" \".join(word.strip() for word in re.split('#|_', new_tweet))  # Remove hashtags symbol from words in the middle of the sentence\n",
        "    return new_tweet2\n",
        "\n",
        "# Filter special characters such as & and $ present in some words\n",
        "def filter_chars(a):\n",
        "    sent = []\n",
        "    for word in a.split(' '):\n",
        "        if ('$' in word) or ('&' in word):\n",
        "            sent.append('')\n",
        "        else:\n",
        "            sent.append(word)\n",
        "    return ' '.join(sent)\n",
        "\n",
        "# Remove multiple spaces\n",
        "def remove_mult_spaces(text):\n",
        "    return re.sub(\"\\s\\s+\", \" \", text)"
      ]
    },
    {
      "cell_type": "code",
      "execution_count": 13,
      "metadata": {
        "execution": {
          "iopub.execute_input": "2023-12-16T15:46:56.967056Z",
          "iopub.status.busy": "2023-12-16T15:46:56.966779Z",
          "iopub.status.idle": "2023-12-16T15:48:10.476952Z",
          "shell.execute_reply": "2023-12-16T15:48:10.475891Z",
          "shell.execute_reply.started": "2023-12-16T15:46:56.967029Z"
        },
        "id": "j-yiVTwimz1n",
        "trusted": true
      },
      "outputs": [],
      "source": [
        "texts_new = []\n",
        "for t in df.OriginalTweet:\n",
        "    texts_new.append(remove_mult_spaces(filter_chars(clean_hashtags(strip_all_entities(strip_emoji(t))))))\n",
        "\n",
        "\n",
        "# Now, texts_new contains the cleaned tweets\n"
      ]
    },
    {
      "cell_type": "code",
      "execution_count": 14,
      "metadata": {
        "execution": {
          "iopub.execute_input": "2023-12-16T15:48:10.483737Z",
          "iopub.status.busy": "2023-12-16T15:48:10.483114Z",
          "iopub.status.idle": "2023-12-16T15:48:17.728272Z",
          "shell.execute_reply": "2023-12-16T15:48:17.727412Z",
          "shell.execute_reply.started": "2023-12-16T15:48:10.483704Z"
        },
        "id": "feV7QvqKmz1n",
        "trusted": true
      },
      "outputs": [],
      "source": [
        "texts_new_test = []\n",
        "for t in df_test.OriginalTweet:\n",
        "    texts_new_test.append(remove_mult_spaces(filter_chars(clean_hashtags(strip_all_entities(strip_emoji(t))))))"
      ]
    },
    {
      "cell_type": "code",
      "execution_count": 15,
      "metadata": {
        "execution": {
          "iopub.execute_input": "2023-12-16T15:48:17.729853Z",
          "iopub.status.busy": "2023-12-16T15:48:17.729493Z",
          "iopub.status.idle": "2023-12-16T15:48:17.742424Z",
          "shell.execute_reply": "2023-12-16T15:48:17.741467Z",
          "shell.execute_reply.started": "2023-12-16T15:48:17.729819Z"
        },
        "id": "Upq4Jf2amz1n",
        "trusted": true
      },
      "outputs": [],
      "source": [
        "df['text_clean'] = texts_new\n",
        "df_test['text_clean'] = texts_new_test"
      ]
    },
    {
      "cell_type": "code",
      "execution_count": 16,
      "metadata": {
        "colab": {
          "base_uri": "https://localhost:8080/"
        },
        "execution": {
          "iopub.execute_input": "2023-12-16T15:48:17.744108Z",
          "iopub.status.busy": "2023-12-16T15:48:17.743799Z",
          "iopub.status.idle": "2023-12-16T15:48:17.759179Z",
          "shell.execute_reply": "2023-12-16T15:48:17.758299Z",
          "shell.execute_reply.started": "2023-12-16T15:48:17.744064Z"
        },
        "id": "U6GbKCd7mz1n",
        "outputId": "7fd55aee-d152-4003-e051-0c5fb145f0a5",
        "trusted": true
      },
      "outputs": [
        {
          "output_type": "execute_result",
          "data": {
            "text/plain": [
              "0                                              and and\n",
              "1    advice talk to your neighbours family to excha...\n",
              "2    coronavirus australia woolworths to give elder...\n",
              "3    my food stock is not the only one which is emp...\n",
              "4    me ready to go at supermarket during the covid...\n",
              "Name: text_clean, dtype: object"
            ]
          },
          "metadata": {},
          "execution_count": 16
        }
      ],
      "source": [
        "df['text_clean'].head()"
      ]
    },
    {
      "cell_type": "code",
      "execution_count": 17,
      "metadata": {
        "colab": {
          "base_uri": "https://localhost:8080/"
        },
        "execution": {
          "iopub.execute_input": "2023-12-16T15:48:17.760987Z",
          "iopub.status.busy": "2023-12-16T15:48:17.760586Z",
          "iopub.status.idle": "2023-12-16T15:48:17.773084Z",
          "shell.execute_reply": "2023-12-16T15:48:17.772116Z",
          "shell.execute_reply.started": "2023-12-16T15:48:17.760959Z"
        },
        "id": "sB3yk9xLmz1o",
        "outputId": "d9155401-0760-4998-c07c-fa9733c82cc1",
        "trusted": true
      },
      "outputs": [
        {
          "output_type": "execute_result",
          "data": {
            "text/plain": [
              "0    trending new yorkers encounter empty supermark...\n",
              "1    when i couldnt find hand sanitizer at fred mey...\n",
              "2    find out how you can protect yourself and love...\n",
              "3    panic buying hits newyork city as anxious shop...\n",
              "4    toiletpaper dunnypaper coronavirus coronavirus...\n",
              "Name: text_clean, dtype: object"
            ]
          },
          "metadata": {},
          "execution_count": 17
        }
      ],
      "source": [
        "df_test['text_clean'].head()"
      ]
    },
    {
      "cell_type": "code",
      "execution_count": 18,
      "metadata": {
        "colab": {
          "base_uri": "https://localhost:8080/"
        },
        "execution": {
          "iopub.execute_input": "2023-12-16T15:48:17.774704Z",
          "iopub.status.busy": "2023-12-16T15:48:17.774452Z",
          "iopub.status.idle": "2023-12-16T15:48:17.794652Z",
          "shell.execute_reply": "2023-12-16T15:48:17.793794Z",
          "shell.execute_reply.started": "2023-12-16T15:48:17.774682Z"
        },
        "id": "hCXVK3dRmz1o",
        "outputId": "5383afa3-1e61-4fcb-e40f-d2b81e41207c",
        "trusted": true
      },
      "outputs": [
        {
          "output_type": "execute_result",
          "data": {
            "text/plain": [
              "array(['advice talk to your neighbours family to exchange phone numbers create contact list with phone numbers of neighbours schools employer chemist gp set up online shopping accounts if poss adequate supplies of regular meds but not over order',\n",
              "       'coronavirus australia woolworths to give elderly disabled dedicated shopping hours amid covid19 outbreak',\n",
              "       'my food stock is not the only one which is empty please dont panic there will be enough food for everyone if you do not take more than you need stay calm stay safe covid19france covid19 covid19 coronavirus confinement confinementotal confinementgeneral',\n",
              "       'me ready to go at supermarket during the covid19 outbreak not because im paranoid but because my food stock is litteraly empty the coronavirus is a serious thing but please dont panic it causes shortage coronavirusfrance restezchezvous stayathome confinement',\n",
              "       'as news of the regions first confirmed covid19 case came out of sullivan county last week people flocked to area stores to purchase cleaning supplies hand sanitizer food toilet paper and other goods reports',\n",
              "       'cashier at grocery store was sharing his insights on covid19 to prove his credibility he commented im in civics class so i know what im talking about',\n",
              "       'was at the supermarket today didnt buy toilet paper rebel toiletpapercrisis covid19'],\n",
              "      dtype=object)"
            ]
          },
          "metadata": {},
          "execution_count": 18
        }
      ],
      "source": [
        "df['text_clean'][1:8].values"
      ]
    },
    {
      "cell_type": "code",
      "execution_count": 19,
      "metadata": {
        "execution": {
          "iopub.execute_input": "2023-12-16T15:48:17.796155Z",
          "iopub.status.busy": "2023-12-16T15:48:17.795834Z",
          "iopub.status.idle": "2023-12-16T15:48:17.902597Z",
          "shell.execute_reply": "2023-12-16T15:48:17.901788Z",
          "shell.execute_reply.started": "2023-12-16T15:48:17.796123Z"
        },
        "id": "hVe4nWEAmz1o",
        "trusted": true
      },
      "outputs": [],
      "source": [
        "text_len = []\n",
        "for text in df.text_clean:\n",
        "    tweet_len = len(text.split())\n",
        "    text_len.append(tweet_len)"
      ]
    },
    {
      "cell_type": "code",
      "execution_count": 20,
      "metadata": {
        "execution": {
          "iopub.execute_input": "2023-12-16T15:48:17.903798Z",
          "iopub.status.busy": "2023-12-16T15:48:17.903562Z",
          "iopub.status.idle": "2023-12-16T15:48:17.926397Z",
          "shell.execute_reply": "2023-12-16T15:48:17.925305Z",
          "shell.execute_reply.started": "2023-12-16T15:48:17.903776Z"
        },
        "id": "-3A7p9ehmz1p",
        "trusted": true
      },
      "outputs": [],
      "source": [
        "df['text_len'] = text_len"
      ]
    },
    {
      "cell_type": "code",
      "execution_count": 21,
      "metadata": {
        "execution": {
          "iopub.execute_input": "2023-12-16T15:48:17.927833Z",
          "iopub.status.busy": "2023-12-16T15:48:17.927479Z",
          "iopub.status.idle": "2023-12-16T15:48:17.949108Z",
          "shell.execute_reply": "2023-12-16T15:48:17.948405Z",
          "shell.execute_reply.started": "2023-12-16T15:48:17.927807Z"
        },
        "id": "i8CSH_ajmz1p",
        "trusted": true
      },
      "outputs": [],
      "source": [
        "text_len_test = []\n",
        "for text in df_test.text_clean:\n",
        "    tweet_len = len(text.split())\n",
        "    text_len_test.append(tweet_len)"
      ]
    },
    {
      "cell_type": "code",
      "execution_count": 22,
      "metadata": {
        "execution": {
          "iopub.execute_input": "2023-12-16T15:48:17.950610Z",
          "iopub.status.busy": "2023-12-16T15:48:17.950280Z",
          "iopub.status.idle": "2023-12-16T15:48:17.962580Z",
          "shell.execute_reply": "2023-12-16T15:48:17.961698Z",
          "shell.execute_reply.started": "2023-12-16T15:48:17.950577Z"
        },
        "id": "GQRW35Ywmz1p",
        "trusted": true
      },
      "outputs": [],
      "source": [
        "df_test['text_len'] = text_len_test"
      ]
    },
    {
      "cell_type": "code",
      "execution_count": 23,
      "metadata": {
        "colab": {
          "base_uri": "https://localhost:8080/",
          "height": 487
        },
        "execution": {
          "iopub.execute_input": "2023-12-16T15:48:17.963879Z",
          "iopub.status.busy": "2023-12-16T15:48:17.963623Z",
          "iopub.status.idle": "2023-12-16T15:48:18.207650Z",
          "shell.execute_reply": "2023-12-16T15:48:18.206347Z",
          "shell.execute_reply.started": "2023-12-16T15:48:17.963855Z"
        },
        "id": "Io-lOp_Jmz1p",
        "outputId": "f8cabd63-1a26-4834-9212-2f5582de5ab5",
        "trusted": true
      },
      "outputs": [
        {
          "output_type": "display_data",
          "data": {
            "text/plain": [
              "<Figure size 700x500 with 1 Axes>"
            ],
            "image/png": "[encoded data removed]"
          },
          "metadata": {}
        }
      ],
      "source": [
        "\n",
        "plt.figure(figsize=(7, 5))\n",
        "\n",
        "# Filter the DataFrame for text lengths less than 10\n",
        "filtered_df = df[df['text_len'] < 10]\n",
        "\n",
        "# Create a histogram using Matplotlib\n",
        "counts, bins, _ = plt.hist(filtered_df['text_len'], bins=range(11), color='skyblue', edgecolor='black', align='left')\n",
        "\n",
        "# Add labels and title\n",
        "plt.title('Training tweets with less than 10 words')\n",
        "plt.xlabel('Text Length')\n",
        "plt.ylabel('Count')\n",
        "plt.xticks(bins[:-1])  # Set x-axis ticks to bin edges\n",
        "plt.yticks([])\n",
        "\n",
        "# Add count labels on top of the bars\n",
        "for count, bin_edge in zip(counts, bins[:-1]):\n",
        "    plt.text(bin_edge + 0.25, count, str(int(count)), va='bottom')\n",
        "\n",
        "plt.show()"
      ]
    },
    {
      "cell_type": "code",
      "execution_count": 24,
      "metadata": {
        "colab": {
          "base_uri": "https://localhost:8080/",
          "height": 487
        },
        "execution": {
          "iopub.execute_input": "2023-12-16T15:48:18.210938Z",
          "iopub.status.busy": "2023-12-16T15:48:18.209643Z",
          "iopub.status.idle": "2023-12-16T15:48:18.386082Z",
          "shell.execute_reply": "2023-12-16T15:48:18.385179Z",
          "shell.execute_reply.started": "2023-12-16T15:48:18.210882Z"
        },
        "id": "u9ecIoPVmz1p",
        "outputId": "294c6121-2946-4d9a-87c3-e40145793a47",
        "trusted": true
      },
      "outputs": [
        {
          "output_type": "display_data",
          "data": {
            "text/plain": [
              "<Figure size 700x500 with 1 Axes>"
            ],
            "image/png": "[encoded data removed]"
          },
          "metadata": {}
        }
      ],
      "source": [
        "\n",
        "plt.figure(figsize=(7, 5))\n",
        "\n",
        "# Filter the DataFrame for text lengths less than 10\n",
        "filtered_df_test = df_test[df_test['text_len'] < 10]\n",
        "\n",
        "# Create a bar plot using Matplotlib\n",
        "ax = plt.bar(filtered_df_test['text_len'].value_counts().sort_index().index,\n",
        "             filtered_df_test['text_len'].value_counts().sort_index(), color='skyblue', edgecolor='black')\n",
        "\n",
        "# Add labels and title\n",
        "plt.title('Test tweets with less than 10 words')\n",
        "plt.xlabel('Text Length')\n",
        "plt.ylabel('Count')\n",
        "plt.xticks(filtered_df_test['text_len'].value_counts().sort_index().index)\n",
        "plt.yticks([])\n",
        "\n",
        "# Add count labels on top of the bars\n",
        "for bar in ax:\n",
        "    height = bar.get_height()\n",
        "    plt.text(bar.get_x() + bar.get_width() / 2, height, int(height), ha='center', va='bottom')\n",
        "\n",
        "plt.show()"
      ]
    },
    {
      "cell_type": "code",
      "execution_count": 25,
      "metadata": {
        "colab": {
          "base_uri": "https://localhost:8080/"
        },
        "execution": {
          "iopub.execute_input": "2023-12-16T15:48:18.388439Z",
          "iopub.status.busy": "2023-12-16T15:48:18.387367Z",
          "iopub.status.idle": "2023-12-16T15:48:18.393706Z",
          "shell.execute_reply": "2023-12-16T15:48:18.392754Z",
          "shell.execute_reply.started": "2023-12-16T15:48:18.388402Z"
        },
        "id": "IiL_GZnomz1q",
        "outputId": "e124caf9-23f1-4f28-b110-872c1c5ba4dd",
        "trusted": true
      },
      "outputs": [
        {
          "output_type": "stream",
          "name": "stdout",
          "text": [
            " DF SHAPE: (41157, 4)\n",
            " DF TEST SHAPE: (3798, 4)\n"
          ]
        }
      ],
      "source": [
        "print(f\" DF SHAPE: {df.shape}\")\n",
        "print(f\" DF TEST SHAPE: {df_test.shape}\")"
      ]
    },
    {
      "cell_type": "code",
      "execution_count": 26,
      "metadata": {
        "execution": {
          "iopub.execute_input": "2023-12-16T15:48:18.395512Z",
          "iopub.status.busy": "2023-12-16T15:48:18.394890Z",
          "iopub.status.idle": "2023-12-16T15:48:18.410267Z",
          "shell.execute_reply": "2023-12-16T15:48:18.409152Z",
          "shell.execute_reply.started": "2023-12-16T15:48:18.395475Z"
        },
        "id": "qRsrI3AEmz1q",
        "trusted": true
      },
      "outputs": [],
      "source": [
        "df = df[df['text_len'] > 4]"
      ]
    },
    {
      "cell_type": "code",
      "execution_count": 27,
      "metadata": {
        "execution": {
          "iopub.execute_input": "2023-12-16T15:48:18.412320Z",
          "iopub.status.busy": "2023-12-16T15:48:18.411914Z",
          "iopub.status.idle": "2023-12-16T15:48:18.419649Z",
          "shell.execute_reply": "2023-12-16T15:48:18.418661Z",
          "shell.execute_reply.started": "2023-12-16T15:48:18.412281Z"
        },
        "id": "_s97lRZpmz1q",
        "trusted": true
      },
      "outputs": [],
      "source": [
        "df_test = df_test[df_test['text_len'] > 4]"
      ]
    },
    {
      "cell_type": "code",
      "execution_count": 28,
      "metadata": {
        "colab": {
          "base_uri": "https://localhost:8080/"
        },
        "execution": {
          "iopub.execute_input": "2023-12-16T15:48:18.422984Z",
          "iopub.status.busy": "2023-12-16T15:48:18.422387Z",
          "iopub.status.idle": "2023-12-16T15:48:18.428798Z",
          "shell.execute_reply": "2023-12-16T15:48:18.427917Z",
          "shell.execute_reply.started": "2023-12-16T15:48:18.422951Z"
        },
        "id": "wMGz7a_dmz1q",
        "outputId": "d053d636-47c6-48d2-f0d0-3d2920fde60b",
        "trusted": true
      },
      "outputs": [
        {
          "output_type": "stream",
          "name": "stdout",
          "text": [
            " DF SHAPE: (40935, 4)\n",
            " DF TEST SHAPE: (3792, 4)\n"
          ]
        }
      ],
      "source": [
        "print(f\" DF SHAPE: {df.shape}\")\n",
        "print(f\" DF TEST SHAPE: {df_test.shape}\")"
      ]
    },
    {
      "cell_type": "code",
      "execution_count": 29,
      "metadata": {
        "colab": {
          "base_uri": "https://localhost:8080/"
        },
        "execution": {
          "iopub.execute_input": "2023-12-16T15:48:18.430915Z",
          "iopub.status.busy": "2023-12-16T15:48:18.430235Z",
          "iopub.status.idle": "2023-12-16T15:48:30.438918Z",
          "shell.execute_reply": "2023-12-16T15:48:30.437732Z",
          "shell.execute_reply.started": "2023-12-16T15:48:18.430877Z"
        },
        "id": "jxb69cqGhqVc",
        "outputId": "33ba9a6d-96dd-4650-8be0-0ec571bf5141",
        "trusted": true
      },
      "outputs": [
        {
          "output_type": "stream",
          "name": "stdout",
          "text": [
            "Collecting sentencepiece\n",
            "  Downloading sentencepiece-0.1.99-cp310-cp310-manylinux_2_17_x86_64.manylinux2014_x86_64.whl (1.3 MB)\n",
            "\u001b[2K     \u001b[90m━━━━━━━━━━━━━━━━━━━━━━━━━━━━━━━━━━━━━━━━\u001b[0m \u001b[32m1.3/1.3 MB\u001b[0m \u001b[31m11.1 MB/s\u001b[0m eta \u001b[36m0:00:00\u001b[0m\n",
            "\u001b[?25hInstalling collected packages: sentencepiece\n",
            "Successfully installed sentencepiece-0.1.99\n"
          ]
        }
      ],
      "source": [
        "!pip install sentencepiece\n",
        "import sentencepiece as spm"
      ]
    },
    {
      "cell_type": "code",
      "execution_count": 30,
      "metadata": {
        "colab": {
          "base_uri": "https://localhost:8080/",
          "height": 209,
          "referenced_widgets": [
            "72276203c4524ccfb8b907837e0dea0d",
            "71179c5aab30456aae8fbf29e8708550",
            "941b1c06bb0142779e94e1692c98d408",
            "77cc4180d6f1414493ca82dde23c97c6",
            "3271e17a2a3f46d39f5e28d9941f0ff8",
            "9f0f40bee8ad46389ef6927728fd8151",
            "9c96455af8014fa3a29832b9ab7a773d",
            "7fb1a3673d1a475b8bc52a64cc621bd4",
            "61fd84a9346a4847923415ff1cdb27c5",
            "4737c99f83ab4bcc8b14eca38a8cecc8",
            "47012c7763994564b40968c986d21661",
            "c6518ec7df0a4a65b47051e0d344aab4",
            "e433c772fb854157ab7b74ad6582c665",
            "bae5e8f5e8b8485e85841b2852a2eec1",
            "f3f325d54ca84aa286abeb9be9a6dfc7",
            "6419a3cd9a6948b999131903c2c823ea",
            "96a0ade41a524c0cafedbbadd9c470a0",
            "1a056a7a1e7a45e185c91ed6461ae625",
            "f13f4da9aae643dfb18938138c8271c7",
            "b91a2b0cdb69464caf87d40c5114909f",
            "c43cf88a62f44bf690f6ed1e2ee3b3ec",
            "e35506cf23e0434ea85cc40eb4c41402",
            "37a7436db0ba462283e599b47ac32ab1",
            "4b0c0fc4cfbe4be3a4bbb9c8bc4f1f4e",
            "e9623f9d6b91432295d3722fd8dd4b53",
            "c975881b983540bbb6d4df83813abb69",
            "4a9bbc273df847bc8f877b55aec37c44",
            "fcefb7026e40488b824b990566da8a52",
            "adcb1c067c6045888b0ce818c6084945",
            "a54a5cb55b5c47d3b64c1505b7905272",
            "cdf2611e325248c38bf693c7bfc8a531",
            "70d2e309df884d58a3edd7503d156b50",
            "ae102c8e9e314cddb596b856d2086783",
            "26f9e0b9b45841db8eb45a27f79e1b75",
            "dc264e6dce9a429f979e382e51b00d90",
            "80f8f5551e464b7eaf41a9c85759db38",
            "5c2291c8f3ac499582f5343901ad25ae",
            "c9ffcc6f61c14a1e9e85cd9e08426538",
            "f715dabaa44e41249d603cb5f26a822d",
            "45c4c81bc0744ab3b63a563a62e58cdf",
            "fada492205044bde875beb2f2d771c8d",
            "de4016b845a2442fbf85fe5a80be21f6",
            "a6ffb70578564b4f8226a16b36fdfd9e",
            "6e7f57a7e3ce465587559ea8f8b59343",
            "b2aa860982f844f1b3c90f01e78667f4",
            "f95e06347f2948abbc140d590ac667f0",
            "d1f22c140cfb45b9a29a4093bd964118",
            "c2c820c78fb34f66a2e7c0f56fcf3276",
            "2d20967d2b8e437287295af82d63ab17",
            "3529e1fbab0b4038947d739aebe20e43",
            "7f977ab01e944b64ac1dd81559ba5db7",
            "bdf30ddc631847bf9f4b235fdc9e3afd",
            "31674c0836424720b6ca1456720d5418",
            "4bf674de61b344af911af79ff081f0f1",
            "eb3072cbd7c84b04a13d0b37b53c5d9c",
            "f0d63519fa5b46d3986f4e2bf3d59b70",
            "0b58b0d23ab64dd4ac8e4093493ea125",
            "444d259669c54e189c1c03172aba94f4",
            "7daf00f7710b44ddb63140a9ee410ed9",
            "b3f61a2fdebf4d3aa5491b6bd9745968",
            "3600e2f109664f798723ea3daadd38d9",
            "0ce4a3d228bf4e578f9a379792d763ef",
            "be522d5c283e47ebb0e814004701976f",
            "01227c1afc0c4b8488fc79cdf9205ec3",
            "a0a0f553d72349ef993400620bede066",
            "711622c3bd8142158d04b1dee8aff552"
          ]
        },
        "execution": {
          "iopub.execute_input": "2023-12-16T15:48:30.441015Z",
          "iopub.status.busy": "2023-12-16T15:48:30.440671Z",
          "iopub.status.idle": "2023-12-16T15:48:30.677641Z",
          "shell.execute_reply": "2023-12-16T15:48:30.676827Z",
          "shell.execute_reply.started": "2023-12-16T15:48:30.440982Z"
        },
        "id": "Ssv9Af-nmz1q",
        "outputId": "89f43e81-a94f-497c-8372-fb156de4c08a",
        "trusted": true
      },
      "outputs": [
        {
          "output_type": "display_data",
          "data": {
            "text/plain": [
              "tokenizer_config.json:   0%|          | 0.00/1.08k [00:00<?, ?B/s]"
            ],
            "application/vnd.jupyter.widget-view+json": {
              "version_major": 2,
              "version_minor": 0,
              "model_id": "72276203c4524ccfb8b907837e0dea0d"
            }
          },
          "metadata": {}
        },
        {
          "output_type": "display_data",
          "data": {
            "text/plain": [
              "config.json:   0%|          | 0.00/541 [00:00<?, ?B/s]"
            ],
            "application/vnd.jupyter.widget-view+json": {
              "version_major": 2,
              "version_minor": 0,
              "model_id": "c6518ec7df0a4a65b47051e0d344aab4"
            }
          },
          "metadata": {}
        },
        {
          "output_type": "display_data",
          "data": {
            "text/plain": [
              "vocab.json:   0%|          | 0.00/899k [00:00<?, ?B/s]"
            ],
            "application/vnd.jupyter.widget-view+json": {
              "version_major": 2,
              "version_minor": 0,
              "model_id": "37a7436db0ba462283e599b47ac32ab1"
            }
          },
          "metadata": {}
        },
        {
          "output_type": "display_data",
          "data": {
            "text/plain": [
              "merges.txt:   0%|          | 0.00/456k [00:00<?, ?B/s]"
            ],
            "application/vnd.jupyter.widget-view+json": {
              "version_major": 2,
              "version_minor": 0,
              "model_id": "26f9e0b9b45841db8eb45a27f79e1b75"
            }
          },
          "metadata": {}
        },
        {
          "output_type": "display_data",
          "data": {
            "text/plain": [
              "tokenizer.json:   0%|          | 0.00/1.36M [00:00<?, ?B/s]"
            ],
            "application/vnd.jupyter.widget-view+json": {
              "version_major": 2,
              "version_minor": 0,
              "model_id": "b2aa860982f844f1b3c90f01e78667f4"
            }
          },
          "metadata": {}
        },
        {
          "output_type": "display_data",
          "data": {
            "text/plain": [
              "special_tokens_map.json:   0%|          | 0.00/772 [00:00<?, ?B/s]"
            ],
            "application/vnd.jupyter.widget-view+json": {
              "version_major": 2,
              "version_minor": 0,
              "model_id": "f0d63519fa5b46d3986f4e2bf3d59b70"
            }
          },
          "metadata": {}
        }
      ],
      "source": [
        "from transformers import AutoTokenizer\n",
        "\n",
        "tokenizer = AutoTokenizer.from_pretrained(\"kssteven/ibert-roberta-base\")"
      ]
    },
    {
      "cell_type": "code",
      "execution_count": 31,
      "metadata": {
        "execution": {
          "iopub.execute_input": "2023-12-16T15:48:30.678981Z",
          "iopub.status.busy": "2023-12-16T15:48:30.678718Z",
          "iopub.status.idle": "2023-12-16T15:48:38.205628Z",
          "shell.execute_reply": "2023-12-16T15:48:38.204746Z",
          "shell.execute_reply.started": "2023-12-16T15:48:30.678957Z"
        },
        "id": "9TqJH3hamz1q",
        "trusted": true
      },
      "outputs": [],
      "source": [
        "token_lens = []\n",
        "\n",
        "for txt in df['text_clean'].values:\n",
        "    tokens = tokenizer.encode(txt, max_length=512, truncation=True)\n",
        "    token_lens.append(len(tokens))\n",
        "\n",
        "max_len=np.max(token_lens)"
      ]
    },
    {
      "cell_type": "code",
      "execution_count": 32,
      "metadata": {
        "colab": {
          "base_uri": "https://localhost:8080/"
        },
        "execution": {
          "iopub.execute_input": "2023-12-16T15:48:38.207053Z",
          "iopub.status.busy": "2023-12-16T15:48:38.206760Z",
          "iopub.status.idle": "2023-12-16T15:48:38.211991Z",
          "shell.execute_reply": "2023-12-16T15:48:38.211074Z",
          "shell.execute_reply.started": "2023-12-16T15:48:38.207026Z"
        },
        "id": "fmMBW3Z9mz1r",
        "outputId": "2085b839-7bed-404a-af89-aa1645056823",
        "trusted": true
      },
      "outputs": [
        {
          "output_type": "stream",
          "name": "stdout",
          "text": [
            "MAX TOKENIZED SENTENCE LENGTH: 107\n"
          ]
        }
      ],
      "source": [
        "print(f\"MAX TOKENIZED SENTENCE LENGTH: {max_len}\")"
      ]
    },
    {
      "cell_type": "code",
      "execution_count": 33,
      "metadata": {
        "colab": {
          "base_uri": "https://localhost:8080/"
        },
        "execution": {
          "iopub.execute_input": "2023-12-16T15:48:38.213228Z",
          "iopub.status.busy": "2023-12-16T15:48:38.212965Z",
          "iopub.status.idle": "2023-12-16T15:48:45.893564Z",
          "shell.execute_reply": "2023-12-16T15:48:45.892694Z",
          "shell.execute_reply.started": "2023-12-16T15:48:38.213205Z"
        },
        "id": "c86KgBAPmz1r",
        "outputId": "a0b39ef6-56a6-44e2-cad9-74d8d11f251c",
        "trusted": true
      },
      "outputs": [
        {
          "output_type": "stream",
          "name": "stdout",
          "text": [
            "INDEX: 1622, TEXT: zsah policie proti spekulantm s roukami na mj popud hejtman steckho kraje ve spoluprci s podle krizovho zkona zajistil tm 700 tisrouek od firmy kter je mla dodat na zdravotnkm ale na posledn chvli se snaila navyovat cenu spolutozvladneme\n",
            "INDEX: 8689, TEXT: bitte anschauen 12 emotionaler aufruf von gehard bosselmann aus hannover bitte gehen sie zu ihrem bcker um die ecke schei egal wie der heit bitte gehen sie hin bcker mittelstand handwerk landbckereibosselmann hannover emsland covid19 coronavirus\n",
            "INDEX: 11155, TEXT: keine wertgegenstnde im fahrzeug lassen diesen tipp sollte man am besten immer amp nicht nur in zeiten von corona befolgen in wrselen wurde die scheibe eines pkw eingeschlagen amp mehrere rollen klopapier gestohlen\n",
            "INDEX: 13623, TEXT: hoy aplaudo a mi segunda familia aplaudoanuestrosheroes aquellos con los que he compartido tantas noches de trabajo y tanta alegra s que como siempre dan todo por el bien de su comunidad presidente por ellos tambin cuarentenanacionalya cuidemosalosquecuidan\n",
            "INDEX: 14509, TEXT: hiked prices in the face of the covid19 crises are listed below mas bazar 265 whitchaple road e1 1jn syldon bazaar 84 plashet rd e13 0rq fish bazar 137 chapman street e1 2ph bondor bazar 131132 chapman street e1 2ph rahim brother limited 216218 mile end roa\n",
            "INDEX: 14520, TEXT: na wer war denn da am werk gestern nachmittag konnten anwohnerinnen des stadtteil praunheim in frankfurt diese aktion bestaunen wer dafr verantwortlich ist ist unklar danke an melanie theiss fr die zusendung des fotos bild elizabeth maks\n",
            "INDEX: 16548, TEXT: bir mddettir spermarketlerin lojistik hizmeti avusturya ordusu desteiyle yaplyor dn corona tedavisi iin 22 milyon luk bir aratrma gelitirme btesi aklad hkmet geen hafta da 35 milyon luk 2 yardm paketi aklanmt viyanadan haberler bu kadar\n",
            "INDEX: 26871, TEXT: supermercados econo confirman que un empleado administrativo del centro de distribucin en carolina que entrega suministros a los supermercados de la cadena en la isla dio positivo al coronaviruspr el empleado ya llevaba 14 das trabajando de forma remota\n",
            "INDEX: 28834, TEXT: pm of india mr narendrea modi has taken very right step at right time modi rocks others shocks narendramodi narendermodi coronavirus india indiabattlescoronavirus indiafightscorona indiavscorona sanitizer covid2019 covid covid19 covid19india bbc cnn cnbc\n",
            "INDEX: 30052, TEXT: lda city lahore residential files prices update lda city lahore 5 marla 2200 lacs lda city lahore 10 marla 3200 lacs lda city lahore 1 kanal 5100 lacs notenext ballot will be held on 18th april 2020 mian waqas 923334177716 pandemic coronavirusinpakistan covid19\n",
            "INDEX: 36953, TEXT: 11 nisan cumartesi itibariyle bbnin tm hizmetleri sokaa kma serbestisi olanlar iin devam edecek halk ekmek ve hamidiye su 100 retime geti bb tm stanbulun gda ihtiyacna yetecek kapasitededir halkmz sakin olsun ve gvende hissetsin ltfen herkes evine dnsn\n"
          ]
        }
      ],
      "source": [
        "token_lens = []\n",
        "\n",
        "for i,txt in enumerate(df['text_clean'].values):\n",
        "    tokens = tokenizer.encode(txt, max_length=512, truncation=True)\n",
        "    token_lens.append(len(tokens))\n",
        "    if len(tokens)>80:\n",
        "        print(f\"INDEX: {i}, TEXT: {txt}\")"
      ]
    },
    {
      "cell_type": "code",
      "execution_count": 34,
      "metadata": {
        "execution": {
          "iopub.execute_input": "2023-12-16T15:48:45.895015Z",
          "iopub.status.busy": "2023-12-16T15:48:45.894719Z",
          "iopub.status.idle": "2023-12-16T15:48:45.917924Z",
          "shell.execute_reply": "2023-12-16T15:48:45.917057Z",
          "shell.execute_reply.started": "2023-12-16T15:48:45.894989Z"
        },
        "id": "muU0cxGEmz1r",
        "trusted": true
      },
      "outputs": [],
      "source": [
        "df['token_lens'] = token_lens"
      ]
    },
    {
      "cell_type": "code",
      "execution_count": 35,
      "metadata": {
        "colab": {
          "base_uri": "https://localhost:8080/",
          "height": 746
        },
        "execution": {
          "iopub.execute_input": "2023-12-16T15:48:45.920040Z",
          "iopub.status.busy": "2023-12-16T15:48:45.919199Z",
          "iopub.status.idle": "2023-12-16T15:48:45.953062Z",
          "shell.execute_reply": "2023-12-16T15:48:45.952277Z",
          "shell.execute_reply.started": "2023-12-16T15:48:45.920013Z"
        },
        "id": "QjSmmwaumz1r",
        "outputId": "64a1c154-4698-49c5-d392-205f4d1e247b",
        "trusted": true
      },
      "outputs": [
        {
          "output_type": "execute_result",
          "data": {
            "text/plain": [
              "                                           OriginalTweet           Sentiment  \\\n",
              "37156  11 Nisan Cumartesi itibariyle ?BBÂnin tÃ¼m hi...             Neutral   \n",
              "1638   ZÃ¡sah policie proti spekulant?m s rouÂkami. ...             Neutral   \n",
              "16632  Bir mÃ¼ddettir sÃ¼permarketlerin lojistik hizm...             Neutral   \n",
              "13691  Hoy aplaudo a mi segunda familia #AplaudoANues...             Neutral   \n",
              "8730   ?Bitte anschauen! (1/2)\\r\\r\\n\\r\\r\\nEmotionaler...            Negative   \n",
              "14593  Na, wer war denn da am Werk? Gestern Nachmitta...  Extremely Negative   \n",
              "28978  PM OF INDIA MR. NARENDREA MODI HAS TAKEN VERY ...            Negative   \n",
              "30206  #LDA City Lahore Residential Files Prices Upda...             Neutral   \n",
              "11213  Keine WertgegenstÃ¤nde im Fahrzeug lassen! - D...            Negative   \n",
              "14582  hiked prices in the face of the Covid-19 crise...            Negative   \n",
              "27005  Supermercados Econo confirman que un empleado ...             Neutral   \n",
              "26678  Eine wahre #CoronaGeschichte:\\r\\r\\n\\r\\r\\nWenn ...             Neutral   \n",
              "4844   Impct of #coronavirus i hve sen hw civilizd pp...  Extremely Negative   \n",
              "35512  Hand Sanitizer Gel type 500ml \\r\\r\\nRM 55 \\r\\r...  Extremely Positive   \n",
              "9238   Hi @Zomato I felt hungry loggd in ur app tryd ...  Extremely Positive   \n",
              "9027   La escena se repite alrededor del mundo: desde...             Neutral   \n",
              "11106  Which global recession? V or U or L or I? For ...            Negative   \n",
              "8272   Francisco shared this photo with us from Santa...            Positive   \n",
              "34288  $BRZL Scepter Holdings, Inc., Developing Hand ...            Positive   \n",
              "22046  This #Afternoon:  At BS I couldn't buy scratch...            Positive   \n",
              "\n",
              "                                              text_clean  text_len  token_lens  \n",
              "37156  11 nisan cumartesi itibariyle bbnin tm hizmetl...        39         107  \n",
              "1638   zsah policie proti spekulantm s roukami na mj ...        39         102  \n",
              "16632  bir mddettir spermarketlerin lojistik hizmeti ...        36          99  \n",
              "13691  hoy aplaudo a mi segunda familia aplaudoanuest...        38          91  \n",
              "8730   bitte anschauen 12 emotionaler aufruf von geha...        36          89  \n",
              "14593  na wer war denn da am werk gestern nachmittag ...        37          86  \n",
              "28978  pm of india mr narendrea modi has taken very r...        33          86  \n",
              "30206  lda city lahore residential files prices updat...        43          85  \n",
              "11213  keine wertgegenstnde im fahrzeug lassen diesen...        33          82  \n",
              "14582  hiked prices in the face of the covid19 crises...        47          82  \n",
              "27005  supermercados econo confirman que un empleado ...        39          81  \n",
              "26678  eine wahre coronageschichte wenn dir an der su...        29          80  \n",
              "4844   impct of coronavirus i hve sen hw civilizd ppl...        48          80  \n",
              "35512  hand sanitizer gel type 500ml rm 55 exd postag...        32          79  \n",
              "9238   hi i felt hungry loggd in ur app tryd to add 4...        55          78  \n",
              "9027   la escena se repite alrededor del mundo desde ...        38          77  \n",
              "11106  which global recession v or u or l or i for no...        64          75  \n",
              "8272   francisco shared this photo with us from santa...        45          75  \n",
              "34288  brzl scepter holdings inc developing hand sani...        36          75  \n",
              "22046  this afternoon at bs i couldnt buy scratchers ...        55          75  "
            ],
            "text/html": [
              "\n",
              "  <div id=\"df-28c6aedd-a238-49e1-b1b4-7b8cdf90ba25\" class=\"colab-df-container\">\n",
              "    <div>\n",
              "<style scoped>\n",
              "    .dataframe tbody tr th:only-of-type {\n",
              "        vertical-align: middle;\n",
              "    }\n",
              "\n",
              "    .dataframe tbody tr th {\n",
              "        vertical-align: top;\n",
              "    }\n",
              "\n",
              "    .dataframe thead th {\n",
              "        text-align: right;\n",
              "    }\n",
              "</style>\n",
              "<table border=\"1\" class=\"dataframe\">\n",
              "  <thead>\n",
              "    <tr style=\"text-align: right;\">\n",
              "      <th></th>\n",
              "      <th>OriginalTweet</th>\n",
              "      <th>Sentiment</th>\n",
              "      <th>text_clean</th>\n",
              "      <th>text_len</th>\n",
              "      <th>token_lens</th>\n",
              "    </tr>\n",
              "  </thead>\n",
              "  <tbody>\n",
              "    <tr>\n",
              "      <th>37156</th>\n",
              "      <td>11 Nisan Cumartesi itibariyle ?BBÂnin tÃ¼m hi...</td>\n",
              "      <td>Neutral</td>\n",
              "      <td>11 nisan cumartesi itibariyle bbnin tm hizmetl...</td>\n",
              "      <td>39</td>\n",
              "      <td>107</td>\n",
              "    </tr>\n",
              "    <tr>\n",
              "      <th>1638</th>\n",
              "      <td>ZÃ¡sah policie proti spekulant?m s rouÂkami. ...</td>\n",
              "      <td>Neutral</td>\n",
              "      <td>zsah policie proti spekulantm s roukami na mj ...</td>\n",
              "      <td>39</td>\n",
              "      <td>102</td>\n",
              "    </tr>\n",
              "    <tr>\n",
              "      <th>16632</th>\n",
              "      <td>Bir mÃ¼ddettir sÃ¼permarketlerin lojistik hizm...</td>\n",
              "      <td>Neutral</td>\n",
              "      <td>bir mddettir spermarketlerin lojistik hizmeti ...</td>\n",
              "      <td>36</td>\n",
              "      <td>99</td>\n",
              "    </tr>\n",
              "    <tr>\n",
              "      <th>13691</th>\n",
              "      <td>Hoy aplaudo a mi segunda familia #AplaudoANues...</td>\n",
              "      <td>Neutral</td>\n",
              "      <td>hoy aplaudo a mi segunda familia aplaudoanuest...</td>\n",
              "      <td>38</td>\n",
              "      <td>91</td>\n",
              "    </tr>\n",
              "    <tr>\n",
              "      <th>8730</th>\n",
              "      <td>?Bitte anschauen! (1/2)\\r\\r\\n\\r\\r\\nEmotionaler...</td>\n",
              "      <td>Negative</td>\n",
              "      <td>bitte anschauen 12 emotionaler aufruf von geha...</td>\n",
              "      <td>36</td>\n",
              "      <td>89</td>\n",
              "    </tr>\n",
              "    <tr>\n",
              "      <th>14593</th>\n",
              "      <td>Na, wer war denn da am Werk? Gestern Nachmitta...</td>\n",
              "      <td>Extremely Negative</td>\n",
              "      <td>na wer war denn da am werk gestern nachmittag ...</td>\n",
              "      <td>37</td>\n",
              "      <td>86</td>\n",
              "    </tr>\n",
              "    <tr>\n",
              "      <th>28978</th>\n",
              "      <td>PM OF INDIA MR. NARENDREA MODI HAS TAKEN VERY ...</td>\n",
              "      <td>Negative</td>\n",
              "      <td>pm of india mr narendrea modi has taken very r...</td>\n",
              "      <td>33</td>\n",
              "      <td>86</td>\n",
              "    </tr>\n",
              "    <tr>\n",
              "      <th>30206</th>\n",
              "      <td>#LDA City Lahore Residential Files Prices Upda...</td>\n",
              "      <td>Neutral</td>\n",
              "      <td>lda city lahore residential files prices updat...</td>\n",
              "      <td>43</td>\n",
              "      <td>85</td>\n",
              "    </tr>\n",
              "    <tr>\n",
              "      <th>11213</th>\n",
              "      <td>Keine WertgegenstÃ¤nde im Fahrzeug lassen! - D...</td>\n",
              "      <td>Negative</td>\n",
              "      <td>keine wertgegenstnde im fahrzeug lassen diesen...</td>\n",
              "      <td>33</td>\n",
              "      <td>82</td>\n",
              "    </tr>\n",
              "    <tr>\n",
              "      <th>14582</th>\n",
              "      <td>hiked prices in the face of the Covid-19 crise...</td>\n",
              "      <td>Negative</td>\n",
              "      <td>hiked prices in the face of the covid19 crises...</td>\n",
              "      <td>47</td>\n",
              "      <td>82</td>\n",
              "    </tr>\n",
              "    <tr>\n",
              "      <th>27005</th>\n",
              "      <td>Supermercados Econo confirman que un empleado ...</td>\n",
              "      <td>Neutral</td>\n",
              "      <td>supermercados econo confirman que un empleado ...</td>\n",
              "      <td>39</td>\n",
              "      <td>81</td>\n",
              "    </tr>\n",
              "    <tr>\n",
              "      <th>26678</th>\n",
              "      <td>Eine wahre #CoronaGeschichte:\\r\\r\\n\\r\\r\\nWenn ...</td>\n",
              "      <td>Neutral</td>\n",
              "      <td>eine wahre coronageschichte wenn dir an der su...</td>\n",
              "      <td>29</td>\n",
              "      <td>80</td>\n",
              "    </tr>\n",
              "    <tr>\n",
              "      <th>4844</th>\n",
              "      <td>Impct of #coronavirus i hve sen hw civilizd pp...</td>\n",
              "      <td>Extremely Negative</td>\n",
              "      <td>impct of coronavirus i hve sen hw civilizd ppl...</td>\n",
              "      <td>48</td>\n",
              "      <td>80</td>\n",
              "    </tr>\n",
              "    <tr>\n",
              "      <th>35512</th>\n",
              "      <td>Hand Sanitizer Gel type 500ml \\r\\r\\nRM 55 \\r\\r...</td>\n",
              "      <td>Extremely Positive</td>\n",
              "      <td>hand sanitizer gel type 500ml rm 55 exd postag...</td>\n",
              "      <td>32</td>\n",
              "      <td>79</td>\n",
              "    </tr>\n",
              "    <tr>\n",
              "      <th>9238</th>\n",
              "      <td>Hi @Zomato I felt hungry loggd in ur app tryd ...</td>\n",
              "      <td>Extremely Positive</td>\n",
              "      <td>hi i felt hungry loggd in ur app tryd to add 4...</td>\n",
              "      <td>55</td>\n",
              "      <td>78</td>\n",
              "    </tr>\n",
              "    <tr>\n",
              "      <th>9027</th>\n",
              "      <td>La escena se repite alrededor del mundo: desde...</td>\n",
              "      <td>Neutral</td>\n",
              "      <td>la escena se repite alrededor del mundo desde ...</td>\n",
              "      <td>38</td>\n",
              "      <td>77</td>\n",
              "    </tr>\n",
              "    <tr>\n",
              "      <th>11106</th>\n",
              "      <td>Which global recession? V or U or L or I? For ...</td>\n",
              "      <td>Negative</td>\n",
              "      <td>which global recession v or u or l or i for no...</td>\n",
              "      <td>64</td>\n",
              "      <td>75</td>\n",
              "    </tr>\n",
              "    <tr>\n",
              "      <th>8272</th>\n",
              "      <td>Francisco shared this photo with us from Santa...</td>\n",
              "      <td>Positive</td>\n",
              "      <td>francisco shared this photo with us from santa...</td>\n",
              "      <td>45</td>\n",
              "      <td>75</td>\n",
              "    </tr>\n",
              "    <tr>\n",
              "      <th>34288</th>\n",
              "      <td>$BRZL Scepter Holdings, Inc., Developing Hand ...</td>\n",
              "      <td>Positive</td>\n",
              "      <td>brzl scepter holdings inc developing hand sani...</td>\n",
              "      <td>36</td>\n",
              "      <td>75</td>\n",
              "    </tr>\n",
              "    <tr>\n",
              "      <th>22046</th>\n",
              "      <td>This #Afternoon:  At BS I couldn't buy scratch...</td>\n",
              "      <td>Positive</td>\n",
              "      <td>this afternoon at bs i couldnt buy scratchers ...</td>\n",
              "      <td>55</td>\n",
              "      <td>75</td>\n",
              "    </tr>\n",
              "  </tbody>\n",
              "</table>\n",
              "</div>\n",
              "    <div class=\"colab-df-buttons\">\n",
              "\n",
              "  <div class=\"colab-df-container\">\n",
              "    <button class=\"colab-df-convert\" onclick=\"convertToInteractive('df-28c6aedd-a238-49e1-b1b4-7b8cdf90ba25')\"\n",
              "            title=\"Convert this dataframe to an interactive table.\"\n",
              "            style=\"display:none;\">\n",
              "\n",
              "  <svg xmlns=\"http://www.w3.org/2000/svg\" height=\"24px\" viewBox=\"0 -960 960 960\">\n",
              "    <path d=\"M120-120v-720h720v720H120Zm60-500h600v-160H180v160Zm220 220h160v-160H400v160Zm0 220h160v-160H400v160ZM180-400h160v-160H180v160Zm440 0h160v-160H620v160ZM180-180h160v-160H180v160Zm440 0h160v-160H620v160Z\"/>\n",
              "  </svg>\n",
              "    </button>\n",
              "\n",
              "  <style>\n",
              "    .colab-df-container {\n",
              "      display:flex;\n",
              "      gap: 12px;\n",
              "    }\n",
              "\n",
              "    .colab-df-convert {\n",
              "      background-color: #E8F0FE;\n",
              "      border: none;\n",
              "      border-radius: 50%;\n",
              "      cursor: pointer;\n",
              "      display: none;\n",
              "      fill: #1967D2;\n",
              "      height: 32px;\n",
              "      padding: 0 0 0 0;\n",
              "      width: 32px;\n",
              "    }\n",
              "\n",
              "    .colab-df-convert:hover {\n",
              "      background-color: #E2EBFA;\n",
              "      box-shadow: 0px 1px 2px rgba(60, 64, 67, 0.3), 0px 1px 3px 1px rgba(60, 64, 67, 0.15);\n",
              "      fill: #174EA6;\n",
              "    }\n",
              "\n",
              "    .colab-df-buttons div {\n",
              "      margin-bottom: 4px;\n",
              "    }\n",
              "\n",
              "    [theme=dark] .colab-df-convert {\n",
              "      background-color: #3B4455;\n",
              "      fill: #D2E3FC;\n",
              "    }\n",
              "\n",
              "    [theme=dark] .colab-df-convert:hover {\n",
              "      background-color: #434B5C;\n",
              "      box-shadow: 0px 1px 3px 1px rgba(0, 0, 0, 0.15);\n",
              "      filter: drop-shadow(0px 1px 2px rgba(0, 0, 0, 0.3));\n",
              "      fill: #FFFFFF;\n",
              "    }\n",
              "  </style>\n",
              "\n",
              "    <script>\n",
              "      const buttonEl =\n",
              "        document.querySelector('#df-28c6aedd-a238-49e1-b1b4-7b8cdf90ba25 button.colab-df-convert');\n",
              "      buttonEl.style.display =\n",
              "        google.colab.kernel.accessAllowed ? 'block' : 'none';\n",
              "\n",
              "      async function convertToInteractive(key) {\n",
              "        const element = document.querySelector('#df-28c6aedd-a238-49e1-b1b4-7b8cdf90ba25');\n",
              "        const dataTable =\n",
              "          await google.colab.kernel.invokeFunction('convertToInteractive',\n",
              "                                                    [key], {});\n",
              "        if (!dataTable) return;\n",
              "\n",
              "        const docLinkHtml = 'Like what you see? Visit the ' +\n",
              "          '<a target=\"_blank\" href=https://colab.research.google.com/notebooks/data_table.ipynb>data table notebook</a>'\n",
              "          + ' to learn more about interactive tables.';\n",
              "        element.innerHTML = '';\n",
              "        dataTable['output_type'] = 'display_data';\n",
              "        await google.colab.output.renderOutput(dataTable, element);\n",
              "        const docLink = document.createElement('div');\n",
              "        docLink.innerHTML = docLinkHtml;\n",
              "        element.appendChild(docLink);\n",
              "      }\n",
              "    </script>\n",
              "  </div>\n",
              "\n",
              "\n",
              "<div id=\"df-fac323b8-83db-4d89-b5ef-b8c089de8839\">\n",
              "  <button class=\"colab-df-quickchart\" onclick=\"quickchart('df-fac323b8-83db-4d89-b5ef-b8c089de8839')\"\n",
              "            title=\"Suggest charts\"\n",
              "            style=\"display:none;\">\n",
              "\n",
              "<svg xmlns=\"http://www.w3.org/2000/svg\" height=\"24px\"viewBox=\"0 0 24 24\"\n",
              "     width=\"24px\">\n",
              "    <g>\n",
              "        <path d=\"M19 3H5c-1.1 0-2 .9-2 2v14c0 1.1.9 2 2 2h14c1.1 0 2-.9 2-2V5c0-1.1-.9-2-2-2zM9 17H7v-7h2v7zm4 0h-2V7h2v10zm4 0h-2v-4h2v4z\"/>\n",
              "    </g>\n",
              "</svg>\n",
              "  </button>\n",
              "\n",
              "<style>\n",
              "  .colab-df-quickchart {\n",
              "      --bg-color: #E8F0FE;\n",
              "      --fill-color: #1967D2;\n",
              "      --hover-bg-color: #E2EBFA;\n",
              "      --hover-fill-color: #174EA6;\n",
              "      --disabled-fill-color: #AAA;\n",
              "      --disabled-bg-color: #DDD;\n",
              "  }\n",
              "\n",
              "  [theme=dark] .colab-df-quickchart {\n",
              "      --bg-color: #3B4455;\n",
              "      --fill-color: #D2E3FC;\n",
              "      --hover-bg-color: #434B5C;\n",
              "      --hover-fill-color: #FFFFFF;\n",
              "      --disabled-bg-color: #3B4455;\n",
              "      --disabled-fill-color: #666;\n",
              "  }\n",
              "\n",
              "  .colab-df-quickchart {\n",
              "    background-color: var(--bg-color);\n",
              "    border: none;\n",
              "    border-radius: 50%;\n",
              "    cursor: pointer;\n",
              "    display: none;\n",
              "    fill: var(--fill-color);\n",
              "    height: 32px;\n",
              "    padding: 0;\n",
              "    width: 32px;\n",
              "  }\n",
              "\n",
              "  .colab-df-quickchart:hover {\n",
              "    background-color: var(--hover-bg-color);\n",
              "    box-shadow: 0 1px 2px rgba(60, 64, 67, 0.3), 0 1px 3px 1px rgba(60, 64, 67, 0.15);\n",
              "    fill: var(--button-hover-fill-color);\n",
              "  }\n",
              "\n",
              "  .colab-df-quickchart-complete:disabled,\n",
              "  .colab-df-quickchart-complete:disabled:hover {\n",
              "    background-color: var(--disabled-bg-color);\n",
              "    fill: var(--disabled-fill-color);\n",
              "    box-shadow: none;\n",
              "  }\n",
              "\n",
              "  .colab-df-spinner {\n",
              "    border: 2px solid var(--fill-color);\n",
              "    border-color: transparent;\n",
              "    border-bottom-color: var(--fill-color);\n",
              "    animation:\n",
              "      spin 1s steps(1) infinite;\n",
              "  }\n",
              "\n",
              "  @keyframes spin {\n",
              "    0% {\n",
              "      border-color: transparent;\n",
              "      border-bottom-color: var(--fill-color);\n",
              "      border-left-color: var(--fill-color);\n",
              "    }\n",
              "    20% {\n",
              "      border-color: transparent;\n",
              "      border-left-color: var(--fill-color);\n",
              "      border-top-color: var(--fill-color);\n",
              "    }\n",
              "    30% {\n",
              "      border-color: transparent;\n",
              "      border-left-color: var(--fill-color);\n",
              "      border-top-color: var(--fill-color);\n",
              "      border-right-color: var(--fill-color);\n",
              "    }\n",
              "    40% {\n",
              "      border-color: transparent;\n",
              "      border-right-color: var(--fill-color);\n",
              "      border-top-color: var(--fill-color);\n",
              "    }\n",
              "    60% {\n",
              "      border-color: transparent;\n",
              "      border-right-color: var(--fill-color);\n",
              "    }\n",
              "    80% {\n",
              "      border-color: transparent;\n",
              "      border-right-color: var(--fill-color);\n",
              "      border-bottom-color: var(--fill-color);\n",
              "    }\n",
              "    90% {\n",
              "      border-color: transparent;\n",
              "      border-bottom-color: var(--fill-color);\n",
              "    }\n",
              "  }\n",
              "</style>\n",
              "\n",
              "  <script>\n",
              "    async function quickchart(key) {\n",
              "      const quickchartButtonEl =\n",
              "        document.querySelector('#' + key + ' button');\n",
              "      quickchartButtonEl.disabled = true;  // To prevent multiple clicks.\n",
              "      quickchartButtonEl.classList.add('colab-df-spinner');\n",
              "      try {\n",
              "        const charts = await google.colab.kernel.invokeFunction(\n",
              "            'suggestCharts', [key], {});\n",
              "      } catch (error) {\n",
              "        console.error('Error during call to suggestCharts:', error);\n",
              "      }\n",
              "      quickchartButtonEl.classList.remove('colab-df-spinner');\n",
              "      quickchartButtonEl.classList.add('colab-df-quickchart-complete');\n",
              "    }\n",
              "    (() => {\n",
              "      let quickchartButtonEl =\n",
              "        document.querySelector('#df-fac323b8-83db-4d89-b5ef-b8c089de8839 button');\n",
              "      quickchartButtonEl.style.display =\n",
              "        google.colab.kernel.accessAllowed ? 'block' : 'none';\n",
              "    })();\n",
              "  </script>\n",
              "</div>\n",
              "    </div>\n",
              "  </div>\n"
            ]
          },
          "metadata": {},
          "execution_count": 35
        }
      ],
      "source": [
        "df = df.sort_values(by='token_lens', ascending=False)\n",
        "df.head(20)"
      ]
    },
    {
      "cell_type": "code",
      "execution_count": 36,
      "metadata": {
        "colab": {
          "base_uri": "https://localhost:8080/",
          "height": 206
        },
        "execution": {
          "iopub.execute_input": "2023-12-16T15:48:45.954344Z",
          "iopub.status.busy": "2023-12-16T15:48:45.954052Z",
          "iopub.status.idle": "2023-12-16T15:48:45.964411Z",
          "shell.execute_reply": "2023-12-16T15:48:45.963366Z",
          "shell.execute_reply.started": "2023-12-16T15:48:45.954319Z"
        },
        "id": "BxcFoL-xmz1s",
        "outputId": "85028baf-1ab0-435e-9c8e-ac1dbdc91ead",
        "trusted": true
      },
      "outputs": [
        {
          "output_type": "execute_result",
          "data": {
            "text/plain": [
              "                                           OriginalTweet           Sentiment  \\\n",
              "4844   Impct of #coronavirus i hve sen hw civilizd pp...  Extremely Negative   \n",
              "35512  Hand Sanitizer Gel type 500ml \\r\\r\\nRM 55 \\r\\r...  Extremely Positive   \n",
              "9238   Hi @Zomato I felt hungry loggd in ur app tryd ...  Extremely Positive   \n",
              "9027   La escena se repite alrededor del mundo: desde...             Neutral   \n",
              "11106  Which global recession? V or U or L or I? For ...            Negative   \n",
              "\n",
              "                                              text_clean  text_len  token_lens  \n",
              "4844   impct of coronavirus i hve sen hw civilizd ppl...        48          80  \n",
              "35512  hand sanitizer gel type 500ml rm 55 exd postag...        32          79  \n",
              "9238   hi i felt hungry loggd in ur app tryd to add 4...        55          78  \n",
              "9027   la escena se repite alrededor del mundo desde ...        38          77  \n",
              "11106  which global recession v or u or l or i for no...        64          75  "
            ],
            "text/html": [
              "\n",
              "  <div id=\"df-30e9dfd3-67de-402b-82b8-7c09bb4a98e9\" class=\"colab-df-container\">\n",
              "    <div>\n",
              "<style scoped>\n",
              "    .dataframe tbody tr th:only-of-type {\n",
              "        vertical-align: middle;\n",
              "    }\n",
              "\n",
              "    .dataframe tbody tr th {\n",
              "        vertical-align: top;\n",
              "    }\n",
              "\n",
              "    .dataframe thead th {\n",
              "        text-align: right;\n",
              "    }\n",
              "</style>\n",
              "<table border=\"1\" class=\"dataframe\">\n",
              "  <thead>\n",
              "    <tr style=\"text-align: right;\">\n",
              "      <th></th>\n",
              "      <th>OriginalTweet</th>\n",
              "      <th>Sentiment</th>\n",
              "      <th>text_clean</th>\n",
              "      <th>text_len</th>\n",
              "      <th>token_lens</th>\n",
              "    </tr>\n",
              "  </thead>\n",
              "  <tbody>\n",
              "    <tr>\n",
              "      <th>4844</th>\n",
              "      <td>Impct of #coronavirus i hve sen hw civilizd pp...</td>\n",
              "      <td>Extremely Negative</td>\n",
              "      <td>impct of coronavirus i hve sen hw civilizd ppl...</td>\n",
              "      <td>48</td>\n",
              "      <td>80</td>\n",
              "    </tr>\n",
              "    <tr>\n",
              "      <th>35512</th>\n",
              "      <td>Hand Sanitizer Gel type 500ml \\r\\r\\nRM 55 \\r\\r...</td>\n",
              "      <td>Extremely Positive</td>\n",
              "      <td>hand sanitizer gel type 500ml rm 55 exd postag...</td>\n",
              "      <td>32</td>\n",
              "      <td>79</td>\n",
              "    </tr>\n",
              "    <tr>\n",
              "      <th>9238</th>\n",
              "      <td>Hi @Zomato I felt hungry loggd in ur app tryd ...</td>\n",
              "      <td>Extremely Positive</td>\n",
              "      <td>hi i felt hungry loggd in ur app tryd to add 4...</td>\n",
              "      <td>55</td>\n",
              "      <td>78</td>\n",
              "    </tr>\n",
              "    <tr>\n",
              "      <th>9027</th>\n",
              "      <td>La escena se repite alrededor del mundo: desde...</td>\n",
              "      <td>Neutral</td>\n",
              "      <td>la escena se repite alrededor del mundo desde ...</td>\n",
              "      <td>38</td>\n",
              "      <td>77</td>\n",
              "    </tr>\n",
              "    <tr>\n",
              "      <th>11106</th>\n",
              "      <td>Which global recession? V or U or L or I? For ...</td>\n",
              "      <td>Negative</td>\n",
              "      <td>which global recession v or u or l or i for no...</td>\n",
              "      <td>64</td>\n",
              "      <td>75</td>\n",
              "    </tr>\n",
              "  </tbody>\n",
              "</table>\n",
              "</div>\n",
              "    <div class=\"colab-df-buttons\">\n",
              "\n",
              "  <div class=\"colab-df-container\">\n",
              "    <button class=\"colab-df-convert\" onclick=\"convertToInteractive('df-30e9dfd3-67de-402b-82b8-7c09bb4a98e9')\"\n",
              "            title=\"Convert this dataframe to an interactive table.\"\n",
              "            style=\"display:none;\">\n",
              "\n",
              "  <svg xmlns=\"http://www.w3.org/2000/svg\" height=\"24px\" viewBox=\"0 -960 960 960\">\n",
              "    <path d=\"M120-120v-720h720v720H120Zm60-500h600v-160H180v160Zm220 220h160v-160H400v160Zm0 220h160v-160H400v160ZM180-400h160v-160H180v160Zm440 0h160v-160H620v160ZM180-180h160v-160H180v160Zm440 0h160v-160H620v160Z\"/>\n",
              "  </svg>\n",
              "    </button>\n",
              "\n",
              "  <style>\n",
              "    .colab-df-container {\n",
              "      display:flex;\n",
              "      gap: 12px;\n",
              "    }\n",
              "\n",
              "    .colab-df-convert {\n",
              "      background-color: #E8F0FE;\n",
              "      border: none;\n",
              "      border-radius: 50%;\n",
              "      cursor: pointer;\n",
              "      display: none;\n",
              "      fill: #1967D2;\n",
              "      height: 32px;\n",
              "      padding: 0 0 0 0;\n",
              "      width: 32px;\n",
              "    }\n",
              "\n",
              "    .colab-df-convert:hover {\n",
              "      background-color: #E2EBFA;\n",
              "      box-shadow: 0px 1px 2px rgba(60, 64, 67, 0.3), 0px 1px 3px 1px rgba(60, 64, 67, 0.15);\n",
              "      fill: #174EA6;\n",
              "    }\n",
              "\n",
              "    .colab-df-buttons div {\n",
              "      margin-bottom: 4px;\n",
              "    }\n",
              "\n",
              "    [theme=dark] .colab-df-convert {\n",
              "      background-color: #3B4455;\n",
              "      fill: #D2E3FC;\n",
              "    }\n",
              "\n",
              "    [theme=dark] .colab-df-convert:hover {\n",
              "      background-color: #434B5C;\n",
              "      box-shadow: 0px 1px 3px 1px rgba(0, 0, 0, 0.15);\n",
              "      filter: drop-shadow(0px 1px 2px rgba(0, 0, 0, 0.3));\n",
              "      fill: #FFFFFF;\n",
              "    }\n",
              "  </style>\n",
              "\n",
              "    <script>\n",
              "      const buttonEl =\n",
              "        document.querySelector('#df-30e9dfd3-67de-402b-82b8-7c09bb4a98e9 button.colab-df-convert');\n",
              "      buttonEl.style.display =\n",
              "        google.colab.kernel.accessAllowed ? 'block' : 'none';\n",
              "\n",
              "      async function convertToInteractive(key) {\n",
              "        const element = document.querySelector('#df-30e9dfd3-67de-402b-82b8-7c09bb4a98e9');\n",
              "        const dataTable =\n",
              "          await google.colab.kernel.invokeFunction('convertToInteractive',\n",
              "                                                    [key], {});\n",
              "        if (!dataTable) return;\n",
              "\n",
              "        const docLinkHtml = 'Like what you see? Visit the ' +\n",
              "          '<a target=\"_blank\" href=https://colab.research.google.com/notebooks/data_table.ipynb>data table notebook</a>'\n",
              "          + ' to learn more about interactive tables.';\n",
              "        element.innerHTML = '';\n",
              "        dataTable['output_type'] = 'display_data';\n",
              "        await google.colab.output.renderOutput(dataTable, element);\n",
              "        const docLink = document.createElement('div');\n",
              "        docLink.innerHTML = docLinkHtml;\n",
              "        element.appendChild(docLink);\n",
              "      }\n",
              "    </script>\n",
              "  </div>\n",
              "\n",
              "\n",
              "<div id=\"df-f4fc1a92-f53f-410e-8560-0193ad6aa103\">\n",
              "  <button class=\"colab-df-quickchart\" onclick=\"quickchart('df-f4fc1a92-f53f-410e-8560-0193ad6aa103')\"\n",
              "            title=\"Suggest charts\"\n",
              "            style=\"display:none;\">\n",
              "\n",
              "<svg xmlns=\"http://www.w3.org/2000/svg\" height=\"24px\"viewBox=\"0 0 24 24\"\n",
              "     width=\"24px\">\n",
              "    <g>\n",
              "        <path d=\"M19 3H5c-1.1 0-2 .9-2 2v14c0 1.1.9 2 2 2h14c1.1 0 2-.9 2-2V5c0-1.1-.9-2-2-2zM9 17H7v-7h2v7zm4 0h-2V7h2v10zm4 0h-2v-4h2v4z\"/>\n",
              "    </g>\n",
              "</svg>\n",
              "  </button>\n",
              "\n",
              "<style>\n",
              "  .colab-df-quickchart {\n",
              "      --bg-color: #E8F0FE;\n",
              "      --fill-color: #1967D2;\n",
              "      --hover-bg-color: #E2EBFA;\n",
              "      --hover-fill-color: #174EA6;\n",
              "      --disabled-fill-color: #AAA;\n",
              "      --disabled-bg-color: #DDD;\n",
              "  }\n",
              "\n",
              "  [theme=dark] .colab-df-quickchart {\n",
              "      --bg-color: #3B4455;\n",
              "      --fill-color: #D2E3FC;\n",
              "      --hover-bg-color: #434B5C;\n",
              "      --hover-fill-color: #FFFFFF;\n",
              "      --disabled-bg-color: #3B4455;\n",
              "      --disabled-fill-color: #666;\n",
              "  }\n",
              "\n",
              "  .colab-df-quickchart {\n",
              "    background-color: var(--bg-color);\n",
              "    border: none;\n",
              "    border-radius: 50%;\n",
              "    cursor: pointer;\n",
              "    display: none;\n",
              "    fill: var(--fill-color);\n",
              "    height: 32px;\n",
              "    padding: 0;\n",
              "    width: 32px;\n",
              "  }\n",
              "\n",
              "  .colab-df-quickchart:hover {\n",
              "    background-color: var(--hover-bg-color);\n",
              "    box-shadow: 0 1px 2px rgba(60, 64, 67, 0.3), 0 1px 3px 1px rgba(60, 64, 67, 0.15);\n",
              "    fill: var(--button-hover-fill-color);\n",
              "  }\n",
              "\n",
              "  .colab-df-quickchart-complete:disabled,\n",
              "  .colab-df-quickchart-complete:disabled:hover {\n",
              "    background-color: var(--disabled-bg-color);\n",
              "    fill: var(--disabled-fill-color);\n",
              "    box-shadow: none;\n",
              "  }\n",
              "\n",
              "  .colab-df-spinner {\n",
              "    border: 2px solid var(--fill-color);\n",
              "    border-color: transparent;\n",
              "    border-bottom-color: var(--fill-color);\n",
              "    animation:\n",
              "      spin 1s steps(1) infinite;\n",
              "  }\n",
              "\n",
              "  @keyframes spin {\n",
              "    0% {\n",
              "      border-color: transparent;\n",
              "      border-bottom-color: var(--fill-color);\n",
              "      border-left-color: var(--fill-color);\n",
              "    }\n",
              "    20% {\n",
              "      border-color: transparent;\n",
              "      border-left-color: var(--fill-color);\n",
              "      border-top-color: var(--fill-color);\n",
              "    }\n",
              "    30% {\n",
              "      border-color: transparent;\n",
              "      border-left-color: var(--fill-color);\n",
              "      border-top-color: var(--fill-color);\n",
              "      border-right-color: var(--fill-color);\n",
              "    }\n",
              "    40% {\n",
              "      border-color: transparent;\n",
              "      border-right-color: var(--fill-color);\n",
              "      border-top-color: var(--fill-color);\n",
              "    }\n",
              "    60% {\n",
              "      border-color: transparent;\n",
              "      border-right-color: var(--fill-color);\n",
              "    }\n",
              "    80% {\n",
              "      border-color: transparent;\n",
              "      border-right-color: var(--fill-color);\n",
              "      border-bottom-color: var(--fill-color);\n",
              "    }\n",
              "    90% {\n",
              "      border-color: transparent;\n",
              "      border-bottom-color: var(--fill-color);\n",
              "    }\n",
              "  }\n",
              "</style>\n",
              "\n",
              "  <script>\n",
              "    async function quickchart(key) {\n",
              "      const quickchartButtonEl =\n",
              "        document.querySelector('#' + key + ' button');\n",
              "      quickchartButtonEl.disabled = true;  // To prevent multiple clicks.\n",
              "      quickchartButtonEl.classList.add('colab-df-spinner');\n",
              "      try {\n",
              "        const charts = await google.colab.kernel.invokeFunction(\n",
              "            'suggestCharts', [key], {});\n",
              "      } catch (error) {\n",
              "        console.error('Error during call to suggestCharts:', error);\n",
              "      }\n",
              "      quickchartButtonEl.classList.remove('colab-df-spinner');\n",
              "      quickchartButtonEl.classList.add('colab-df-quickchart-complete');\n",
              "    }\n",
              "    (() => {\n",
              "      let quickchartButtonEl =\n",
              "        document.querySelector('#df-f4fc1a92-f53f-410e-8560-0193ad6aa103 button');\n",
              "      quickchartButtonEl.style.display =\n",
              "        google.colab.kernel.accessAllowed ? 'block' : 'none';\n",
              "    })();\n",
              "  </script>\n",
              "</div>\n",
              "    </div>\n",
              "  </div>\n"
            ]
          },
          "metadata": {},
          "execution_count": 36
        }
      ],
      "source": [
        "df = df.iloc[12:]\n",
        "df.head()"
      ]
    },
    {
      "cell_type": "code",
      "execution_count": 37,
      "metadata": {
        "execution": {
          "iopub.execute_input": "2023-12-16T15:48:45.965967Z",
          "iopub.status.busy": "2023-12-16T15:48:45.965689Z",
          "iopub.status.idle": "2023-12-16T15:48:45.988557Z",
          "shell.execute_reply": "2023-12-16T15:48:45.987670Z",
          "shell.execute_reply.started": "2023-12-16T15:48:45.965942Z"
        },
        "id": "8zOuwITHmz1s",
        "trusted": true
      },
      "outputs": [],
      "source": [
        "df = df.sample(frac=1).reset_index(drop=True)"
      ]
    },
    {
      "cell_type": "code",
      "execution_count": 38,
      "metadata": {
        "execution": {
          "iopub.execute_input": "2023-12-16T15:48:45.990197Z",
          "iopub.status.busy": "2023-12-16T15:48:45.989855Z",
          "iopub.status.idle": "2023-12-16T15:48:46.719006Z",
          "shell.execute_reply": "2023-12-16T15:48:46.718022Z",
          "shell.execute_reply.started": "2023-12-16T15:48:45.990163Z"
        },
        "id": "imhDjZdmmz1s",
        "trusted": true
      },
      "outputs": [],
      "source": [
        "token_lens_test = []\n",
        "\n",
        "for txt in df_test['text_clean'].values:\n",
        "    tokens = tokenizer.encode(txt, max_length=512, truncation=True)\n",
        "    token_lens_test.append(len(tokens))\n",
        "\n",
        "max_len=np.max(token_lens_test)"
      ]
    },
    {
      "cell_type": "code",
      "execution_count": 39,
      "metadata": {
        "colab": {
          "base_uri": "https://localhost:8080/"
        },
        "execution": {
          "iopub.execute_input": "2023-12-16T15:48:46.720643Z",
          "iopub.status.busy": "2023-12-16T15:48:46.720304Z",
          "iopub.status.idle": "2023-12-16T15:48:46.725736Z",
          "shell.execute_reply": "2023-12-16T15:48:46.724772Z",
          "shell.execute_reply.started": "2023-12-16T15:48:46.720613Z"
        },
        "id": "T8n8mXuQmz1s",
        "outputId": "96c45e9f-27b9-4b32-f27f-887b320fdb1e",
        "trusted": true
      },
      "outputs": [
        {
          "output_type": "stream",
          "name": "stdout",
          "text": [
            "MAX TOKENIZED SENTENCE LENGTH: 92\n"
          ]
        }
      ],
      "source": [
        "print(f\"MAX TOKENIZED SENTENCE LENGTH: {max_len}\")"
      ]
    },
    {
      "cell_type": "code",
      "execution_count": 40,
      "metadata": {
        "colab": {
          "base_uri": "https://localhost:8080/"
        },
        "execution": {
          "iopub.execute_input": "2023-12-16T15:48:46.727438Z",
          "iopub.status.busy": "2023-12-16T15:48:46.727056Z",
          "iopub.status.idle": "2023-12-16T15:48:47.472019Z",
          "shell.execute_reply": "2023-12-16T15:48:47.471088Z",
          "shell.execute_reply.started": "2023-12-16T15:48:46.727405Z"
        },
        "id": "y2s1u3bomz1s",
        "outputId": "f3701de2-ed4f-4238-b184-33eb1f109e13",
        "trusted": true
      },
      "outputs": [
        {
          "output_type": "stream",
          "name": "stdout",
          "text": [
            "INDEX: 286, TEXT: so hard to decide as much as i want to hodl my 2 ccdcv4 token our place is declared to lock down due to covid19 i will use this to buy some food to stock txnid093bd1db0c0d3a62af15883138a5f57d4cef35ae14e31e602b74489dd2524c7f my b\n",
            "INDEX: 345, TEXT: informoval jsem zstupce vech obchodnch etzc o aktulnch opatench vldy etzce jsou zsobovny na 95 take nen dvod panikait zsoby potravin fakt nedojdou nen opravdu dvod dnes obsadit a vykoupit supermarkety\n",
            "INDEX: 2380, TEXT: ahora seguid llorando por el papel higinico que no he comprado porque an tengo seguid creando histeria y preocupacin poniendo fotos de gente en pnico y estanteras vacas que yo seguir yendo a comercios responsables de barrio donde nos cuidan hoy y siempre gracias\n"
          ]
        }
      ],
      "source": [
        "token_lens_test = []\n",
        "\n",
        "for i,txt in enumerate(df_test['text_clean'].values):\n",
        "    tokens = tokenizer.encode(txt, max_length=512, truncation=True)\n",
        "    token_lens_test.append(len(tokens))\n",
        "    if len(tokens)>80:\n",
        "        print(f\"INDEX: {i}, TEXT: {txt}\")"
      ]
    },
    {
      "cell_type": "code",
      "execution_count": 41,
      "metadata": {
        "execution": {
          "iopub.execute_input": "2023-12-16T15:48:47.481985Z",
          "iopub.status.busy": "2023-12-16T15:48:47.481688Z",
          "iopub.status.idle": "2023-12-16T15:48:47.488462Z",
          "shell.execute_reply": "2023-12-16T15:48:47.487412Z",
          "shell.execute_reply.started": "2023-12-16T15:48:47.481958Z"
        },
        "id": "e1AstzMxmz1y",
        "trusted": true
      },
      "outputs": [],
      "source": [
        "df_test['token_lens'] = token_lens_test"
      ]
    },
    {
      "cell_type": "code",
      "execution_count": 42,
      "metadata": {
        "colab": {
          "base_uri": "https://localhost:8080/",
          "height": 363
        },
        "execution": {
          "iopub.execute_input": "2023-12-16T15:48:47.489945Z",
          "iopub.status.busy": "2023-12-16T15:48:47.489667Z",
          "iopub.status.idle": "2023-12-16T15:48:47.509787Z",
          "shell.execute_reply": "2023-12-16T15:48:47.508925Z",
          "shell.execute_reply.started": "2023-12-16T15:48:47.489920Z"
        },
        "id": "MXCrv-Mfmz1y",
        "outputId": "b0950f8d-5914-4058-e2fd-25f232d5c9ff",
        "trusted": true
      },
      "outputs": [
        {
          "output_type": "execute_result",
          "data": {
            "text/plain": [
              "                                          OriginalTweet           Sentiment  \\\n",
              "2383  Ahora seguid llorando por el papel higiénico (...            Negative   \n",
              "286   @Rhett800cc So hard to decide??. As much as I ...            Negative   \n",
              "345   Informoval jsem zástupce vech obchodních ?et?...             Neutral   \n",
              "1064  A woman waits her turn to enter the supermarke...             Neutral   \n",
              "2688  Imagine if we had a president who had a plan f...  Extremely Negative   \n",
              "855   Lidl is total chaos, queues as long as the ais...  Extremely Negative   \n",
              "2418  Me and my family Quarantined on February 28th ...            Positive   \n",
              "2918  obyrne EVAUK actionhunger may food union spark...  Extremely Negative   \n",
              "1485  DTF-Dont Touch Face\\r\\r\\nDWBH-Do Wash Both Ha...  Extremely Negative   \n",
              "2740  COVID-19: Your government will save ITSELF not...            Positive   \n",
              "\n",
              "                                             text_clean  text_len  token_lens  \n",
              "2383  ahora seguid llorando por el papel higinico qu...        44          92  \n",
              "286   so hard to decide as much as i want to hodl my...        38          90  \n",
              "345   informoval jsem zstupce vech obchodnch etzc o ...        31          89  \n",
              "1064  a woman waits her turn to enter the supermarke...        35          73  \n",
              "2688  imagine if we had a president who had a plan f...        42          73  \n",
              "855   lidl is total chaos queues as long as the aisl...        62          73  \n",
              "2418  me and my family quarantined on february 28th ...        43          72  \n",
              "2918  obyrne evauk actionhunger may food union spark...        56          72  \n",
              "1485  dtfdont touch face dwbhdo wash both hands gtfo...        42          71  \n",
              "2740  covid19 your government will save itself not y...        43          70  "
            ],
            "text/html": [
              "\n",
              "  <div id=\"df-b7bb6ffd-9829-4502-b98a-33deba8f57a9\" class=\"colab-df-container\">\n",
              "    <div>\n",
              "<style scoped>\n",
              "    .dataframe tbody tr th:only-of-type {\n",
              "        vertical-align: middle;\n",
              "    }\n",
              "\n",
              "    .dataframe tbody tr th {\n",
              "        vertical-align: top;\n",
              "    }\n",
              "\n",
              "    .dataframe thead th {\n",
              "        text-align: right;\n",
              "    }\n",
              "</style>\n",
              "<table border=\"1\" class=\"dataframe\">\n",
              "  <thead>\n",
              "    <tr style=\"text-align: right;\">\n",
              "      <th></th>\n",
              "      <th>OriginalTweet</th>\n",
              "      <th>Sentiment</th>\n",
              "      <th>text_clean</th>\n",
              "      <th>text_len</th>\n",
              "      <th>token_lens</th>\n",
              "    </tr>\n",
              "  </thead>\n",
              "  <tbody>\n",
              "    <tr>\n",
              "      <th>2383</th>\n",
              "      <td>Ahora seguid llorando por el papel higiénico (...</td>\n",
              "      <td>Negative</td>\n",
              "      <td>ahora seguid llorando por el papel higinico qu...</td>\n",
              "      <td>44</td>\n",
              "      <td>92</td>\n",
              "    </tr>\n",
              "    <tr>\n",
              "      <th>286</th>\n",
              "      <td>@Rhett800cc So hard to decide??. As much as I ...</td>\n",
              "      <td>Negative</td>\n",
              "      <td>so hard to decide as much as i want to hodl my...</td>\n",
              "      <td>38</td>\n",
              "      <td>90</td>\n",
              "    </tr>\n",
              "    <tr>\n",
              "      <th>345</th>\n",
              "      <td>Informoval jsem zástupce vech obchodních ?et?...</td>\n",
              "      <td>Neutral</td>\n",
              "      <td>informoval jsem zstupce vech obchodnch etzc o ...</td>\n",
              "      <td>31</td>\n",
              "      <td>89</td>\n",
              "    </tr>\n",
              "    <tr>\n",
              "      <th>1064</th>\n",
              "      <td>A woman waits her turn to enter the supermarke...</td>\n",
              "      <td>Neutral</td>\n",
              "      <td>a woman waits her turn to enter the supermarke...</td>\n",
              "      <td>35</td>\n",
              "      <td>73</td>\n",
              "    </tr>\n",
              "    <tr>\n",
              "      <th>2688</th>\n",
              "      <td>Imagine if we had a president who had a plan f...</td>\n",
              "      <td>Extremely Negative</td>\n",
              "      <td>imagine if we had a president who had a plan f...</td>\n",
              "      <td>42</td>\n",
              "      <td>73</td>\n",
              "    </tr>\n",
              "    <tr>\n",
              "      <th>855</th>\n",
              "      <td>Lidl is total chaos, queues as long as the ais...</td>\n",
              "      <td>Extremely Negative</td>\n",
              "      <td>lidl is total chaos queues as long as the aisl...</td>\n",
              "      <td>62</td>\n",
              "      <td>73</td>\n",
              "    </tr>\n",
              "    <tr>\n",
              "      <th>2418</th>\n",
              "      <td>Me and my family Quarantined on February 28th ...</td>\n",
              "      <td>Positive</td>\n",
              "      <td>me and my family quarantined on february 28th ...</td>\n",
              "      <td>43</td>\n",
              "      <td>72</td>\n",
              "    </tr>\n",
              "    <tr>\n",
              "      <th>2918</th>\n",
              "      <td>obyrne EVAUK actionhunger may food union spark...</td>\n",
              "      <td>Extremely Negative</td>\n",
              "      <td>obyrne evauk actionhunger may food union spark...</td>\n",
              "      <td>56</td>\n",
              "      <td>72</td>\n",
              "    </tr>\n",
              "    <tr>\n",
              "      <th>1485</th>\n",
              "      <td>DTF-Dont Touch Face\\r\\r\\nDWBH-Do Wash Both Ha...</td>\n",
              "      <td>Extremely Negative</td>\n",
              "      <td>dtfdont touch face dwbhdo wash both hands gtfo...</td>\n",
              "      <td>42</td>\n",
              "      <td>71</td>\n",
              "    </tr>\n",
              "    <tr>\n",
              "      <th>2740</th>\n",
              "      <td>COVID-19: Your government will save ITSELF not...</td>\n",
              "      <td>Positive</td>\n",
              "      <td>covid19 your government will save itself not y...</td>\n",
              "      <td>43</td>\n",
              "      <td>70</td>\n",
              "    </tr>\n",
              "  </tbody>\n",
              "</table>\n",
              "</div>\n",
              "    <div class=\"colab-df-buttons\">\n",
              "\n",
              "  <div class=\"colab-df-container\">\n",
              "    <button class=\"colab-df-convert\" onclick=\"convertToInteractive('df-b7bb6ffd-9829-4502-b98a-33deba8f57a9')\"\n",
              "            title=\"Convert this dataframe to an interactive table.\"\n",
              "            style=\"display:none;\">\n",
              "\n",
              "  <svg xmlns=\"http://www.w3.org/2000/svg\" height=\"24px\" viewBox=\"0 -960 960 960\">\n",
              "    <path d=\"M120-120v-720h720v720H120Zm60-500h600v-160H180v160Zm220 220h160v-160H400v160Zm0 220h160v-160H400v160ZM180-400h160v-160H180v160Zm440 0h160v-160H620v160ZM180-180h160v-160H180v160Zm440 0h160v-160H620v160Z\"/>\n",
              "  </svg>\n",
              "    </button>\n",
              "\n",
              "  <style>\n",
              "    .colab-df-container {\n",
              "      display:flex;\n",
              "      gap: 12px;\n",
              "    }\n",
              "\n",
              "    .colab-df-convert {\n",
              "      background-color: #E8F0FE;\n",
              "      border: none;\n",
              "      border-radius: 50%;\n",
              "      cursor: pointer;\n",
              "      display: none;\n",
              "      fill: #1967D2;\n",
              "      height: 32px;\n",
              "      padding: 0 0 0 0;\n",
              "      width: 32px;\n",
              "    }\n",
              "\n",
              "    .colab-df-convert:hover {\n",
              "      background-color: #E2EBFA;\n",
              "      box-shadow: 0px 1px 2px rgba(60, 64, 67, 0.3), 0px 1px 3px 1px rgba(60, 64, 67, 0.15);\n",
              "      fill: #174EA6;\n",
              "    }\n",
              "\n",
              "    .colab-df-buttons div {\n",
              "      margin-bottom: 4px;\n",
              "    }\n",
              "\n",
              "    [theme=dark] .colab-df-convert {\n",
              "      background-color: #3B4455;\n",
              "      fill: #D2E3FC;\n",
              "    }\n",
              "\n",
              "    [theme=dark] .colab-df-convert:hover {\n",
              "      background-color: #434B5C;\n",
              "      box-shadow: 0px 1px 3px 1px rgba(0, 0, 0, 0.15);\n",
              "      filter: drop-shadow(0px 1px 2px rgba(0, 0, 0, 0.3));\n",
              "      fill: #FFFFFF;\n",
              "    }\n",
              "  </style>\n",
              "\n",
              "    <script>\n",
              "      const buttonEl =\n",
              "        document.querySelector('#df-b7bb6ffd-9829-4502-b98a-33deba8f57a9 button.colab-df-convert');\n",
              "      buttonEl.style.display =\n",
              "        google.colab.kernel.accessAllowed ? 'block' : 'none';\n",
              "\n",
              "      async function convertToInteractive(key) {\n",
              "        const element = document.querySelector('#df-b7bb6ffd-9829-4502-b98a-33deba8f57a9');\n",
              "        const dataTable =\n",
              "          await google.colab.kernel.invokeFunction('convertToInteractive',\n",
              "                                                    [key], {});\n",
              "        if (!dataTable) return;\n",
              "\n",
              "        const docLinkHtml = 'Like what you see? Visit the ' +\n",
              "          '<a target=\"_blank\" href=https://colab.research.google.com/notebooks/data_table.ipynb>data table notebook</a>'\n",
              "          + ' to learn more about interactive tables.';\n",
              "        element.innerHTML = '';\n",
              "        dataTable['output_type'] = 'display_data';\n",
              "        await google.colab.output.renderOutput(dataTable, element);\n",
              "        const docLink = document.createElement('div');\n",
              "        docLink.innerHTML = docLinkHtml;\n",
              "        element.appendChild(docLink);\n",
              "      }\n",
              "    </script>\n",
              "  </div>\n",
              "\n",
              "\n",
              "<div id=\"df-33e85828-09de-4618-b798-12e6fbf2cada\">\n",
              "  <button class=\"colab-df-quickchart\" onclick=\"quickchart('df-33e85828-09de-4618-b798-12e6fbf2cada')\"\n",
              "            title=\"Suggest charts\"\n",
              "            style=\"display:none;\">\n",
              "\n",
              "<svg xmlns=\"http://www.w3.org/2000/svg\" height=\"24px\"viewBox=\"0 0 24 24\"\n",
              "     width=\"24px\">\n",
              "    <g>\n",
              "        <path d=\"M19 3H5c-1.1 0-2 .9-2 2v14c0 1.1.9 2 2 2h14c1.1 0 2-.9 2-2V5c0-1.1-.9-2-2-2zM9 17H7v-7h2v7zm4 0h-2V7h2v10zm4 0h-2v-4h2v4z\"/>\n",
              "    </g>\n",
              "</svg>\n",
              "  </button>\n",
              "\n",
              "<style>\n",
              "  .colab-df-quickchart {\n",
              "      --bg-color: #E8F0FE;\n",
              "      --fill-color: #1967D2;\n",
              "      --hover-bg-color: #E2EBFA;\n",
              "      --hover-fill-color: #174EA6;\n",
              "      --disabled-fill-color: #AAA;\n",
              "      --disabled-bg-color: #DDD;\n",
              "  }\n",
              "\n",
              "  [theme=dark] .colab-df-quickchart {\n",
              "      --bg-color: #3B4455;\n",
              "      --fill-color: #D2E3FC;\n",
              "      --hover-bg-color: #434B5C;\n",
              "      --hover-fill-color: #FFFFFF;\n",
              "      --disabled-bg-color: #3B4455;\n",
              "      --disabled-fill-color: #666;\n",
              "  }\n",
              "\n",
              "  .colab-df-quickchart {\n",
              "    background-color: var(--bg-color);\n",
              "    border: none;\n",
              "    border-radius: 50%;\n",
              "    cursor: pointer;\n",
              "    display: none;\n",
              "    fill: var(--fill-color);\n",
              "    height: 32px;\n",
              "    padding: 0;\n",
              "    width: 32px;\n",
              "  }\n",
              "\n",
              "  .colab-df-quickchart:hover {\n",
              "    background-color: var(--hover-bg-color);\n",
              "    box-shadow: 0 1px 2px rgba(60, 64, 67, 0.3), 0 1px 3px 1px rgba(60, 64, 67, 0.15);\n",
              "    fill: var(--button-hover-fill-color);\n",
              "  }\n",
              "\n",
              "  .colab-df-quickchart-complete:disabled,\n",
              "  .colab-df-quickchart-complete:disabled:hover {\n",
              "    background-color: var(--disabled-bg-color);\n",
              "    fill: var(--disabled-fill-color);\n",
              "    box-shadow: none;\n",
              "  }\n",
              "\n",
              "  .colab-df-spinner {\n",
              "    border: 2px solid var(--fill-color);\n",
              "    border-color: transparent;\n",
              "    border-bottom-color: var(--fill-color);\n",
              "    animation:\n",
              "      spin 1s steps(1) infinite;\n",
              "  }\n",
              "\n",
              "  @keyframes spin {\n",
              "    0% {\n",
              "      border-color: transparent;\n",
              "      border-bottom-color: var(--fill-color);\n",
              "      border-left-color: var(--fill-color);\n",
              "    }\n",
              "    20% {\n",
              "      border-color: transparent;\n",
              "      border-left-color: var(--fill-color);\n",
              "      border-top-color: var(--fill-color);\n",
              "    }\n",
              "    30% {\n",
              "      border-color: transparent;\n",
              "      border-left-color: var(--fill-color);\n",
              "      border-top-color: var(--fill-color);\n",
              "      border-right-color: var(--fill-color);\n",
              "    }\n",
              "    40% {\n",
              "      border-color: transparent;\n",
              "      border-right-color: var(--fill-color);\n",
              "      border-top-color: var(--fill-color);\n",
              "    }\n",
              "    60% {\n",
              "      border-color: transparent;\n",
              "      border-right-color: var(--fill-color);\n",
              "    }\n",
              "    80% {\n",
              "      border-color: transparent;\n",
              "      border-right-color: var(--fill-color);\n",
              "      border-bottom-color: var(--fill-color);\n",
              "    }\n",
              "    90% {\n",
              "      border-color: transparent;\n",
              "      border-bottom-color: var(--fill-color);\n",
              "    }\n",
              "  }\n",
              "</style>\n",
              "\n",
              "  <script>\n",
              "    async function quickchart(key) {\n",
              "      const quickchartButtonEl =\n",
              "        document.querySelector('#' + key + ' button');\n",
              "      quickchartButtonEl.disabled = true;  // To prevent multiple clicks.\n",
              "      quickchartButtonEl.classList.add('colab-df-spinner');\n",
              "      try {\n",
              "        const charts = await google.colab.kernel.invokeFunction(\n",
              "            'suggestCharts', [key], {});\n",
              "      } catch (error) {\n",
              "        console.error('Error during call to suggestCharts:', error);\n",
              "      }\n",
              "      quickchartButtonEl.classList.remove('colab-df-spinner');\n",
              "      quickchartButtonEl.classList.add('colab-df-quickchart-complete');\n",
              "    }\n",
              "    (() => {\n",
              "      let quickchartButtonEl =\n",
              "        document.querySelector('#df-33e85828-09de-4618-b798-12e6fbf2cada button');\n",
              "      quickchartButtonEl.style.display =\n",
              "        google.colab.kernel.accessAllowed ? 'block' : 'none';\n",
              "    })();\n",
              "  </script>\n",
              "</div>\n",
              "    </div>\n",
              "  </div>\n"
            ]
          },
          "metadata": {},
          "execution_count": 42
        }
      ],
      "source": [
        "df_test = df_test.sort_values(by='token_lens', ascending=False)\n",
        "df_test.head(10)"
      ]
    },
    {
      "cell_type": "code",
      "execution_count": 43,
      "metadata": {
        "colab": {
          "base_uri": "https://localhost:8080/",
          "height": 143
        },
        "execution": {
          "iopub.execute_input": "2023-12-16T15:48:47.511654Z",
          "iopub.status.busy": "2023-12-16T15:48:47.510987Z",
          "iopub.status.idle": "2023-12-16T15:48:47.522123Z",
          "shell.execute_reply": "2023-12-16T15:48:47.521154Z",
          "shell.execute_reply.started": "2023-12-16T15:48:47.511620Z"
        },
        "id": "OE5PGEgimz1z",
        "outputId": "8870b89f-dc81-490d-e951-13e18322c9de",
        "trusted": true
      },
      "outputs": [
        {
          "output_type": "execute_result",
          "data": {
            "text/plain": [
              "                                          OriginalTweet           Sentiment  \\\n",
              "855   Lidl is total chaos, queues as long as the ais...  Extremely Negative   \n",
              "2418  Me and my family Quarantined on February 28th ...            Positive   \n",
              "2918  obyrne EVAUK actionhunger may food union spark...  Extremely Negative   \n",
              "\n",
              "                                             text_clean  text_len  token_lens  \n",
              "855   lidl is total chaos queues as long as the aisl...        62          73  \n",
              "2418  me and my family quarantined on february 28th ...        43          72  \n",
              "2918  obyrne evauk actionhunger may food union spark...        56          72  "
            ],
            "text/html": [
              "\n",
              "  <div id=\"df-5995a1a0-e5af-43be-af9b-4c4985289510\" class=\"colab-df-container\">\n",
              "    <div>\n",
              "<style scoped>\n",
              "    .dataframe tbody tr th:only-of-type {\n",
              "        vertical-align: middle;\n",
              "    }\n",
              "\n",
              "    .dataframe tbody tr th {\n",
              "        vertical-align: top;\n",
              "    }\n",
              "\n",
              "    .dataframe thead th {\n",
              "        text-align: right;\n",
              "    }\n",
              "</style>\n",
              "<table border=\"1\" class=\"dataframe\">\n",
              "  <thead>\n",
              "    <tr style=\"text-align: right;\">\n",
              "      <th></th>\n",
              "      <th>OriginalTweet</th>\n",
              "      <th>Sentiment</th>\n",
              "      <th>text_clean</th>\n",
              "      <th>text_len</th>\n",
              "      <th>token_lens</th>\n",
              "    </tr>\n",
              "  </thead>\n",
              "  <tbody>\n",
              "    <tr>\n",
              "      <th>855</th>\n",
              "      <td>Lidl is total chaos, queues as long as the ais...</td>\n",
              "      <td>Extremely Negative</td>\n",
              "      <td>lidl is total chaos queues as long as the aisl...</td>\n",
              "      <td>62</td>\n",
              "      <td>73</td>\n",
              "    </tr>\n",
              "    <tr>\n",
              "      <th>2418</th>\n",
              "      <td>Me and my family Quarantined on February 28th ...</td>\n",
              "      <td>Positive</td>\n",
              "      <td>me and my family quarantined on february 28th ...</td>\n",
              "      <td>43</td>\n",
              "      <td>72</td>\n",
              "    </tr>\n",
              "    <tr>\n",
              "      <th>2918</th>\n",
              "      <td>obyrne EVAUK actionhunger may food union spark...</td>\n",
              "      <td>Extremely Negative</td>\n",
              "      <td>obyrne evauk actionhunger may food union spark...</td>\n",
              "      <td>56</td>\n",
              "      <td>72</td>\n",
              "    </tr>\n",
              "  </tbody>\n",
              "</table>\n",
              "</div>\n",
              "    <div class=\"colab-df-buttons\">\n",
              "\n",
              "  <div class=\"colab-df-container\">\n",
              "    <button class=\"colab-df-convert\" onclick=\"convertToInteractive('df-5995a1a0-e5af-43be-af9b-4c4985289510')\"\n",
              "            title=\"Convert this dataframe to an interactive table.\"\n",
              "            style=\"display:none;\">\n",
              "\n",
              "  <svg xmlns=\"http://www.w3.org/2000/svg\" height=\"24px\" viewBox=\"0 -960 960 960\">\n",
              "    <path d=\"M120-120v-720h720v720H120Zm60-500h600v-160H180v160Zm220 220h160v-160H400v160Zm0 220h160v-160H400v160ZM180-400h160v-160H180v160Zm440 0h160v-160H620v160ZM180-180h160v-160H180v160Zm440 0h160v-160H620v160Z\"/>\n",
              "  </svg>\n",
              "    </button>\n",
              "\n",
              "  <style>\n",
              "    .colab-df-container {\n",
              "      display:flex;\n",
              "      gap: 12px;\n",
              "    }\n",
              "\n",
              "    .colab-df-convert {\n",
              "      background-color: #E8F0FE;\n",
              "      border: none;\n",
              "      border-radius: 50%;\n",
              "      cursor: pointer;\n",
              "      display: none;\n",
              "      fill: #1967D2;\n",
              "      height: 32px;\n",
              "      padding: 0 0 0 0;\n",
              "      width: 32px;\n",
              "    }\n",
              "\n",
              "    .colab-df-convert:hover {\n",
              "      background-color: #E2EBFA;\n",
              "      box-shadow: 0px 1px 2px rgba(60, 64, 67, 0.3), 0px 1px 3px 1px rgba(60, 64, 67, 0.15);\n",
              "      fill: #174EA6;\n",
              "    }\n",
              "\n",
              "    .colab-df-buttons div {\n",
              "      margin-bottom: 4px;\n",
              "    }\n",
              "\n",
              "    [theme=dark] .colab-df-convert {\n",
              "      background-color: #3B4455;\n",
              "      fill: #D2E3FC;\n",
              "    }\n",
              "\n",
              "    [theme=dark] .colab-df-convert:hover {\n",
              "      background-color: #434B5C;\n",
              "      box-shadow: 0px 1px 3px 1px rgba(0, 0, 0, 0.15);\n",
              "      filter: drop-shadow(0px 1px 2px rgba(0, 0, 0, 0.3));\n",
              "      fill: #FFFFFF;\n",
              "    }\n",
              "  </style>\n",
              "\n",
              "    <script>\n",
              "      const buttonEl =\n",
              "        document.querySelector('#df-5995a1a0-e5af-43be-af9b-4c4985289510 button.colab-df-convert');\n",
              "      buttonEl.style.display =\n",
              "        google.colab.kernel.accessAllowed ? 'block' : 'none';\n",
              "\n",
              "      async function convertToInteractive(key) {\n",
              "        const element = document.querySelector('#df-5995a1a0-e5af-43be-af9b-4c4985289510');\n",
              "        const dataTable =\n",
              "          await google.colab.kernel.invokeFunction('convertToInteractive',\n",
              "                                                    [key], {});\n",
              "        if (!dataTable) return;\n",
              "\n",
              "        const docLinkHtml = 'Like what you see? Visit the ' +\n",
              "          '<a target=\"_blank\" href=https://colab.research.google.com/notebooks/data_table.ipynb>data table notebook</a>'\n",
              "          + ' to learn more about interactive tables.';\n",
              "        element.innerHTML = '';\n",
              "        dataTable['output_type'] = 'display_data';\n",
              "        await google.colab.output.renderOutput(dataTable, element);\n",
              "        const docLink = document.createElement('div');\n",
              "        docLink.innerHTML = docLinkHtml;\n",
              "        element.appendChild(docLink);\n",
              "      }\n",
              "    </script>\n",
              "  </div>\n",
              "\n",
              "\n",
              "<div id=\"df-09716343-3675-4858-933e-c5d3fa1e03d7\">\n",
              "  <button class=\"colab-df-quickchart\" onclick=\"quickchart('df-09716343-3675-4858-933e-c5d3fa1e03d7')\"\n",
              "            title=\"Suggest charts\"\n",
              "            style=\"display:none;\">\n",
              "\n",
              "<svg xmlns=\"http://www.w3.org/2000/svg\" height=\"24px\"viewBox=\"0 0 24 24\"\n",
              "     width=\"24px\">\n",
              "    <g>\n",
              "        <path d=\"M19 3H5c-1.1 0-2 .9-2 2v14c0 1.1.9 2 2 2h14c1.1 0 2-.9 2-2V5c0-1.1-.9-2-2-2zM9 17H7v-7h2v7zm4 0h-2V7h2v10zm4 0h-2v-4h2v4z\"/>\n",
              "    </g>\n",
              "</svg>\n",
              "  </button>\n",
              "\n",
              "<style>\n",
              "  .colab-df-quickchart {\n",
              "      --bg-color: #E8F0FE;\n",
              "      --fill-color: #1967D2;\n",
              "      --hover-bg-color: #E2EBFA;\n",
              "      --hover-fill-color: #174EA6;\n",
              "      --disabled-fill-color: #AAA;\n",
              "      --disabled-bg-color: #DDD;\n",
              "  }\n",
              "\n",
              "  [theme=dark] .colab-df-quickchart {\n",
              "      --bg-color: #3B4455;\n",
              "      --fill-color: #D2E3FC;\n",
              "      --hover-bg-color: #434B5C;\n",
              "      --hover-fill-color: #FFFFFF;\n",
              "      --disabled-bg-color: #3B4455;\n",
              "      --disabled-fill-color: #666;\n",
              "  }\n",
              "\n",
              "  .colab-df-quickchart {\n",
              "    background-color: var(--bg-color);\n",
              "    border: none;\n",
              "    border-radius: 50%;\n",
              "    cursor: pointer;\n",
              "    display: none;\n",
              "    fill: var(--fill-color);\n",
              "    height: 32px;\n",
              "    padding: 0;\n",
              "    width: 32px;\n",
              "  }\n",
              "\n",
              "  .colab-df-quickchart:hover {\n",
              "    background-color: var(--hover-bg-color);\n",
              "    box-shadow: 0 1px 2px rgba(60, 64, 67, 0.3), 0 1px 3px 1px rgba(60, 64, 67, 0.15);\n",
              "    fill: var(--button-hover-fill-color);\n",
              "  }\n",
              "\n",
              "  .colab-df-quickchart-complete:disabled,\n",
              "  .colab-df-quickchart-complete:disabled:hover {\n",
              "    background-color: var(--disabled-bg-color);\n",
              "    fill: var(--disabled-fill-color);\n",
              "    box-shadow: none;\n",
              "  }\n",
              "\n",
              "  .colab-df-spinner {\n",
              "    border: 2px solid var(--fill-color);\n",
              "    border-color: transparent;\n",
              "    border-bottom-color: var(--fill-color);\n",
              "    animation:\n",
              "      spin 1s steps(1) infinite;\n",
              "  }\n",
              "\n",
              "  @keyframes spin {\n",
              "    0% {\n",
              "      border-color: transparent;\n",
              "      border-bottom-color: var(--fill-color);\n",
              "      border-left-color: var(--fill-color);\n",
              "    }\n",
              "    20% {\n",
              "      border-color: transparent;\n",
              "      border-left-color: var(--fill-color);\n",
              "      border-top-color: var(--fill-color);\n",
              "    }\n",
              "    30% {\n",
              "      border-color: transparent;\n",
              "      border-left-color: var(--fill-color);\n",
              "      border-top-color: var(--fill-color);\n",
              "      border-right-color: var(--fill-color);\n",
              "    }\n",
              "    40% {\n",
              "      border-color: transparent;\n",
              "      border-right-color: var(--fill-color);\n",
              "      border-top-color: var(--fill-color);\n",
              "    }\n",
              "    60% {\n",
              "      border-color: transparent;\n",
              "      border-right-color: var(--fill-color);\n",
              "    }\n",
              "    80% {\n",
              "      border-color: transparent;\n",
              "      border-right-color: var(--fill-color);\n",
              "      border-bottom-color: var(--fill-color);\n",
              "    }\n",
              "    90% {\n",
              "      border-color: transparent;\n",
              "      border-bottom-color: var(--fill-color);\n",
              "    }\n",
              "  }\n",
              "</style>\n",
              "\n",
              "  <script>\n",
              "    async function quickchart(key) {\n",
              "      const quickchartButtonEl =\n",
              "        document.querySelector('#' + key + ' button');\n",
              "      quickchartButtonEl.disabled = true;  // To prevent multiple clicks.\n",
              "      quickchartButtonEl.classList.add('colab-df-spinner');\n",
              "      try {\n",
              "        const charts = await google.colab.kernel.invokeFunction(\n",
              "            'suggestCharts', [key], {});\n",
              "      } catch (error) {\n",
              "        console.error('Error during call to suggestCharts:', error);\n",
              "      }\n",
              "      quickchartButtonEl.classList.remove('colab-df-spinner');\n",
              "      quickchartButtonEl.classList.add('colab-df-quickchart-complete');\n",
              "    }\n",
              "    (() => {\n",
              "      let quickchartButtonEl =\n",
              "        document.querySelector('#df-09716343-3675-4858-933e-c5d3fa1e03d7 button');\n",
              "      quickchartButtonEl.style.display =\n",
              "        google.colab.kernel.accessAllowed ? 'block' : 'none';\n",
              "    })();\n",
              "  </script>\n",
              "</div>\n",
              "    </div>\n",
              "  </div>\n"
            ]
          },
          "metadata": {},
          "execution_count": 43
        }
      ],
      "source": [
        "df_test = df_test.iloc[5:]\n",
        "df_test.head(3)"
      ]
    },
    {
      "cell_type": "code",
      "execution_count": 44,
      "metadata": {
        "execution": {
          "iopub.execute_input": "2023-12-16T15:48:47.523486Z",
          "iopub.status.busy": "2023-12-16T15:48:47.523170Z",
          "iopub.status.idle": "2023-12-16T15:48:47.535159Z",
          "shell.execute_reply": "2023-12-16T15:48:47.534283Z",
          "shell.execute_reply.started": "2023-12-16T15:48:47.523460Z"
        },
        "id": "fVwPiqoamz1z",
        "trusted": true
      },
      "outputs": [],
      "source": [
        "df_test = df_test.sample(frac=1).reset_index(drop=True)"
      ]
    },
    {
      "cell_type": "code",
      "execution_count": 45,
      "metadata": {
        "colab": {
          "base_uri": "https://localhost:8080/"
        },
        "execution": {
          "iopub.execute_input": "2023-12-16T15:48:47.536463Z",
          "iopub.status.busy": "2023-12-16T15:48:47.536172Z",
          "iopub.status.idle": "2023-12-16T15:48:47.553459Z",
          "shell.execute_reply": "2023-12-16T15:48:47.552693Z",
          "shell.execute_reply.started": "2023-12-16T15:48:47.536439Z"
        },
        "id": "fNSmhw_lmz1z",
        "outputId": "ba8bf89b-4eb9-4292-f12b-66888fc5149b",
        "trusted": true
      },
      "outputs": [
        {
          "output_type": "execute_result",
          "data": {
            "text/plain": [
              "Positive              11382\n",
              "Negative               9886\n",
              "Neutral                7560\n",
              "Extremely Positive     6618\n",
              "Extremely Negative     5477\n",
              "Name: Sentiment, dtype: int64"
            ]
          },
          "metadata": {},
          "execution_count": 45
        }
      ],
      "source": [
        "df['Sentiment'].value_counts()"
      ]
    },
    {
      "cell_type": "code",
      "execution_count": 46,
      "metadata": {
        "execution": {
          "iopub.execute_input": "2023-12-16T15:48:47.554628Z",
          "iopub.status.busy": "2023-12-16T15:48:47.554368Z",
          "iopub.status.idle": "2023-12-16T15:48:47.568947Z",
          "shell.execute_reply": "2023-12-16T15:48:47.568131Z",
          "shell.execute_reply.started": "2023-12-16T15:48:47.554600Z"
        },
        "id": "PclUWzQAmz1z",
        "trusted": true
      },
      "outputs": [],
      "source": [
        "df['Sentiment'] = df['Sentiment'].map({'Extremely Negative':0,'Negative':0,'Neutral':1,'Positive':2,'Extremely Positive':2})"
      ]
    },
    {
      "cell_type": "code",
      "execution_count": 47,
      "metadata": {
        "execution": {
          "iopub.execute_input": "2023-12-16T15:48:47.570792Z",
          "iopub.status.busy": "2023-12-16T15:48:47.570171Z",
          "iopub.status.idle": "2023-12-16T15:48:47.580978Z",
          "shell.execute_reply": "2023-12-16T15:48:47.580290Z",
          "shell.execute_reply.started": "2023-12-16T15:48:47.570744Z"
        },
        "id": "ttDbrU9Nmz10",
        "trusted": true
      },
      "outputs": [],
      "source": [
        "df_test['Sentiment'] = df_test['Sentiment'].map({'Extremely Negative':0,'Negative':0,'Neutral':1,'Positive':2,'Extremely Positive':2})"
      ]
    },
    {
      "cell_type": "code",
      "execution_count": 48,
      "metadata": {
        "colab": {
          "base_uri": "https://localhost:8080/"
        },
        "execution": {
          "iopub.execute_input": "2023-12-16T15:48:47.582353Z",
          "iopub.status.busy": "2023-12-16T15:48:47.582038Z",
          "iopub.status.idle": "2023-12-16T15:48:47.595578Z",
          "shell.execute_reply": "2023-12-16T15:48:47.594679Z",
          "shell.execute_reply.started": "2023-12-16T15:48:47.582328Z"
        },
        "id": "R-GDHfKBmz10",
        "outputId": "4d3b71ec-096d-4bda-b190-2f711415fa7b",
        "trusted": true
      },
      "outputs": [
        {
          "output_type": "execute_result",
          "data": {
            "text/plain": [
              "2    18000\n",
              "0    15363\n",
              "1     7560\n",
              "Name: Sentiment, dtype: int64"
            ]
          },
          "metadata": {},
          "execution_count": 48
        }
      ],
      "source": [
        "df['Sentiment'].value_counts()"
      ]
    },
    {
      "cell_type": "code",
      "execution_count": 49,
      "metadata": {
        "execution": {
          "iopub.execute_input": "2023-12-16T15:48:47.598724Z",
          "iopub.status.busy": "2023-12-16T15:48:47.596740Z",
          "iopub.status.idle": "2023-12-16T15:48:47.888799Z",
          "shell.execute_reply": "2023-12-16T15:48:47.888028Z",
          "shell.execute_reply.started": "2023-12-16T15:48:47.598698Z"
        },
        "id": "Zfj9mqZHmz10",
        "trusted": true
      },
      "outputs": [],
      "source": [
        "ros = RandomOverSampler()\n",
        "train_x, train_y = ros.fit_resample(np.array(df['text_clean']).reshape(-1, 1), np.array(df['Sentiment']).reshape(-1, 1));\n",
        "train_os = pd.DataFrame(list(zip([x[0] for x in train_x], train_y)), columns = ['text_clean', 'Sentiment']);"
      ]
    },
    {
      "cell_type": "code",
      "execution_count": 50,
      "metadata": {
        "colab": {
          "base_uri": "https://localhost:8080/"
        },
        "execution": {
          "iopub.execute_input": "2023-12-16T15:48:47.890924Z",
          "iopub.status.busy": "2023-12-16T15:48:47.890137Z",
          "iopub.status.idle": "2023-12-16T15:48:47.898665Z",
          "shell.execute_reply": "2023-12-16T15:48:47.897781Z",
          "shell.execute_reply.started": "2023-12-16T15:48:47.890888Z"
        },
        "id": "akcizQCXmz10",
        "outputId": "1930b9bd-4f33-4626-e771-1c9d8a7da5b6",
        "trusted": true
      },
      "outputs": [
        {
          "output_type": "execute_result",
          "data": {
            "text/plain": [
              "0    18000\n",
              "1    18000\n",
              "2    18000\n",
              "Name: Sentiment, dtype: int64"
            ]
          },
          "metadata": {},
          "execution_count": 50
        }
      ],
      "source": [
        "train_os['Sentiment'].value_counts()"
      ]
    },
    {
      "cell_type": "code",
      "execution_count": 51,
      "metadata": {
        "execution": {
          "iopub.execute_input": "2023-12-16T15:48:47.900180Z",
          "iopub.status.busy": "2023-12-16T15:48:47.899893Z",
          "iopub.status.idle": "2023-12-16T15:48:47.909287Z",
          "shell.execute_reply": "2023-12-16T15:48:47.908563Z",
          "shell.execute_reply.started": "2023-12-16T15:48:47.900155Z"
        },
        "id": "ugzp0TSSmz10",
        "trusted": true
      },
      "outputs": [],
      "source": [
        "X = train_os['text_clean'].values\n",
        "y = train_os['Sentiment'].values"
      ]
    },
    {
      "cell_type": "code",
      "execution_count": 52,
      "metadata": {
        "execution": {
          "iopub.execute_input": "2023-12-16T15:48:47.910673Z",
          "iopub.status.busy": "2023-12-16T15:48:47.910389Z",
          "iopub.status.idle": "2023-12-16T15:48:47.943655Z",
          "shell.execute_reply": "2023-12-16T15:48:47.942953Z",
          "shell.execute_reply.started": "2023-12-16T15:48:47.910639Z"
        },
        "id": "B9AIqkc6mz11",
        "trusted": true
      },
      "outputs": [],
      "source": [
        "X_train, X_valid, y_train, y_valid = train_test_split(X, y, test_size=0.1, stratify=y, random_state=seed)"
      ]
    },
    {
      "cell_type": "code",
      "execution_count": 53,
      "metadata": {
        "execution": {
          "iopub.execute_input": "2023-12-16T15:48:47.944914Z",
          "iopub.status.busy": "2023-12-16T15:48:47.944659Z",
          "iopub.status.idle": "2023-12-16T15:48:47.950100Z",
          "shell.execute_reply": "2023-12-16T15:48:47.949218Z",
          "shell.execute_reply.started": "2023-12-16T15:48:47.944891Z"
        },
        "id": "svf0A6Xbmz11",
        "trusted": true
      },
      "outputs": [],
      "source": [
        "X_test = df_test['text_clean'].values\n",
        "y_test = df_test['Sentiment'].values"
      ]
    },
    {
      "cell_type": "code",
      "execution_count": 54,
      "metadata": {
        "execution": {
          "iopub.execute_input": "2023-12-16T15:48:47.951502Z",
          "iopub.status.busy": "2023-12-16T15:48:47.951211Z",
          "iopub.status.idle": "2023-12-16T15:48:47.961839Z",
          "shell.execute_reply": "2023-12-16T15:48:47.960944Z",
          "shell.execute_reply.started": "2023-12-16T15:48:47.951478Z"
        },
        "id": "fpKEU1EImz11",
        "trusted": true
      },
      "outputs": [],
      "source": [
        "y_train_le = y_train.copy()\n",
        "y_valid_le = y_valid.copy()\n",
        "y_test_le = y_test.copy()"
      ]
    },
    {
      "cell_type": "code",
      "execution_count": 55,
      "metadata": {
        "colab": {
          "base_uri": "https://localhost:8080/"
        },
        "execution": {
          "iopub.execute_input": "2023-12-16T15:48:47.963763Z",
          "iopub.status.busy": "2023-12-16T15:48:47.963102Z",
          "iopub.status.idle": "2023-12-16T15:48:47.972506Z",
          "shell.execute_reply": "2023-12-16T15:48:47.971655Z",
          "shell.execute_reply.started": "2023-12-16T15:48:47.963729Z"
        },
        "id": "MqboRSMDmz11",
        "outputId": "df08ecdb-8936-4b63-b45e-259d68d66547",
        "trusted": true
      },
      "outputs": [
        {
          "output_type": "stream",
          "name": "stdout",
          "text": [
            "TRAINING DATA: 48600\n",
            "VALIDATION DATA: 5400\n",
            "TESTING DATA: 3787\n"
          ]
        }
      ],
      "source": [
        "print(f\"TRAINING DATA: {X_train.shape[0]}\\nVALIDATION DATA: {X_valid.shape[0]}\\nTESTING DATA: {X_test.shape[0]}\" )"
      ]
    },
    {
      "cell_type": "code",
      "execution_count": 56,
      "metadata": {
        "execution": {
          "iopub.execute_input": "2023-12-16T15:48:47.973746Z",
          "iopub.status.busy": "2023-12-16T15:48:47.973470Z",
          "iopub.status.idle": "2023-12-16T15:48:49.775221Z",
          "shell.execute_reply": "2023-12-16T15:48:49.774409Z",
          "shell.execute_reply.started": "2023-12-16T15:48:47.973722Z"
        },
        "id": "qEtYgyuAmz12",
        "trusted": true
      },
      "outputs": [],
      "source": [
        "clf = CountVectorizer()\n",
        "X_train_cv =  clf.fit_transform(X_train)\n",
        "X_test_cv = clf.transform(X_test)"
      ]
    },
    {
      "cell_type": "code",
      "execution_count": 57,
      "metadata": {
        "execution": {
          "iopub.execute_input": "2023-12-16T15:48:49.776649Z",
          "iopub.status.busy": "2023-12-16T15:48:49.776343Z",
          "iopub.status.idle": "2023-12-16T15:48:49.882551Z",
          "shell.execute_reply": "2023-12-16T15:48:49.881557Z",
          "shell.execute_reply.started": "2023-12-16T15:48:49.776622Z"
        },
        "id": "oFfM29LFmz12",
        "trusted": true
      },
      "outputs": [],
      "source": [
        "tf_transformer = TfidfTransformer(use_idf=True).fit(X_train_cv)\n",
        "X_train_tf = tf_transformer.transform(X_train_cv)\n",
        "X_test_tf = tf_transformer.transform(X_test_cv)"
      ]
    },
    {
      "cell_type": "code",
      "execution_count": 58,
      "metadata": {
        "execution": {
          "iopub.execute_input": "2023-12-16T15:48:49.884055Z",
          "iopub.status.busy": "2023-12-16T15:48:49.883755Z",
          "iopub.status.idle": "2023-12-16T15:48:49.888606Z",
          "shell.execute_reply": "2023-12-16T15:48:49.887649Z",
          "shell.execute_reply.started": "2023-12-16T15:48:49.884028Z"
        },
        "id": "uNmkq9i9mz12",
        "trusted": true
      },
      "outputs": [],
      "source": [
        "nb_clf = MultinomialNB()"
      ]
    },
    {
      "cell_type": "code",
      "execution_count": 59,
      "metadata": {
        "colab": {
          "base_uri": "https://localhost:8080/",
          "height": 74
        },
        "execution": {
          "iopub.execute_input": "2023-12-16T15:48:49.889954Z",
          "iopub.status.busy": "2023-12-16T15:48:49.889649Z",
          "iopub.status.idle": "2023-12-16T15:48:49.923057Z",
          "shell.execute_reply": "2023-12-16T15:48:49.922159Z",
          "shell.execute_reply.started": "2023-12-16T15:48:49.889929Z"
        },
        "id": "SQNLn31Jmz12",
        "outputId": "e814ae05-bd84-4481-f4e5-5f1c61c5f33a",
        "trusted": true
      },
      "outputs": [
        {
          "output_type": "execute_result",
          "data": {
            "text/plain": [
              "MultinomialNB()"
            ],
            "text/html": [
              "<style>#sk-container-id-1 {color: black;background-color: white;}#sk-container-id-1 pre{padding: 0;}#sk-container-id-1 div.sk-toggleable {background-color: white;}#sk-container-id-1 label.sk-toggleable__label {cursor: pointer;display: block;width: 100%;margin-bottom: 0;padding: 0.3em;box-sizing: border-box;text-align: center;}#sk-container-id-1 label.sk-toggleable__label-arrow:before {content: \"▸\";float: left;margin-right: 0.25em;color: #696969;}#sk-container-id-1 label.sk-toggleable__label-arrow:hover:before {color: black;}#sk-container-id-1 div.sk-estimator:hover label.sk-toggleable__label-arrow:before {color: black;}#sk-container-id-1 div.sk-toggleable__content {max-height: 0;max-width: 0;overflow: hidden;text-align: left;background-color: #f0f8ff;}#sk-container-id-1 div.sk-toggleable__content pre {margin: 0.2em;color: black;border-radius: 0.25em;background-color: #f0f8ff;}#sk-container-id-1 input.sk-toggleable__control:checked~div.sk-toggleable__content {max-height: 200px;max-width: 100%;overflow: auto;}#sk-container-id-1 input.sk-toggleable__control:checked~label.sk-toggleable__label-arrow:before {content: \"▾\";}#sk-container-id-1 div.sk-estimator input.sk-toggleable__control:checked~label.sk-toggleable__label {background-color: #d4ebff;}#sk-container-id-1 div.sk-label input.sk-toggleable__control:checked~label.sk-toggleable__label {background-color: #d4ebff;}#sk-container-id-1 input.sk-hidden--visually {border: 0;clip: rect(1px 1px 1px 1px);clip: rect(1px, 1px, 1px, 1px);height: 1px;margin: -1px;overflow: hidden;padding: 0;position: absolute;width: 1px;}#sk-container-id-1 div.sk-estimator {font-family: monospace;background-color: #f0f8ff;border: 1px dotted black;border-radius: 0.25em;box-sizing: border-box;margin-bottom: 0.5em;}#sk-container-id-1 div.sk-estimator:hover {background-color: #d4ebff;}#sk-container-id-1 div.sk-parallel-item::after {content: \"\";width: 100%;border-bottom: 1px solid gray;flex-grow: 1;}#sk-container-id-1 div.sk-label:hover label.sk-toggleable__label {background-color: #d4ebff;}#sk-container-id-1 div.sk-serial::before {content: \"\";position: absolute;border-left: 1px solid gray;box-sizing: border-box;top: 0;bottom: 0;left: 50%;z-index: 0;}#sk-container-id-1 div.sk-serial {display: flex;flex-direction: column;align-items: center;background-color: white;padding-right: 0.2em;padding-left: 0.2em;position: relative;}#sk-container-id-1 div.sk-item {position: relative;z-index: 1;}#sk-container-id-1 div.sk-parallel {display: flex;align-items: stretch;justify-content: center;background-color: white;position: relative;}#sk-container-id-1 div.sk-item::before, #sk-container-id-1 div.sk-parallel-item::before {content: \"\";position: absolute;border-left: 1px solid gray;box-sizing: border-box;top: 0;bottom: 0;left: 50%;z-index: -1;}#sk-container-id-1 div.sk-parallel-item {display: flex;flex-direction: column;z-index: 1;position: relative;background-color: white;}#sk-container-id-1 div.sk-parallel-item:first-child::after {align-self: flex-end;width: 50%;}#sk-container-id-1 div.sk-parallel-item:last-child::after {align-self: flex-start;width: 50%;}#sk-container-id-1 div.sk-parallel-item:only-child::after {width: 0;}#sk-container-id-1 div.sk-dashed-wrapped {border: 1px dashed gray;margin: 0 0.4em 0.5em 0.4em;box-sizing: border-box;padding-bottom: 0.4em;background-color: white;}#sk-container-id-1 div.sk-label label {font-family: monospace;font-weight: bold;display: inline-block;line-height: 1.2em;}#sk-container-id-1 div.sk-label-container {text-align: center;}#sk-container-id-1 div.sk-container {/* jupyter's `normalize.less` sets `[hidden] { display: none; }` but bootstrap.min.css set `[hidden] { display: none !important; }` so we also need the `!important` here to be able to override the default hidden behavior on the sphinx rendered scikit-learn.org. See: https://github.com/scikit-learn/scikit-learn/issues/21755 */display: inline-block !important;position: relative;}#sk-container-id-1 div.sk-text-repr-fallback {display: none;}</style><div id=\"sk-container-id-1\" class=\"sk-top-container\"><div class=\"sk-text-repr-fallback\"><pre>MultinomialNB()</pre><b>In a Jupyter environment, please rerun this cell to show the HTML representation or trust the notebook. <br />On GitHub, the HTML representation is unable to render, please try loading this page with nbviewer.org.</b></div><div class=\"sk-container\" hidden><div class=\"sk-item\"><div class=\"sk-estimator sk-toggleable\"><input class=\"sk-toggleable__control sk-hidden--visually\" id=\"sk-estimator-id-1\" type=\"checkbox\" checked><label for=\"sk-estimator-id-1\" class=\"sk-toggleable__label sk-toggleable__label-arrow\">MultinomialNB</label><div class=\"sk-toggleable__content\"><pre>MultinomialNB()</pre></div></div></div></div></div>"
            ]
          },
          "metadata": {},
          "execution_count": 59
        }
      ],
      "source": [
        "nb_clf.fit(X_train_tf, y_train_le)"
      ]
    },
    {
      "cell_type": "code",
      "execution_count": 60,
      "metadata": {
        "execution": {
          "iopub.execute_input": "2023-12-16T15:48:49.924477Z",
          "iopub.status.busy": "2023-12-16T15:48:49.924176Z",
          "iopub.status.idle": "2023-12-16T15:48:49.930695Z",
          "shell.execute_reply": "2023-12-16T15:48:49.929793Z",
          "shell.execute_reply.started": "2023-12-16T15:48:49.924452Z"
        },
        "id": "o-Au5CgTmz12",
        "trusted": true
      },
      "outputs": [],
      "source": [
        "nb_pred = nb_clf.predict(X_test_tf)"
      ]
    },
    {
      "cell_type": "code",
      "execution_count": 61,
      "metadata": {
        "colab": {
          "base_uri": "https://localhost:8080/"
        },
        "execution": {
          "iopub.execute_input": "2023-12-16T15:48:49.932206Z",
          "iopub.status.busy": "2023-12-16T15:48:49.931868Z",
          "iopub.status.idle": "2023-12-16T15:48:49.953255Z",
          "shell.execute_reply": "2023-12-16T15:48:49.952440Z",
          "shell.execute_reply.started": "2023-12-16T15:48:49.932174Z"
        },
        "id": "x3NV0bqKmz13",
        "outputId": "7986fa66-81dc-4a1c-80ba-a2713e288aaa",
        "trusted": true
      },
      "outputs": [
        {
          "output_type": "stream",
          "name": "stdout",
          "text": [
            "\tClassification Report for Naive Bayes:\n",
            "\n",
            "               precision    recall  f1-score   support\n",
            "\n",
            "    Negative       0.70      0.78      0.74      1629\n",
            "     Neutral       0.60      0.43      0.50       613\n",
            "    Positive       0.73      0.72      0.73      1545\n",
            "\n",
            "    accuracy                           0.70      3787\n",
            "   macro avg       0.68      0.64      0.66      3787\n",
            "weighted avg       0.70      0.70      0.70      3787\n",
            "\n"
          ]
        }
      ],
      "source": [
        "print('\\tClassification Report for Naive Bayes:\\n\\n',classification_report(y_test_le,nb_pred, target_names=['Negative', 'Neutral', 'Positive']))"
      ]
    },
    {
      "cell_type": "code",
      "execution_count": 62,
      "metadata": {
        "execution": {
          "iopub.execute_input": "2023-12-16T15:48:49.955053Z",
          "iopub.status.busy": "2023-12-16T15:48:49.954441Z",
          "iopub.status.idle": "2023-12-16T15:48:49.960215Z",
          "shell.execute_reply": "2023-12-16T15:48:49.959224Z",
          "shell.execute_reply.started": "2023-12-16T15:48:49.955016Z"
        },
        "id": "tioI1OWhmz13",
        "trusted": true
      },
      "outputs": [],
      "source": [
        "from transformers import IBertModel\n",
        "import torch\n",
        "from torch import nn\n",
        "from torch.optim import Adam\n",
        "from torch.nn import CrossEntropyLoss\n",
        "from torch.utils.data import TensorDataset, DataLoader\n"
      ]
    },
    {
      "cell_type": "code",
      "execution_count": 63,
      "metadata": {
        "execution": {
          "iopub.execute_input": "2023-12-16T15:48:50.137175Z",
          "iopub.status.busy": "2023-12-16T15:48:50.136822Z",
          "iopub.status.idle": "2023-12-16T15:48:50.143987Z",
          "shell.execute_reply": "2023-12-16T15:48:50.143040Z",
          "shell.execute_reply.started": "2023-12-16T15:48:50.137141Z"
        },
        "id": "7a1YpSTHmz13",
        "trusted": true
      },
      "outputs": [],
      "source": [
        "MAX_LEN = 128\n",
        "\n",
        "# Tokenization function\n",
        "def tokenize(data, MAX_LEN):\n",
        "    input_ids = []\n",
        "    attention_masks = []\n",
        "    for i in range(len(data)):\n",
        "        encoded = tokenizer.encode_plus(\n",
        "            data[i],\n",
        "            add_special_tokens=True,\n",
        "            max_length=max_len,\n",
        "            padding='max_length',\n",
        "            return_attention_mask=True,\n",
        "            return_tensors='pt'  # return PyTorch tensors\n",
        "        )\n",
        "        input_ids.append(encoded['input_ids'])\n",
        "        attention_masks.append(encoded['attention_mask'])\n",
        "    return torch.cat(input_ids, dim=0), torch.cat(attention_masks, dim=0)"
      ]
    },
    {
      "cell_type": "code",
      "execution_count": 64,
      "metadata": {
        "execution": {
          "iopub.execute_input": "2023-12-16T15:48:50.145326Z",
          "iopub.status.busy": "2023-12-16T15:48:50.145054Z",
          "iopub.status.idle": "2023-12-16T15:49:11.407591Z",
          "shell.execute_reply": "2023-12-16T15:49:11.406807Z",
          "shell.execute_reply.started": "2023-12-16T15:48:50.145302Z"
        },
        "id": "ZKACvI0Hmz13",
        "trusted": true
      },
      "outputs": [],
      "source": [
        "train_input_ids, train_attention_masks = tokenize(X_train, MAX_LEN)\n",
        "val_input_ids, val_attention_masks = tokenize(X_valid, MAX_LEN)\n",
        "test_input_ids, test_attention_masks = tokenize(X_test, MAX_LEN)"
      ]
    },
    {
      "cell_type": "code",
      "execution_count": 65,
      "metadata": {
        "execution": {
          "iopub.execute_input": "2023-12-16T15:49:11.409202Z",
          "iopub.status.busy": "2023-12-16T15:49:11.408942Z",
          "iopub.status.idle": "2023-12-16T15:49:20.446582Z",
          "shell.execute_reply": "2023-12-16T15:49:20.445594Z",
          "shell.execute_reply.started": "2023-12-16T15:49:11.409180Z"
        },
        "trusted": true,
        "colab": {
          "base_uri": "https://localhost:8080/"
        },
        "id": "E6YTr9ji97Pp",
        "outputId": "083fe9da-f195-4bcd-b18e-aaa4b3114928"
      },
      "outputs": [
        {
          "output_type": "execute_result",
          "data": {
            "text/plain": [
              "80"
            ]
          },
          "metadata": {},
          "execution_count": 65
        }
      ],
      "source": [
        "token_lens = []\n",
        "\n",
        "for txt in X_train:\n",
        "    tokens = tokenizer.encode(txt, max_length=512, truncation=True)\n",
        "    token_lens.append(len(tokens))\n",
        "max_length=np.max(token_lens)\n",
        "max_length"
      ]
    },
    {
      "cell_type": "code",
      "execution_count": 66,
      "metadata": {
        "execution": {
          "iopub.execute_input": "2023-12-16T15:49:20.448085Z",
          "iopub.status.busy": "2023-12-16T15:49:20.447770Z",
          "iopub.status.idle": "2023-12-16T15:49:20.455383Z",
          "shell.execute_reply": "2023-12-16T15:49:20.454465Z",
          "shell.execute_reply.started": "2023-12-16T15:49:20.448058Z"
        },
        "id": "d9FCWn6umz13",
        "trusted": true
      },
      "outputs": [],
      "source": [
        "# Model definition\n",
        "\n",
        "class IBertForClassification(nn.Module):\n",
        "    def __init__(self, num_labels=3):\n",
        "        super(IBertForClassification, self).__init__()\n",
        "        self.ibert = IBertModel.from_pretrained('kssteven/ibert-roberta-base')\n",
        "        self.dropout = nn.Dropout(0.1)\n",
        "        self.classifier = nn.Linear(self.ibert.config.hidden_size, num_labels)\n",
        "\n",
        "    def forward(self, input_ids, attention_mask=None):\n",
        "        outputs = self.ibert(input_ids, attention_mask=attention_mask)\n",
        "        pooled_output = outputs[1]\n",
        "        pooled_output = self.dropout(pooled_output)\n",
        "        logits = self.classifier(pooled_output)\n",
        "        return logits"
      ]
    },
    {
      "cell_type": "code",
      "execution_count": 67,
      "metadata": {
        "execution": {
          "iopub.execute_input": "2023-12-16T15:49:20.456829Z",
          "iopub.status.busy": "2023-12-16T15:49:20.456538Z",
          "iopub.status.idle": "2023-12-16T15:49:20.468450Z",
          "shell.execute_reply": "2023-12-16T15:49:20.467470Z",
          "shell.execute_reply.started": "2023-12-16T15:49:20.456804Z"
        },
        "id": "yYQiLPVcmz15",
        "trusted": true
      },
      "outputs": [],
      "source": [
        "# Convert labels to PyTorch tensors\n",
        "train_labels = torch.tensor(y_train)\n",
        "val_labels = torch.tensor(y_valid)\n",
        "test_labels = torch.tensor(y_test)"
      ]
    },
    {
      "cell_type": "code",
      "execution_count": 68,
      "metadata": {
        "execution": {
          "iopub.execute_input": "2023-12-16T15:49:20.469921Z",
          "iopub.status.busy": "2023-12-16T15:49:20.469582Z",
          "iopub.status.idle": "2023-12-16T15:49:20.479934Z",
          "shell.execute_reply": "2023-12-16T15:49:20.478996Z",
          "shell.execute_reply.started": "2023-12-16T15:49:20.469893Z"
        },
        "id": "LW_CdjYHmz15",
        "trusted": true
      },
      "outputs": [],
      "source": [
        "# Create PyTorch dataloaders\n",
        "train_data = TensorDataset(train_input_ids, train_attention_masks, train_labels)\n",
        "val_data = TensorDataset(val_input_ids, val_attention_masks, val_labels)\n",
        "test_data = TensorDataset(test_input_ids, test_attention_masks, test_labels)\n"
      ]
    },
    {
      "cell_type": "code",
      "execution_count": 69,
      "metadata": {
        "execution": {
          "iopub.execute_input": "2023-12-16T15:49:20.481526Z",
          "iopub.status.busy": "2023-12-16T15:49:20.481166Z",
          "iopub.status.idle": "2023-12-16T15:49:20.492008Z",
          "shell.execute_reply": "2023-12-16T15:49:20.491286Z",
          "shell.execute_reply.started": "2023-12-16T15:49:20.481492Z"
        },
        "id": "nkzlB7G0mz15",
        "trusted": true
      },
      "outputs": [],
      "source": [
        "train_dataloader = DataLoader(train_data, batch_size=32)\n",
        "val_dataloader = DataLoader(val_data, batch_size=32)\n",
        "test_dataloader = DataLoader(test_data, batch_size=32)"
      ]
    },
    {
      "cell_type": "code",
      "execution_count": 70,
      "metadata": {
        "execution": {
          "iopub.execute_input": "2023-12-16T15:49:20.493387Z",
          "iopub.status.busy": "2023-12-16T15:49:20.493098Z",
          "iopub.status.idle": "2023-12-16T15:49:20.511181Z",
          "shell.execute_reply": "2023-12-16T15:49:20.510367Z",
          "shell.execute_reply.started": "2023-12-16T15:49:20.493356Z"
        },
        "trusted": true,
        "colab": {
          "base_uri": "https://localhost:8080/"
        },
        "id": "4tMtB8Tv97Pq",
        "outputId": "00583196-e398-41fa-d79f-472fba06e885"
      },
      "outputs": [
        {
          "output_type": "execute_result",
          "data": {
            "text/plain": [
              "array([2, 2, 0, ..., 1, 0, 1])"
            ]
          },
          "metadata": {},
          "execution_count": 70
        }
      ],
      "source": [
        "y_train"
      ]
    },
    {
      "cell_type": "code",
      "execution_count": 71,
      "metadata": {
        "execution": {
          "iopub.execute_input": "2023-12-16T15:49:20.512620Z",
          "iopub.status.busy": "2023-12-16T15:49:20.512343Z",
          "iopub.status.idle": "2023-12-16T15:49:20.524123Z",
          "shell.execute_reply": "2023-12-16T15:49:20.523298Z",
          "shell.execute_reply.started": "2023-12-16T15:49:20.512597Z"
        },
        "trusted": true,
        "colab": {
          "base_uri": "https://localhost:8080/"
        },
        "id": "Q1meSe9Y97Pq",
        "outputId": "4c7dcc2e-8252-45c5-a740-4f9b56ebe747"
      },
      "outputs": [
        {
          "output_type": "execute_result",
          "data": {
            "text/plain": [
              "array([0, 2, 0, ..., 0, 0, 2])"
            ]
          },
          "metadata": {},
          "execution_count": 71
        }
      ],
      "source": [
        "y_valid"
      ]
    },
    {
      "cell_type": "code",
      "execution_count": 72,
      "metadata": {
        "execution": {
          "iopub.execute_input": "2023-12-16T15:49:20.525681Z",
          "iopub.status.busy": "2023-12-16T15:49:20.525329Z",
          "iopub.status.idle": "2023-12-16T15:49:20.537071Z",
          "shell.execute_reply": "2023-12-16T15:49:20.536280Z",
          "shell.execute_reply.started": "2023-12-16T15:49:20.525654Z"
        },
        "trusted": true,
        "colab": {
          "base_uri": "https://localhost:8080/"
        },
        "id": "y669MCvo97Pq",
        "outputId": "fb227dfc-1df1-4d9e-ae7f-f17d4ff08f11"
      },
      "outputs": [
        {
          "output_type": "execute_result",
          "data": {
            "text/plain": [
              "array([2, 1, 0, ..., 0, 0, 0])"
            ]
          },
          "metadata": {},
          "execution_count": 72
        }
      ],
      "source": [
        "y_test"
      ]
    },
    {
      "cell_type": "code",
      "execution_count": 75,
      "metadata": {
        "execution": {
          "iopub.execute_input": "2023-12-16T15:49:20.538705Z",
          "iopub.status.busy": "2023-12-16T15:49:20.538248Z",
          "iopub.status.idle": "2023-12-16T16:38:55.669274Z",
          "shell.execute_reply": "2023-12-16T16:38:55.668300Z",
          "shell.execute_reply.started": "2023-12-16T15:49:20.538679Z"
        },
        "trusted": true,
        "colab": {
          "base_uri": "https://localhost:8080/"
        },
        "id": "RlXgwd8997Pq",
        "outputId": "cb3dc07f-397d-402d-c52f-08e32a8dec75"
      },
      "outputs": [
        {
          "output_type": "stream",
          "name": "stderr",
          "text": [
            "Some weights of IBertModel were not initialized from the model checkpoint at kssteven/ibert-roberta-base and are newly initialized: ['ibert.encoder.layer.11.output.LayerNorm.activation.x_max', 'ibert.encoder.layer.10.attention.self.key_activation.act_scaling_factor', 'ibert.encoder.layer.2.attention.output.dense.fc_scaling_factor', 'ibert.encoder.layer.2.intermediate.dense.bias_integer', 'ibert.encoder.layer.3.attention.self.output_activation.act_scaling_factor', 'ibert.encoder.layer.11.attention.output.LayerNorm.activation.act_scaling_factor', 'ibert.encoder.layer.8.attention.self.value.weight_integer', 'ibert.encoder.layer.8.attention.self.query_activation.x_max', 'ibert.embeddings.token_type_embeddings.weight_integer', 'ibert.encoder.layer.0.attention.output.output_activation.x_min', 'ibert.encoder.layer.1.output.ln_input_act.x_min', 'ibert.encoder.layer.8.pre_output_act.x_min', 'ibert.encoder.layer.2.attention.self.value_activation.act_scaling_factor', 'ibert.encoder.layer.8.attention.self.value.fc_scaling_factor', 'ibert.encoder.layer.4.pre_intermediate_act.x_max', 'ibert.encoder.layer.7.attention.output.LayerNorm.shift', 'ibert.encoder.layer.11.pre_output_act.x_min', 'ibert.encoder.layer.1.output.LayerNorm.activation.x_min', 'ibert.encoder.layer.6.intermediate.output_activation.x_max', 'ibert.encoder.layer.5.attention.self.key.fc_scaling_factor', 'ibert.encoder.layer.9.attention.output.dense.weight_integer', 'ibert.encoder.layer.1.attention.self.softmax.act.x_max', 'ibert.encoder.layer.4.attention.self.softmax.act.x_max', 'ibert.encoder.layer.4.attention.self.query_activation.act_scaling_factor', 'ibert.encoder.layer.2.attention.output.ln_input_act.x_max', 'ibert.encoder.layer.5.attention.self.key.bias_integer', 'ibert.encoder.layer.10.output.output_activation.act_scaling_factor', 'ibert.encoder.layer.10.output.ln_input_act.x_min', 'ibert.encoder.layer.6.intermediate.output_activation.x_min', 'ibert.encoder.layer.6.attention.output.LayerNorm.shift', 'ibert.encoder.layer.0.attention.output.dense.bias_integer', 'ibert.encoder.layer.11.attention.output.ln_input_act.x_max', 'ibert.encoder.layer.7.output.LayerNorm.shift', 'ibert.encoder.layer.1.attention.output.LayerNorm.activation.x_max', 'ibert.encoder.layer.8.output.LayerNorm.activation.x_min', 'ibert.encoder.layer.7.attention.self.softmax.act.x_max', 'ibert.encoder.layer.3.attention.output.LayerNorm.activation.x_min', 'ibert.encoder.layer.10.attention.output.output_activation.act_scaling_factor', 'ibert.encoder.layer.5.output.LayerNorm.activation.x_max', 'ibert.encoder.layer.7.attention.output.output_activation.x_max', 'ibert.encoder.layer.8.attention.output.dense.weight_integer', 'ibert.encoder.layer.10.attention.self.output_activation.act_scaling_factor', 'ibert.encoder.layer.8.intermediate.output_activation.x_max', 'ibert.encoder.layer.3.attention.self.query.weight_integer', 'ibert.encoder.layer.7.pre_intermediate_act.x_min', 'ibert.encoder.layer.8.attention.output.LayerNorm.shift', 'ibert.encoder.layer.4.output.ln_input_act.act_scaling_factor', 'ibert.encoder.layer.3.attention.output.LayerNorm.activation.act_scaling_factor', 'ibert.encoder.layer.1.pre_output_act.act_scaling_factor', 'ibert.encoder.layer.5.attention.self.output_activation.x_min', 'ibert.encoder.layer.1.attention.self.key.weight_integer', 'ibert.encoder.layer.1.intermediate.dense.fc_scaling_factor', 'ibert.encoder.layer.9.output.dense.bias_integer', 'ibert.encoder.layer.4.output.ln_input_act.x_min', 'ibert.encoder.layer.7.attention.output.ln_input_act.x_max', 'ibert.encoder.layer.11.output.output_activation.act_scaling_factor', 'ibert.encoder.layer.3.attention.output.LayerNorm.shift', 'ibert.encoder.layer.6.output.output_activation.x_min', 'ibert.encoder.layer.9.output.ln_input_act.x_max', 'ibert.embeddings.LayerNorm.activation.act_scaling_factor', 'ibert.encoder.layer.2.intermediate.dense.weight_integer', 'ibert.encoder.layer.11.output.ln_input_act.act_scaling_factor', 'ibert.encoder.layer.8.output.LayerNorm.activation.act_scaling_factor', 'ibert.encoder.layer.2.attention.self.query.bias_integer', 'ibert.encoder.layer.4.intermediate.output_activation.x_max', 'ibert.encoder.layer.10.attention.output.dense.fc_scaling_factor', 'ibert.encoder.layer.10.output.LayerNorm.activation.act_scaling_factor', 'ibert.encoder.layer.11.attention.self.softmax.act.x_min', 'ibert.encoder.layer.0.attention.self.softmax.act.act_scaling_factor', 'ibert.encoder.layer.6.attention.output.dense.weight_integer', 'ibert.encoder.layer.11.output.dense.weight_integer', 'ibert.encoder.layer.3.intermediate.dense.weight_integer', 'ibert.encoder.layer.4.attention.output.dense.weight_integer', 'ibert.encoder.layer.6.attention.self.query.bias_integer', 'ibert.encoder.layer.7.pre_output_act.act_scaling_factor', 'ibert.encoder.layer.10.attention.self.value_activation.act_scaling_factor', 'ibert.encoder.layer.1.attention.self.value_activation.act_scaling_factor', 'ibert.encoder.layer.7.attention.self.value_activation.act_scaling_factor', 'ibert.encoder.layer.2.output.output_activation.x_min', 'ibert.encoder.layer.11.attention.self.query_activation.x_min', 'ibert.encoder.layer.11.output.output_activation.x_min', 'ibert.encoder.layer.11.attention.self.key_activation.act_scaling_factor', 'ibert.encoder.layer.9.attention.output.LayerNorm.activation.act_scaling_factor', 'ibert.encoder.layer.3.output.ln_input_act.x_min', 'ibert.encoder.layer.6.attention.self.softmax.act.x_max', 'ibert.encoder.layer.4.pre_output_act.x_max', 'ibert.encoder.layer.3.output.LayerNorm.activation.x_min', 'ibert.encoder.layer.9.attention.self.softmax.act.act_scaling_factor', 'ibert.encoder.layer.0.output.LayerNorm.activation.x_min', 'ibert.encoder.layer.5.pre_intermediate_act.act_scaling_factor', 'ibert.encoder.layer.8.attention.output.dense.bias_integer', 'ibert.encoder.layer.8.output.LayerNorm.shift', 'ibert.encoder.layer.7.attention.self.key_activation.x_max', 'ibert.encoder.layer.2.attention.self.softmax.act.act_scaling_factor', 'ibert.encoder.layer.3.attention.self.key_activation.act_scaling_factor', 'ibert.encoder.layer.3.output.output_activation.x_max', 'ibert.encoder.layer.4.attention.self.query.weight_integer', 'ibert.encoder.layer.2.pre_intermediate_act.act_scaling_factor', 'ibert.encoder.layer.5.intermediate.dense.fc_scaling_factor', 'ibert.encoder.layer.9.pre_output_act.x_max', 'ibert.encoder.layer.7.attention.self.query.fc_scaling_factor', 'ibert.encoder.layer.5.attention.self.value.fc_scaling_factor', 'ibert.encoder.layer.5.pre_output_act.act_scaling_factor', 'ibert.encoder.layer.5.pre_intermediate_act.x_min', 'ibert.encoder.layer.7.attention.output.dense.fc_scaling_factor', 'ibert.encoder.layer.0.attention.self.output_activation.act_scaling_factor', 'ibert.encoder.layer.1.intermediate.dense.bias_integer', 'ibert.encoder.layer.1.attention.self.value_activation.x_min', 'ibert.encoder.layer.9.attention.output.ln_input_act.x_max', 'ibert.encoder.layer.7.pre_output_act.x_min', 'ibert.encoder.layer.2.output.ln_input_act.x_min', 'ibert.encoder.layer.10.output.dense.weight_integer', 'ibert.encoder.layer.7.output.dense.fc_scaling_factor', 'ibert.encoder.layer.3.attention.self.value_activation.x_min', 'ibert.encoder.layer.5.attention.self.value_activation.x_max', 'ibert.encoder.layer.8.intermediate.output_activation.x_min', 'ibert.encoder.layer.11.attention.self.query.fc_scaling_factor', 'ibert.encoder.layer.9.output.LayerNorm.activation.act_scaling_factor', 'ibert.encoder.layer.4.intermediate.output_activation.act_scaling_factor', 'ibert.encoder.layer.6.attention.output.output_activation.x_max', 'ibert.encoder.layer.7.attention.output.dense.bias_integer', 'ibert.encoder.layer.9.output.ln_input_act.x_min', 'ibert.encoder.layer.10.attention.self.key.weight_integer', 'ibert.encoder.layer.3.attention.self.softmax.act.x_max', 'ibert.encoder.layer.6.output.output_activation.x_max', 'ibert.encoder.layer.9.attention.output.ln_input_act.x_min', 'ibert.encoder.layer.0.attention.output.dense.weight_integer', 'ibert.encoder.layer.3.attention.self.value.fc_scaling_factor', 'ibert.encoder.layer.7.attention.self.query.bias_integer', 'ibert.encoder.layer.6.attention.self.output_activation.act_scaling_factor', 'ibert.encoder.layer.5.intermediate.output_activation.x_min', 'ibert.encoder.layer.9.attention.self.value.bias_integer', 'ibert.encoder.layer.4.attention.output.LayerNorm.shift', 'ibert.encoder.layer.1.attention.self.query_activation.x_min', 'ibert.encoder.layer.10.attention.self.key.bias_integer', 'ibert.encoder.layer.9.attention.self.output_activation.x_min', 'ibert.encoder.layer.7.attention.self.value_activation.x_min', 'ibert.encoder.layer.2.pre_output_act.act_scaling_factor', 'ibert.encoder.layer.3.attention.self.value.weight_integer', 'ibert.encoder.layer.0.pre_output_act.x_min', 'ibert.encoder.layer.6.output.ln_input_act.x_min', 'ibert.encoder.layer.3.intermediate.dense.fc_scaling_factor', 'ibert.encoder.layer.0.output.LayerNorm.activation.x_max', 'ibert.encoder.layer.6.output.LayerNorm.activation.x_min', 'ibert.encoder.layer.6.intermediate.dense.weight_integer', 'ibert.encoder.layer.4.attention.self.value_activation.x_min', 'ibert.encoder.layer.1.attention.output.ln_input_act.act_scaling_factor', 'ibert.encoder.layer.4.intermediate.dense.bias_integer', 'ibert.encoder.layer.11.intermediate.output_activation.x_min', 'ibert.encoder.layer.9.pre_intermediate_act.x_min', 'ibert.encoder.layer.10.pre_output_act.x_min', 'ibert.encoder.layer.8.output.dense.fc_scaling_factor', 'ibert.encoder.layer.3.intermediate.output_activation.x_max', 'ibert.encoder.layer.3.attention.self.key.fc_scaling_factor', 'ibert.encoder.layer.0.attention.output.ln_input_act.act_scaling_factor', 'ibert.encoder.layer.11.attention.output.LayerNorm.activation.x_max', 'ibert.encoder.layer.0.attention.output.dense.fc_scaling_factor', 'ibert.encoder.layer.8.attention.output.output_activation.x_max', 'ibert.encoder.layer.1.output.dense.bias_integer', 'ibert.encoder.layer.8.pre_output_act.act_scaling_factor', 'ibert.encoder.layer.2.attention.self.key_activation.x_min', 'ibert.encoder.layer.8.attention.output.ln_input_act.act_scaling_factor', 'ibert.encoder.layer.8.pre_output_act.x_max', 'ibert.encoder.layer.8.output.LayerNorm.activation.x_max', 'ibert.encoder.layer.7.intermediate.dense.bias_integer', 'ibert.encoder.layer.0.attention.self.query_activation.act_scaling_factor', 'ibert.encoder.layer.4.attention.self.key.bias_integer', 'ibert.encoder.layer.2.output.LayerNorm.activation.x_min', 'ibert.encoder.layer.7.attention.self.softmax.act.x_min', 'ibert.encoder.layer.0.attention.self.softmax.act.x_min', 'ibert.encoder.layer.2.attention.self.value.bias_integer', 'ibert.encoder.layer.3.intermediate.output_activation.x_min', 'ibert.encoder.layer.4.attention.self.output_activation.act_scaling_factor', 'ibert.encoder.layer.4.intermediate.dense.weight_integer', 'ibert.encoder.layer.6.attention.output.output_activation.x_min', 'ibert.encoder.layer.7.attention.output.LayerNorm.activation.x_max', 'ibert.encoder.layer.2.attention.output.LayerNorm.activation.x_max', 'ibert.encoder.layer.2.pre_intermediate_act.x_max', 'ibert.encoder.layer.7.output.ln_input_act.x_max', 'ibert.encoder.layer.11.pre_output_act.x_max', 'ibert.embeddings.LayerNorm.shift', 'ibert.encoder.layer.10.attention.self.value.fc_scaling_factor', 'ibert.encoder.layer.0.attention.self.value_activation.x_min', 'ibert.encoder.layer.6.pre_intermediate_act.x_min', 'ibert.encoder.layer.7.output.ln_input_act.x_min', 'ibert.encoder.layer.4.intermediate.output_activation.x_min', 'ibert.encoder.layer.0.pre_output_act.x_max', 'ibert.encoder.layer.6.attention.output.LayerNorm.activation.x_min', 'ibert.encoder.layer.9.attention.self.value_activation.x_max', 'ibert.encoder.layer.11.attention.self.output_activation.x_min', 'ibert.encoder.layer.5.attention.self.key.weight_integer', 'ibert.encoder.layer.3.output.LayerNorm.activation.act_scaling_factor', 'ibert.encoder.layer.9.attention.self.softmax.act.x_min', 'ibert.encoder.layer.2.attention.output.LayerNorm.activation.x_min', 'ibert.encoder.layer.5.output.LayerNorm.activation.act_scaling_factor', 'ibert.encoder.layer.6.attention.output.ln_input_act.x_max', 'ibert.encoder.layer.5.output.LayerNorm.shift', 'ibert.encoder.layer.10.attention.self.query.weight_integer', 'ibert.encoder.layer.11.attention.self.output_activation.act_scaling_factor', 'ibert.encoder.layer.9.attention.self.key.bias_integer', 'ibert.encoder.layer.6.attention.self.value.fc_scaling_factor', 'ibert.encoder.layer.8.output.ln_input_act.x_min', 'ibert.encoder.layer.2.intermediate.dense.fc_scaling_factor', 'ibert.encoder.layer.8.attention.self.query_activation.x_min', 'ibert.encoder.layer.1.attention.self.key.fc_scaling_factor', 'ibert.encoder.layer.2.output.LayerNorm.shift', 'ibert.encoder.layer.6.attention.self.output_activation.x_min', 'ibert.encoder.layer.8.attention.self.value_activation.act_scaling_factor', 'ibert.encoder.layer.0.attention.self.query_activation.x_max', 'ibert.encoder.layer.2.pre_output_act.x_min', 'ibert.encoder.layer.5.attention.self.query.fc_scaling_factor', 'ibert.encoder.layer.6.pre_intermediate_act.act_scaling_factor', 'ibert.encoder.layer.4.attention.self.query_activation.x_min', 'ibert.encoder.layer.11.attention.self.key_activation.x_max', 'ibert.encoder.layer.1.attention.output.output_activation.x_max', 'ibert.encoder.layer.11.output.LayerNorm.activation.act_scaling_factor', 'ibert.encoder.layer.8.attention.output.ln_input_act.x_min', 'ibert.embeddings.position_embeddings.weight_scaling_factor', 'ibert.encoder.layer.10.intermediate.output_activation.x_max', 'ibert.encoder.layer.10.attention.self.key.fc_scaling_factor', 'ibert.encoder.layer.4.attention.self.key.fc_scaling_factor', 'ibert.encoder.layer.5.output.output_activation.x_max', 'ibert.encoder.layer.8.pre_intermediate_act.x_max', 'ibert.encoder.layer.4.intermediate.dense.fc_scaling_factor', 'ibert.encoder.layer.10.intermediate.dense.fc_scaling_factor', 'ibert.encoder.layer.11.attention.self.value.weight_integer', 'ibert.encoder.layer.1.attention.self.query.bias_integer', 'ibert.encoder.layer.10.output.ln_input_act.act_scaling_factor', 'ibert.encoder.layer.7.output.ln_input_act.act_scaling_factor', 'ibert.encoder.layer.11.output.LayerNorm.shift', 'ibert.encoder.layer.8.attention.self.softmax.act.act_scaling_factor', 'ibert.encoder.layer.10.attention.self.query.fc_scaling_factor', 'ibert.encoder.layer.2.attention.self.query_activation.x_max', 'ibert.encoder.layer.0.output.dense.weight_integer', 'ibert.encoder.layer.7.attention.self.output_activation.x_max', 'ibert.encoder.layer.1.intermediate.output_activation.act_scaling_factor', 'ibert.encoder.layer.5.pre_output_act.x_min', 'ibert.encoder.layer.9.attention.output.output_activation.act_scaling_factor', 'ibert.encoder.layer.11.pre_intermediate_act.act_scaling_factor', 'ibert.encoder.layer.6.output.output_activation.act_scaling_factor', 'ibert.encoder.layer.3.attention.self.key.weight_integer', 'ibert.encoder.layer.11.attention.output.dense.weight_integer', 'ibert.encoder.layer.11.attention.output.LayerNorm.activation.x_min', 'ibert.encoder.layer.8.pre_intermediate_act.x_min', 'ibert.encoder.layer.1.output.LayerNorm.activation.act_scaling_factor', 'ibert.encoder.layer.10.attention.self.output_activation.x_min', 'ibert.encoder.layer.3.output.dense.weight_integer', 'ibert.encoder.layer.3.attention.output.ln_input_act.act_scaling_factor', 'ibert.encoder.layer.7.attention.self.key.weight_integer', 'ibert.encoder.layer.4.attention.self.value_activation.act_scaling_factor', 'ibert.encoder.layer.5.attention.self.key_activation.act_scaling_factor', 'ibert.encoder.layer.2.attention.self.query_activation.x_min', 'ibert.encoder.layer.7.output.LayerNorm.activation.x_max', 'ibert.encoder.layer.1.attention.self.softmax.act.act_scaling_factor', 'ibert.encoder.layer.1.output.LayerNorm.shift', 'ibert.encoder.layer.6.attention.self.softmax.act.act_scaling_factor', 'ibert.encoder.layer.4.attention.output.ln_input_act.x_min', 'ibert.encoder.layer.0.output.ln_input_act.act_scaling_factor', 'ibert.encoder.layer.0.attention.output.LayerNorm.shift', 'ibert.encoder.layer.10.output.LayerNorm.activation.x_min', 'ibert.encoder.layer.6.attention.output.dense.fc_scaling_factor', 'ibert.encoder.layer.9.attention.self.softmax.act.x_max', 'ibert.encoder.layer.9.attention.self.query_activation.act_scaling_factor', 'ibert.encoder.layer.5.attention.self.output_activation.act_scaling_factor', 'ibert.encoder.layer.3.pre_output_act.act_scaling_factor', 'ibert.encoder.layer.9.attention.self.query.weight_integer', 'ibert.encoder.layer.10.attention.output.ln_input_act.x_min', 'ibert.encoder.layer.4.attention.output.LayerNorm.activation.x_min', 'ibert.encoder.layer.2.attention.output.ln_input_act.act_scaling_factor', 'ibert.embeddings.output_activation.x_max', 'ibert.encoder.layer.6.attention.self.key.weight_integer', 'ibert.encoder.layer.0.intermediate.dense.fc_scaling_factor', 'ibert.encoder.layer.7.pre_output_act.x_max', 'ibert.encoder.layer.11.attention.output.output_activation.x_max', 'ibert.encoder.layer.4.attention.self.output_activation.x_min', 'ibert.encoder.layer.2.output.LayerNorm.activation.x_max', 'ibert.encoder.layer.11.attention.self.output_activation.x_max', 'ibert.encoder.layer.11.attention.self.key_activation.x_min', 'ibert.encoder.layer.4.attention.self.value.weight_integer', 'ibert.encoder.layer.1.attention.output.LayerNorm.activation.x_min', 'ibert.encoder.layer.3.output.dense.bias_integer', 'ibert.encoder.layer.6.output.ln_input_act.x_max', 'ibert.encoder.layer.10.attention.output.dense.bias_integer', 'ibert.encoder.layer.8.output.output_activation.x_max', 'ibert.encoder.layer.1.intermediate.output_activation.x_min', 'ibert.encoder.layer.1.attention.output.dense.weight_integer', 'ibert.encoder.layer.11.output.dense.fc_scaling_factor', 'ibert.encoder.layer.9.attention.self.value_activation.x_min', 'ibert.encoder.layer.7.pre_intermediate_act.x_max', 'ibert.encoder.layer.6.pre_output_act.act_scaling_factor', 'ibert.encoder.layer.11.attention.self.value.bias_integer', 'ibert.encoder.layer.7.attention.self.key.fc_scaling_factor', 'ibert.encoder.layer.1.output.dense.fc_scaling_factor', 'ibert.encoder.layer.9.output.output_activation.act_scaling_factor', 'ibert.encoder.layer.0.attention.output.LayerNorm.activation.act_scaling_factor', 'ibert.encoder.layer.7.attention.self.key_activation.x_min', 'ibert.encoder.layer.5.output.output_activation.act_scaling_factor', 'ibert.embeddings.embeddings_act1.x_min', 'ibert.encoder.layer.10.attention.self.output_activation.x_max', 'ibert.encoder.layer.1.attention.self.value.weight_integer', 'ibert.encoder.layer.10.output.output_activation.x_max', 'ibert.encoder.layer.4.attention.output.ln_input_act.act_scaling_factor', 'ibert.encoder.layer.6.attention.self.query_activation.x_max', 'ibert.encoder.layer.1.intermediate.dense.weight_integer', 'ibert.encoder.layer.6.intermediate.dense.bias_integer', 'ibert.encoder.layer.9.attention.output.LayerNorm.shift', 'ibert.encoder.layer.5.output.ln_input_act.x_min', 'ibert.encoder.layer.8.intermediate.dense.weight_integer', 'ibert.encoder.layer.9.attention.self.output_activation.x_max', 'ibert.encoder.layer.10.attention.output.ln_input_act.x_max', 'ibert.encoder.layer.1.output.output_activation.x_max', 'ibert.encoder.layer.4.output.dense.bias_integer', 'ibert.embeddings.embeddings_act2.act_scaling_factor', 'ibert.encoder.layer.9.attention.self.query_activation.x_min', 'ibert.encoder.layer.6.pre_output_act.x_max', 'ibert.encoder.layer.4.output.dense.fc_scaling_factor', 'ibert.encoder.layer.1.output.LayerNorm.activation.x_max', 'ibert.encoder.layer.5.output.dense.fc_scaling_factor', 'ibert.encoder.layer.3.attention.self.key_activation.x_min', 'ibert.encoder.layer.7.intermediate.output_activation.act_scaling_factor', 'ibert.encoder.layer.10.attention.self.query_activation.x_min', 'ibert.encoder.layer.3.intermediate.output_activation.act_scaling_factor', 'ibert.encoder.layer.7.attention.output.ln_input_act.x_min', 'ibert.encoder.layer.1.output.ln_input_act.act_scaling_factor', 'ibert.embeddings.output_activation.act_scaling_factor', 'ibert.encoder.layer.4.output.LayerNorm.activation.x_min', 'ibert.encoder.layer.0.attention.self.value.bias_integer', 'ibert.encoder.layer.0.intermediate.dense.bias_integer', 'ibert.encoder.layer.10.output.dense.fc_scaling_factor', 'ibert.encoder.layer.7.output.output_activation.act_scaling_factor', 'ibert.encoder.layer.8.attention.output.output_activation.x_min', 'ibert.encoder.layer.4.attention.output.LayerNorm.activation.x_max', 'ibert.encoder.layer.4.pre_output_act.act_scaling_factor', 'ibert.encoder.layer.3.attention.self.query_activation.x_min', 'ibert.encoder.layer.8.attention.output.LayerNorm.activation.x_min', 'ibert.encoder.layer.10.pre_intermediate_act.act_scaling_factor', 'ibert.encoder.layer.3.output.ln_input_act.act_scaling_factor', 'ibert.encoder.layer.2.attention.self.softmax.act.x_max', 'ibert.encoder.layer.11.pre_intermediate_act.x_max', 'ibert.encoder.layer.9.intermediate.dense.weight_integer', 'ibert.encoder.layer.0.attention.self.query_activation.x_min', 'ibert.encoder.layer.9.output.ln_input_act.act_scaling_factor', 'ibert.encoder.layer.7.attention.self.query.weight_integer', 'ibert.encoder.layer.3.attention.output.dense.bias_integer', 'ibert.embeddings.token_type_embeddings.weight_scaling_factor', 'ibert.encoder.layer.9.attention.self.output_activation.act_scaling_factor', 'ibert.encoder.layer.0.pre_intermediate_act.x_min', 'ibert.encoder.layer.1.attention.output.ln_input_act.x_min', 'ibert.encoder.layer.1.attention.output.dense.bias_integer', 'ibert.embeddings.word_embeddings.weight_scaling_factor', 'ibert.encoder.layer.3.attention.self.query_activation.act_scaling_factor', 'ibert.encoder.layer.4.attention.output.output_activation.x_min', 'ibert.encoder.layer.10.attention.output.output_activation.x_max', 'ibert.encoder.layer.6.attention.self.key.bias_integer', 'ibert.encoder.layer.6.output.LayerNorm.shift', 'ibert.encoder.layer.9.intermediate.dense.bias_integer', 'ibert.encoder.layer.10.attention.self.value.bias_integer', 'ibert.encoder.layer.7.intermediate.dense.weight_integer', 'ibert.encoder.layer.10.attention.output.output_activation.x_min', 'ibert.encoder.layer.9.attention.output.dense.bias_integer', 'ibert.encoder.layer.11.attention.self.query.weight_integer', 'ibert.encoder.layer.11.attention.self.value_activation.x_max', 'ibert.encoder.layer.5.attention.self.key_activation.x_min', 'ibert.embeddings.position_embeddings.weight_integer', 'ibert.encoder.layer.5.intermediate.dense.bias_integer', 'ibert.encoder.layer.0.attention.self.output_activation.x_min', 'ibert.encoder.layer.1.attention.self.output_activation.act_scaling_factor', 'ibert.encoder.layer.3.attention.self.query_activation.x_max', 'ibert.encoder.layer.1.attention.self.query_activation.x_max', 'ibert.encoder.layer.4.attention.self.output_activation.x_max', 'ibert.encoder.layer.9.intermediate.output_activation.x_min', 'ibert.encoder.layer.11.attention.output.ln_input_act.x_min', 'ibert.encoder.layer.8.attention.self.query.fc_scaling_factor', 'ibert.encoder.layer.1.attention.self.output_activation.x_min', 'ibert.encoder.layer.5.attention.output.output_activation.act_scaling_factor', 'ibert.encoder.layer.5.attention.output.dense.bias_integer', 'ibert.encoder.layer.11.attention.self.softmax.act.act_scaling_factor', 'ibert.encoder.layer.8.attention.self.value_activation.x_min', 'ibert.encoder.layer.10.output.LayerNorm.activation.x_max', 'ibert.encoder.layer.3.pre_intermediate_act.x_max', 'ibert.encoder.layer.10.output.LayerNorm.shift', 'ibert.encoder.layer.1.output.ln_input_act.x_max', 'ibert.encoder.layer.0.attention.self.key.fc_scaling_factor', 'ibert.encoder.layer.4.output.output_activation.x_max', 'ibert.encoder.layer.7.attention.self.query_activation.act_scaling_factor', 'ibert.encoder.layer.7.attention.self.value_activation.x_max', 'ibert.encoder.layer.10.attention.self.value.weight_integer', 'ibert.encoder.layer.10.output.ln_input_act.x_max', 'ibert.encoder.layer.2.output.output_activation.x_max', 'ibert.encoder.layer.8.attention.output.output_activation.act_scaling_factor', 'ibert.encoder.layer.1.pre_output_act.x_max', 'ibert.encoder.layer.5.attention.output.output_activation.x_max', 'ibert.encoder.layer.9.attention.output.dense.fc_scaling_factor', 'ibert.encoder.layer.0.output.ln_input_act.x_max', 'ibert.encoder.layer.0.attention.self.softmax.act.x_max', 'ibert.encoder.layer.4.output.dense.weight_integer', 'ibert.encoder.layer.6.output.LayerNorm.activation.act_scaling_factor', 'ibert.encoder.layer.0.attention.self.key_activation.act_scaling_factor', 'ibert.encoder.layer.5.attention.self.output_activation.x_max', 'ibert.encoder.layer.3.pre_output_act.x_min', 'ibert.encoder.layer.1.attention.output.output_activation.act_scaling_factor', 'ibert.encoder.layer.4.attention.output.LayerNorm.activation.act_scaling_factor', 'ibert.encoder.layer.6.attention.self.query_activation.act_scaling_factor', 'ibert.encoder.layer.11.attention.output.LayerNorm.shift', 'ibert.encoder.layer.5.attention.self.key_activation.x_max', 'ibert.encoder.layer.5.output.LayerNorm.activation.x_min', 'ibert.encoder.layer.1.attention.self.key_activation.act_scaling_factor', 'ibert.encoder.layer.2.attention.output.dense.bias_integer', 'ibert.encoder.layer.6.attention.self.value_activation.act_scaling_factor', 'ibert.encoder.layer.3.attention.output.dense.weight_integer', 'ibert.encoder.layer.0.output.output_activation.act_scaling_factor', 'ibert.encoder.layer.5.attention.self.query.bias_integer', 'ibert.encoder.layer.4.attention.self.query.fc_scaling_factor', 'ibert.encoder.layer.4.pre_output_act.x_min', 'ibert.encoder.layer.6.output.ln_input_act.act_scaling_factor', 'ibert.encoder.layer.3.attention.output.LayerNorm.activation.x_max', 'ibert.encoder.layer.1.attention.self.value.fc_scaling_factor', 'ibert.encoder.layer.2.pre_output_act.x_max', 'ibert.encoder.layer.4.attention.self.key_activation.x_max', 'ibert.encoder.layer.4.attention.output.dense.bias_integer', 'ibert.encoder.layer.2.attention.self.value.weight_integer', 'ibert.encoder.layer.3.output.output_activation.x_min', 'ibert.encoder.layer.9.attention.self.key_activation.x_max', 'ibert.encoder.layer.5.attention.self.query_activation.x_min', 'ibert.encoder.layer.2.attention.self.output_activation.x_min', 'ibert.encoder.layer.2.attention.self.key.weight_integer', 'ibert.encoder.layer.11.attention.self.key.fc_scaling_factor', 'ibert.encoder.layer.5.attention.output.LayerNorm.activation.x_max', 'ibert.encoder.layer.2.output.ln_input_act.act_scaling_factor', 'ibert.encoder.layer.1.attention.output.ln_input_act.x_max', 'ibert.encoder.layer.7.output.dense.weight_integer', 'ibert.encoder.layer.7.attention.output.ln_input_act.act_scaling_factor', 'ibert.encoder.layer.7.attention.self.query_activation.x_min', 'ibert.encoder.layer.2.attention.output.ln_input_act.x_min', 'ibert.encoder.layer.1.output.output_activation.x_min', 'ibert.encoder.layer.4.output.output_activation.act_scaling_factor', 'ibert.encoder.layer.5.intermediate.output_activation.act_scaling_factor', 'ibert.encoder.layer.3.attention.self.value.bias_integer', 'ibert.encoder.layer.0.attention.self.value.fc_scaling_factor', 'ibert.encoder.layer.0.attention.output.LayerNorm.activation.x_min', 'ibert.encoder.layer.0.output.LayerNorm.activation.act_scaling_factor', 'ibert.encoder.layer.8.attention.self.output_activation.act_scaling_factor', 'ibert.encoder.layer.3.attention.output.ln_input_act.x_min', 'ibert.encoder.layer.8.attention.self.output_activation.x_max', 'ibert.encoder.layer.8.output.dense.weight_integer', 'ibert.encoder.layer.0.attention.self.value.weight_integer', 'ibert.encoder.layer.1.pre_output_act.x_min', 'ibert.encoder.layer.2.attention.self.output_activation.act_scaling_factor', 'ibert.encoder.layer.4.attention.output.dense.fc_scaling_factor', 'ibert.encoder.layer.6.output.dense.bias_integer', 'ibert.encoder.layer.0.intermediate.output_activation.x_min', 'ibert.encoder.layer.11.pre_output_act.act_scaling_factor', 'ibert.encoder.layer.3.attention.self.key_activation.x_max', 'ibert.encoder.layer.7.attention.output.LayerNorm.activation.x_min', 'ibert.encoder.layer.10.attention.output.LayerNorm.shift', 'ibert.encoder.layer.1.attention.self.query_activation.act_scaling_factor', 'ibert.encoder.layer.3.attention.output.dense.fc_scaling_factor', 'ibert.encoder.layer.10.attention.output.LayerNorm.activation.x_max', 'ibert.encoder.layer.4.attention.output.output_activation.x_max', 'ibert.encoder.layer.4.output.ln_input_act.x_max', 'ibert.encoder.layer.1.attention.output.LayerNorm.shift', 'ibert.encoder.layer.10.attention.self.query_activation.act_scaling_factor', 'ibert.encoder.layer.5.attention.output.dense.fc_scaling_factor', 'ibert.encoder.layer.8.attention.self.key.bias_integer', 'ibert.encoder.layer.5.output.output_activation.x_min', 'ibert.encoder.layer.0.attention.self.key_activation.x_max', 'ibert.encoder.layer.8.intermediate.output_activation.act_scaling_factor', 'ibert.encoder.layer.2.attention.self.query_activation.act_scaling_factor', 'ibert.encoder.layer.0.output.LayerNorm.shift', 'ibert.encoder.layer.4.output.LayerNorm.activation.act_scaling_factor', 'ibert.encoder.layer.1.pre_intermediate_act.x_min', 'ibert.encoder.layer.3.attention.output.ln_input_act.x_max', 'ibert.encoder.layer.8.attention.self.softmax.act.x_max', 'ibert.encoder.layer.3.attention.output.output_activation.x_max', 'ibert.encoder.layer.11.attention.self.query_activation.x_max', 'ibert.encoder.layer.7.output.output_activation.x_min', 'ibert.encoder.layer.1.attention.self.key.bias_integer', 'ibert.encoder.layer.0.attention.self.value_activation.x_max', 'ibert.encoder.layer.10.pre_output_act.act_scaling_factor', 'ibert.encoder.layer.11.attention.self.query_activation.act_scaling_factor', 'ibert.embeddings.embeddings_act2.x_min', 'ibert.encoder.layer.3.output.dense.fc_scaling_factor', 'ibert.encoder.layer.8.intermediate.dense.fc_scaling_factor', 'ibert.encoder.layer.0.attention.output.ln_input_act.x_min', 'ibert.encoder.layer.5.attention.self.softmax.act.act_scaling_factor', 'ibert.encoder.layer.1.attention.self.key_activation.x_max', 'ibert.encoder.layer.3.attention.self.key.bias_integer', 'ibert.encoder.layer.1.attention.self.query.fc_scaling_factor', 'ibert.encoder.layer.2.attention.output.dense.weight_integer', 'ibert.encoder.layer.11.attention.self.value_activation.x_min', 'ibert.encoder.layer.10.attention.self.softmax.act.x_max', 'ibert.encoder.layer.4.attention.output.ln_input_act.x_max', 'ibert.encoder.layer.9.pre_output_act.x_min', 'ibert.encoder.layer.10.output.dense.bias_integer', 'ibert.encoder.layer.4.attention.self.query.bias_integer', 'ibert.encoder.layer.3.output.output_activation.act_scaling_factor', 'ibert.embeddings.embeddings_act1.act_scaling_factor', 'ibert.encoder.layer.7.output.dense.bias_integer', 'ibert.encoder.layer.4.attention.self.key_activation.x_min', 'ibert.encoder.layer.9.attention.self.key_activation.act_scaling_factor', 'ibert.encoder.layer.9.attention.output.LayerNorm.activation.x_max', 'ibert.encoder.layer.10.pre_output_act.x_max', 'ibert.encoder.layer.5.attention.output.dense.weight_integer', 'ibert.encoder.layer.4.pre_intermediate_act.x_min', 'ibert.encoder.layer.10.intermediate.dense.bias_integer', 'ibert.encoder.layer.2.intermediate.output_activation.act_scaling_factor', 'ibert.encoder.layer.10.attention.self.key_activation.x_min', 'ibert.encoder.layer.4.attention.self.softmax.act.act_scaling_factor', 'ibert.encoder.layer.0.output.dense.fc_scaling_factor', 'ibert.encoder.layer.1.attention.output.dense.fc_scaling_factor', 'ibert.encoder.layer.4.attention.self.value.bias_integer', 'ibert.encoder.layer.7.intermediate.output_activation.x_max', 'ibert.encoder.layer.7.output.output_activation.x_max', 'ibert.encoder.layer.10.attention.self.query.bias_integer', 'ibert.encoder.layer.7.output.LayerNorm.activation.act_scaling_factor', 'ibert.encoder.layer.8.attention.self.key_activation.x_max', 'ibert.encoder.layer.0.attention.self.query.bias_integer', 'ibert.encoder.layer.6.output.LayerNorm.activation.x_max', 'ibert.encoder.layer.4.attention.self.key.weight_integer', 'ibert.embeddings.output_activation.x_min', 'ibert.encoder.layer.7.intermediate.dense.fc_scaling_factor', 'ibert.encoder.layer.5.output.dense.bias_integer', 'ibert.encoder.layer.1.attention.self.value.bias_integer', 'ibert.encoder.layer.0.attention.self.value_activation.act_scaling_factor', 'ibert.encoder.layer.11.intermediate.dense.bias_integer', 'ibert.encoder.layer.3.attention.self.value_activation.act_scaling_factor', 'ibert.encoder.layer.6.attention.self.key_activation.x_max', 'ibert.encoder.layer.1.attention.self.key_activation.x_min', 'ibert.encoder.layer.8.intermediate.dense.bias_integer', 'ibert.encoder.layer.0.attention.self.output_activation.x_max', 'ibert.encoder.layer.8.attention.output.dense.fc_scaling_factor', 'ibert.encoder.layer.9.output.output_activation.x_min', 'ibert.encoder.layer.4.output.LayerNorm.activation.x_max', 'ibert.encoder.layer.6.attention.self.query.fc_scaling_factor', 'ibert.encoder.layer.0.pre_output_act.act_scaling_factor', 'ibert.encoder.layer.5.output.ln_input_act.act_scaling_factor', 'ibert.encoder.layer.8.output.output_activation.act_scaling_factor', 'ibert.encoder.layer.2.attention.output.output_activation.x_max', 'ibert.encoder.layer.1.attention.output.LayerNorm.activation.act_scaling_factor', 'ibert.encoder.layer.4.attention.self.value_activation.x_max', 'ibert.encoder.layer.10.intermediate.output_activation.act_scaling_factor', 'ibert.encoder.layer.6.attention.self.key_activation.x_min', 'ibert.encoder.layer.2.attention.output.output_activation.act_scaling_factor', 'ibert.encoder.layer.9.intermediate.output_activation.act_scaling_factor', 'ibert.encoder.layer.0.output.ln_input_act.x_min', 'ibert.encoder.layer.6.attention.self.value.bias_integer', 'ibert.encoder.layer.8.attention.self.value_activation.x_max', 'ibert.encoder.layer.11.intermediate.dense.fc_scaling_factor', 'ibert.encoder.layer.11.output.ln_input_act.x_min', 'ibert.encoder.layer.10.output.output_activation.x_min', 'ibert.encoder.layer.0.attention.self.key_activation.x_min', 'ibert.encoder.layer.0.output.output_activation.x_min', 'ibert.encoder.layer.6.pre_intermediate_act.x_max', 'ibert.encoder.layer.8.attention.self.value.bias_integer', 'ibert.encoder.layer.6.attention.self.key.fc_scaling_factor', 'ibert.encoder.layer.4.attention.output.output_activation.act_scaling_factor', 'ibert.encoder.layer.1.attention.self.output_activation.x_max', 'ibert.encoder.layer.4.attention.self.softmax.act.x_min', 'ibert.encoder.layer.3.output.LayerNorm.activation.x_max', 'ibert.encoder.layer.10.attention.output.LayerNorm.activation.x_min', 'ibert.encoder.layer.6.attention.output.LayerNorm.activation.act_scaling_factor', 'ibert.encoder.layer.7.pre_intermediate_act.act_scaling_factor', 'ibert.encoder.layer.9.attention.self.value.fc_scaling_factor', 'ibert.encoder.layer.3.attention.self.softmax.act.x_min', 'ibert.encoder.layer.2.output.dense.weight_integer', 'ibert.encoder.layer.8.output.dense.bias_integer', 'ibert.encoder.layer.9.output.dense.fc_scaling_factor', 'ibert.encoder.layer.7.attention.self.query_activation.x_max', 'ibert.encoder.layer.11.output.LayerNorm.activation.x_min', 'ibert.encoder.layer.11.attention.output.output_activation.x_min', 'ibert.encoder.layer.5.attention.output.ln_input_act.x_min', 'ibert.encoder.layer.11.attention.output.dense.fc_scaling_factor', 'ibert.encoder.layer.8.output.ln_input_act.x_max', 'ibert.encoder.layer.10.attention.self.softmax.act.act_scaling_factor', 'ibert.encoder.layer.9.output.dense.weight_integer', 'ibert.encoder.layer.11.attention.output.ln_input_act.act_scaling_factor', 'ibert.encoder.layer.11.output.ln_input_act.x_max', 'ibert.encoder.layer.5.attention.self.value_activation.x_min', 'ibert.encoder.layer.9.pre_intermediate_act.x_max', 'ibert.encoder.layer.10.intermediate.dense.weight_integer', 'ibert.encoder.layer.11.output.dense.bias_integer', 'ibert.encoder.layer.11.pre_intermediate_act.x_min', 'ibert.encoder.layer.11.attention.self.value.fc_scaling_factor', 'ibert.encoder.layer.8.attention.self.output_activation.x_min', 'ibert.encoder.layer.5.attention.self.softmax.act.x_max', 'ibert.encoder.layer.2.attention.output.LayerNorm.shift', 'ibert.encoder.layer.2.output.dense.bias_integer', 'ibert.encoder.layer.0.attention.output.LayerNorm.activation.x_max', 'ibert.encoder.layer.7.attention.self.value.bias_integer', 'ibert.embeddings.word_embeddings.weight_integer', 'ibert.encoder.layer.6.attention.self.softmax.act.x_min', 'ibert.encoder.layer.6.attention.output.LayerNorm.activation.x_max', 'ibert.encoder.layer.5.pre_intermediate_act.x_max', 'ibert.encoder.layer.11.attention.output.dense.bias_integer', 'ibert.encoder.layer.3.attention.self.output_activation.x_max', 'ibert.embeddings.embeddings_act1.x_max', 'ibert.encoder.layer.8.attention.output.LayerNorm.activation.act_scaling_factor', 'ibert.encoder.layer.9.intermediate.output_activation.x_max', 'ibert.encoder.layer.8.output.ln_input_act.act_scaling_factor', 'ibert.encoder.layer.2.attention.self.key_activation.act_scaling_factor', 'ibert.encoder.layer.10.attention.output.LayerNorm.activation.act_scaling_factor', 'ibert.encoder.layer.1.pre_intermediate_act.act_scaling_factor', 'ibert.encoder.layer.9.attention.self.key_activation.x_min', 'ibert.encoder.layer.5.attention.self.query_activation.x_max', 'ibert.encoder.layer.5.attention.self.softmax.act.x_min', 'ibert.encoder.layer.1.pre_intermediate_act.x_max', 'ibert.encoder.layer.6.attention.self.value_activation.x_min', 'ibert.encoder.layer.9.output.LayerNorm.activation.x_max', 'ibert.embeddings.LayerNorm.activation.x_max', 'ibert.encoder.layer.4.output.LayerNorm.shift', 'ibert.encoder.layer.0.attention.self.query.fc_scaling_factor', 'ibert.encoder.layer.5.intermediate.output_activation.x_max', 'ibert.encoder.layer.11.output.output_activation.x_max', 'ibert.encoder.layer.2.attention.output.output_activation.x_min', 'ibert.encoder.layer.9.pre_intermediate_act.act_scaling_factor', 'ibert.encoder.layer.9.pre_output_act.act_scaling_factor', 'ibert.encoder.layer.9.attention.output.LayerNorm.activation.x_min', 'ibert.encoder.layer.4.output.output_activation.x_min', 'ibert.encoder.layer.9.output.LayerNorm.activation.x_min', 'ibert.encoder.layer.9.attention.self.query.fc_scaling_factor', 'ibert.encoder.layer.0.attention.self.key.bias_integer', 'ibert.encoder.layer.11.attention.self.key.weight_integer', 'ibert.encoder.layer.9.attention.self.key.weight_integer', 'ibert.encoder.layer.2.output.ln_input_act.x_max', 'ibert.encoder.layer.2.output.LayerNorm.activation.act_scaling_factor', 'ibert.encoder.layer.0.attention.self.query.weight_integer', 'ibert.encoder.layer.10.pre_intermediate_act.x_max', 'ibert.encoder.layer.2.intermediate.output_activation.x_min', 'ibert.encoder.layer.8.attention.self.query.weight_integer', 'ibert.encoder.layer.11.attention.self.softmax.act.x_max', 'ibert.encoder.layer.8.attention.self.softmax.act.x_min', 'ibert.encoder.layer.3.attention.self.output_activation.x_min', 'ibert.encoder.layer.0.attention.output.ln_input_act.x_max', 'ibert.encoder.layer.11.intermediate.output_activation.x_max', 'ibert.encoder.layer.3.attention.output.output_activation.x_min', 'ibert.encoder.layer.6.attention.output.ln_input_act.act_scaling_factor', 'ibert.encoder.layer.5.pre_output_act.x_max', 'ibert.encoder.layer.0.intermediate.output_activation.act_scaling_factor', 'ibert.encoder.layer.2.attention.self.value_activation.x_min', 'ibert.encoder.layer.4.pre_intermediate_act.act_scaling_factor', 'ibert.encoder.layer.2.attention.self.key_activation.x_max', 'ibert.encoder.layer.7.attention.output.output_activation.x_min', 'ibert.encoder.layer.8.output.output_activation.x_min', 'ibert.encoder.layer.6.pre_output_act.x_min', 'ibert.encoder.layer.8.attention.self.key_activation.act_scaling_factor', 'ibert.encoder.layer.11.intermediate.dense.weight_integer', 'ibert.encoder.layer.3.attention.self.query.bias_integer', 'ibert.encoder.layer.5.output.dense.weight_integer', 'ibert.encoder.layer.2.output.output_activation.act_scaling_factor', 'ibert.encoder.layer.8.pre_intermediate_act.act_scaling_factor', 'ibert.encoder.layer.0.attention.output.output_activation.x_max', 'ibert.encoder.layer.0.output.dense.bias_integer', 'ibert.encoder.layer.5.attention.output.output_activation.x_min', 'ibert.encoder.layer.5.intermediate.dense.weight_integer', 'ibert.encoder.layer.8.attention.self.key.fc_scaling_factor', 'ibert.encoder.layer.3.output.ln_input_act.x_max', 'ibert.encoder.layer.2.attention.self.softmax.act.x_min', 'ibert.encoder.layer.0.attention.output.output_activation.act_scaling_factor', 'ibert.encoder.layer.3.attention.self.query.fc_scaling_factor', 'ibert.encoder.layer.10.intermediate.output_activation.x_min', 'ibert.encoder.layer.2.attention.output.LayerNorm.activation.act_scaling_factor', 'ibert.encoder.layer.6.intermediate.output_activation.act_scaling_factor', 'ibert.encoder.layer.7.attention.self.output_activation.act_scaling_factor', 'ibert.encoder.layer.5.attention.self.query.weight_integer', 'ibert.encoder.layer.1.output.output_activation.act_scaling_factor', 'ibert.encoder.layer.10.attention.output.ln_input_act.act_scaling_factor', 'ibert.encoder.layer.7.attention.self.value.fc_scaling_factor', 'ibert.encoder.layer.9.attention.self.query.bias_integer', 'ibert.encoder.layer.1.attention.self.value_activation.x_max', 'ibert.encoder.layer.5.attention.output.LayerNorm.activation.act_scaling_factor', 'ibert.encoder.layer.9.attention.self.value_activation.act_scaling_factor', 'ibert.encoder.layer.1.attention.self.query.weight_integer', 'ibert.encoder.layer.6.attention.self.query.weight_integer', 'ibert.encoder.layer.7.attention.self.key.bias_integer', 'ibert.encoder.layer.4.attention.self.query_activation.x_max', 'ibert.embeddings.LayerNorm.activation.x_min', 'ibert.encoder.layer.6.attention.self.query_activation.x_min', 'ibert.encoder.layer.7.attention.self.value.weight_integer', 'ibert.encoder.layer.9.output.LayerNorm.shift', 'ibert.encoder.layer.9.attention.self.value.weight_integer', 'ibert.encoder.layer.10.attention.self.value_activation.x_min', 'ibert.encoder.layer.10.attention.output.dense.weight_integer', 'ibert.encoder.layer.6.attention.output.output_activation.act_scaling_factor', 'ibert.encoder.layer.3.pre_intermediate_act.act_scaling_factor', 'ibert.encoder.layer.5.attention.output.LayerNorm.shift', 'ibert.encoder.layer.6.attention.self.key_activation.act_scaling_factor', 'ibert.encoder.layer.1.output.dense.weight_integer', 'ibert.encoder.layer.3.attention.self.softmax.act.act_scaling_factor', 'ibert.encoder.layer.0.intermediate.output_activation.x_max', 'ibert.encoder.layer.6.attention.self.value_activation.x_max', 'ibert.encoder.layer.2.attention.self.query.weight_integer', 'ibert.encoder.layer.5.output.ln_input_act.x_max', 'ibert.encoder.layer.8.attention.self.key_activation.x_min', 'ibert.encoder.layer.7.attention.output.LayerNorm.activation.act_scaling_factor', 'ibert.encoder.layer.8.attention.output.ln_input_act.x_max', 'ibert.encoder.layer.3.pre_output_act.x_max', 'ibert.encoder.layer.4.attention.self.key_activation.act_scaling_factor', 'ibert.encoder.layer.8.attention.output.LayerNorm.activation.x_max', 'ibert.encoder.layer.10.attention.self.query_activation.x_max', 'ibert.encoder.layer.1.intermediate.output_activation.x_max', 'ibert.encoder.layer.10.attention.self.key_activation.x_max', 'ibert.encoder.layer.6.intermediate.dense.fc_scaling_factor', 'ibert.encoder.layer.11.attention.self.query.bias_integer', 'ibert.encoder.layer.7.attention.self.key_activation.act_scaling_factor', 'ibert.encoder.layer.10.attention.self.softmax.act.x_min', 'ibert.encoder.layer.7.attention.output.output_activation.act_scaling_factor', 'ibert.encoder.layer.2.attention.self.key.bias_integer', 'ibert.encoder.layer.7.attention.self.output_activation.x_min', 'ibert.encoder.layer.0.attention.self.key.weight_integer', 'ibert.encoder.layer.5.attention.self.query_activation.act_scaling_factor', 'ibert.encoder.layer.7.attention.output.dense.weight_integer', 'ibert.encoder.layer.2.pre_intermediate_act.x_min', 'ibert.embeddings.embeddings_act2.x_max', 'ibert.encoder.layer.4.attention.self.value.fc_scaling_factor', 'ibert.encoder.layer.3.attention.self.value_activation.x_max', 'ibert.encoder.layer.3.output.LayerNorm.shift', 'ibert.encoder.layer.5.attention.output.LayerNorm.activation.x_min', 'ibert.encoder.layer.3.pre_intermediate_act.x_min', 'ibert.encoder.layer.9.attention.output.output_activation.x_min', 'ibert.encoder.layer.8.attention.self.query_activation.act_scaling_factor', 'ibert.encoder.layer.7.intermediate.output_activation.x_min', 'ibert.encoder.layer.8.attention.self.query.bias_integer', 'ibert.encoder.layer.2.intermediate.output_activation.x_max', 'ibert.encoder.layer.6.output.dense.weight_integer', 'ibert.encoder.layer.0.intermediate.dense.weight_integer', 'ibert.encoder.layer.9.output.output_activation.x_max', 'ibert.encoder.layer.9.intermediate.dense.fc_scaling_factor', 'ibert.encoder.layer.1.attention.output.output_activation.x_min', 'ibert.encoder.layer.3.intermediate.dense.bias_integer', 'ibert.encoder.layer.9.attention.self.key.fc_scaling_factor', 'ibert.encoder.layer.9.attention.self.query_activation.x_max', 'ibert.encoder.layer.2.attention.self.key.fc_scaling_factor', 'ibert.encoder.layer.0.pre_intermediate_act.act_scaling_factor', 'ibert.encoder.layer.2.attention.self.output_activation.x_max', 'ibert.encoder.layer.6.attention.self.output_activation.x_max', 'ibert.encoder.layer.8.attention.self.key.weight_integer', 'ibert.encoder.layer.10.attention.self.value_activation.x_max', 'ibert.encoder.layer.6.output.dense.fc_scaling_factor', 'ibert.encoder.layer.9.attention.output.output_activation.x_max', 'ibert.encoder.layer.11.attention.self.key.bias_integer', 'ibert.encoder.layer.5.attention.self.value.weight_integer', 'ibert.encoder.layer.3.attention.output.output_activation.act_scaling_factor', 'ibert.encoder.layer.6.attention.output.ln_input_act.x_min', 'ibert.encoder.layer.5.attention.self.value_activation.act_scaling_factor', 'ibert.encoder.layer.2.attention.self.value.fc_scaling_factor', 'ibert.encoder.layer.1.attention.self.softmax.act.x_min', 'ibert.encoder.layer.2.attention.self.value_activation.x_max', 'ibert.encoder.layer.11.intermediate.output_activation.act_scaling_factor', 'ibert.encoder.layer.11.attention.self.value_activation.act_scaling_factor', 'ibert.encoder.layer.7.output.LayerNorm.activation.x_min', 'ibert.encoder.layer.6.attention.output.dense.bias_integer', 'ibert.encoder.layer.0.pre_intermediate_act.x_max', 'ibert.encoder.layer.5.attention.output.ln_input_act.x_max', 'ibert.encoder.layer.5.attention.output.ln_input_act.act_scaling_factor', 'ibert.encoder.layer.6.attention.self.value.weight_integer', 'ibert.encoder.layer.11.attention.output.output_activation.act_scaling_factor', 'ibert.encoder.layer.9.attention.output.ln_input_act.act_scaling_factor', 'ibert.encoder.layer.10.pre_intermediate_act.x_min', 'ibert.encoder.layer.7.attention.self.softmax.act.act_scaling_factor', 'ibert.encoder.layer.0.output.output_activation.x_max', 'ibert.encoder.layer.2.output.dense.fc_scaling_factor', 'ibert.encoder.layer.5.attention.self.value.bias_integer', 'ibert.encoder.layer.2.attention.self.query.fc_scaling_factor']\n",
            "You should probably TRAIN this model on a down-stream task to be able to use it for predictions and inference.\n"
          ]
        },
        {
          "output_type": "stream",
          "name": "stdout",
          "text": [
            "Starting epoch 1/4\n"
          ]
        },
        {
          "output_type": "stream",
          "name": "stderr",
          "text": [
            "Epoch 1 Loss: 0.6122496128082275: 100%|██████████| 1519/1519 [12:07<00:00,  2.09it/s]\n"
          ]
        },
        {
          "output_type": "stream",
          "name": "stdout",
          "text": [
            "Epoch 1 finished. Average loss: 0.8682710006097337\n",
            "Starting epoch 2/4\n"
          ]
        },
        {
          "output_type": "stream",
          "name": "stderr",
          "text": [
            "Epoch 2 Loss: 0.23668481409549713: 100%|██████████| 1519/1519 [12:10<00:00,  2.08it/s]\n"
          ]
        },
        {
          "output_type": "stream",
          "name": "stdout",
          "text": [
            "Epoch 2 finished. Average loss: 0.5047125863040098\n",
            "Starting epoch 3/4\n"
          ]
        },
        {
          "output_type": "stream",
          "name": "stderr",
          "text": [
            "Epoch 3 Loss: 0.15801618993282318: 100%|██████████| 1519/1519 [12:10<00:00,  2.08it/s]\n"
          ]
        },
        {
          "output_type": "stream",
          "name": "stdout",
          "text": [
            "Epoch 3 finished. Average loss: 0.36010417734825195\n",
            "Starting epoch 4/4\n"
          ]
        },
        {
          "output_type": "stream",
          "name": "stderr",
          "text": [
            "Epoch 4 Loss: 1.0495961904525757: 100%|██████████| 1519/1519 [12:10<00:00,  2.08it/s]"
          ]
        },
        {
          "output_type": "stream",
          "name": "stdout",
          "text": [
            "Epoch 4 finished. Average loss: 0.36185260653897994\n"
          ]
        },
        {
          "output_type": "stream",
          "name": "stderr",
          "text": [
            "\n"
          ]
        }
      ],
      "source": [
        "import tqdm\n",
        "from torch.nn.functional import softmax\n",
        "from torch.nn.functional import sigmoid\n",
        "from tqdm import tqdm\n",
        "\n",
        "device = torch.device('cuda' if torch.cuda.is_available() else 'cpu')\n",
        "model = IBertForClassification(num_labels=3)  # Change num_labels to 3 for three classes\n",
        "model = model.to(device)\n",
        "optimizer = Adam(model.parameters(), lr=5e-5, eps=1e-8)\n",
        "\n",
        "# Use CrossEntropyLoss for multi-class classification\n",
        "loss_fn = nn.CrossEntropyLoss()\n",
        "\n",
        "\n",
        "\n",
        "EPOCHS = 4\n",
        "# Training loop\n",
        "for epoch in range(EPOCHS):\n",
        "    print(f'Starting epoch {epoch+1}/{EPOCHS}')\n",
        "    total_loss = 0\n",
        "    progress_bar = tqdm(enumerate(train_dataloader), total=len(train_dataloader))\n",
        "    for i, batch in progress_bar:\n",
        "        batch = tuple(t.to(device) for t in batch)\n",
        "        inputs = {'input_ids': batch[0],\n",
        "                  'attention_mask': batch[1]}\n",
        "        outputs = model(**inputs)\n",
        "\n",
        "        # Convert labels to torch.long\n",
        "        labels = batch[2].long()\n",
        "\n",
        "        loss = loss_fn(outputs, labels)\n",
        "        total_loss += loss.item()\n",
        "        loss.backward()\n",
        "        optimizer.step()\n",
        "        optimizer.zero_grad()\n",
        "        progress_bar.set_description(f'Epoch {epoch+1} Loss: {loss.item()}')\n",
        "    print(f'Epoch {epoch+1} finished. Average loss: {total_loss/len(train_dataloader)}')\n"
      ]
    },
    {
      "cell_type": "code",
      "execution_count": 76,
      "metadata": {
        "execution": {
          "iopub.execute_input": "2023-12-16T16:47:19.576074Z",
          "iopub.status.busy": "2023-12-16T16:47:19.575665Z",
          "iopub.status.idle": "2023-12-16T16:47:41.332052Z",
          "shell.execute_reply": "2023-12-16T16:47:41.330920Z",
          "shell.execute_reply.started": "2023-12-16T16:47:19.576043Z"
        },
        "trusted": true,
        "colab": {
          "base_uri": "https://localhost:8080/"
        },
        "id": "0jLnp-Nf97Pq",
        "outputId": "b99ff611-5f0b-45e7-e3ff-834eec83be2b"
      },
      "outputs": [
        {
          "output_type": "stream",
          "name": "stdout",
          "text": [
            "Classification Report for I-BERT:\n",
            "\n",
            "               precision    recall  f1-score   support\n",
            "\n",
            "    Negative       0.43      1.00      0.60      1629\n",
            "     Neutral       0.00      0.00      0.00       613\n",
            "    Positive       0.00      0.00      0.00      1545\n",
            "\n",
            "    accuracy                           0.43      3787\n",
            "   macro avg       0.14      0.33      0.20      3787\n",
            "weighted avg       0.19      0.43      0.26      3787\n",
            "\n",
            "Confusion Matrix:\n",
            " [[1629    0    0]\n",
            " [ 613    0    0]\n",
            " [1545    0    0]]\n",
            "\n",
            "Micro Precision:  0.43015579614470556\n",
            "Micro Recall:  0.43015579614470556\n",
            "Micro F1-score:  0.43015579614470556\n",
            "\n",
            "Macro Precision:  0.1433852653815685\n",
            "Macro Recall:  0.3333333333333333\n",
            "Macro F1-score:  0.2005169867060561\n",
            "\n",
            "Weighted Precision:  0.1850340089568855\n",
            "Weighted Recall:  0.43015579614470556\n",
            "Weighted F1-score:  0.25876063217124273\n",
            "\n",
            "Accuracy:  0.43015579614470556\n"
          ]
        },
        {
          "output_type": "stream",
          "name": "stderr",
          "text": [
            "/usr/local/lib/python3.10/dist-packages/sklearn/metrics/_classification.py:1344: UndefinedMetricWarning: Precision and F-score are ill-defined and being set to 0.0 in labels with no predicted samples. Use `zero_division` parameter to control this behavior.\n",
            "  _warn_prf(average, modifier, msg_start, len(result))\n",
            "/usr/local/lib/python3.10/dist-packages/sklearn/metrics/_classification.py:1344: UndefinedMetricWarning: Precision and F-score are ill-defined and being set to 0.0 in labels with no predicted samples. Use `zero_division` parameter to control this behavior.\n",
            "  _warn_prf(average, modifier, msg_start, len(result))\n",
            "/usr/local/lib/python3.10/dist-packages/sklearn/metrics/_classification.py:1344: UndefinedMetricWarning: Precision and F-score are ill-defined and being set to 0.0 in labels with no predicted samples. Use `zero_division` parameter to control this behavior.\n",
            "  _warn_prf(average, modifier, msg_start, len(result))\n",
            "/usr/local/lib/python3.10/dist-packages/sklearn/metrics/_classification.py:1344: UndefinedMetricWarning: Precision is ill-defined and being set to 0.0 in labels with no predicted samples. Use `zero_division` parameter to control this behavior.\n",
            "  _warn_prf(average, modifier, msg_start, len(result))\n",
            "/usr/local/lib/python3.10/dist-packages/sklearn/metrics/_classification.py:1344: UndefinedMetricWarning: Precision is ill-defined and being set to 0.0 in labels with no predicted samples. Use `zero_division` parameter to control this behavior.\n",
            "  _warn_prf(average, modifier, msg_start, len(result))\n"
          ]
        }
      ],
      "source": [
        "import tqdm\n",
        "from sklearn.metrics import classification_report, confusion_matrix, precision_score, recall_score, f1_score, accuracy_score\n",
        "\n",
        "\n",
        "# Evaluation\n",
        "model.eval()\n",
        "predictions = []\n",
        "with torch.no_grad():\n",
        "    for batch in test_dataloader:\n",
        "        batch = tuple(t.to(device) for t in batch)\n",
        "        inputs = {'input_ids': batch[0],\n",
        "                  'attention_mask': batch[1]}\n",
        "        outputs = model(**inputs)\n",
        "\n",
        "        _, preds = torch.max(outputs, dim=1)\n",
        "        predictions.extend(preds.cpu().numpy())\n",
        "\n",
        "# Convert predictions from tensors to numpy arrays\n",
        "y_pred_ernie = np.array(predictions)\n",
        "\n",
        "# Print classification report and confusion matrix\n",
        "print('Classification Report for I-BERT:\\n\\n', classification_report(y_test, y_pred_ernie, target_names=['Negative', 'Neutral', 'Positive']))\n",
        "print('Confusion Matrix:\\n', confusion_matrix(y_test, y_pred_ernie))\n",
        "\n",
        "# Calculate evaluation metrics\n",
        "precision_micro = precision_score(y_test, y_pred_ernie, average='micro')\n",
        "recall_micro = recall_score(y_test, y_pred_ernie, average='micro')\n",
        "f1_micro = f1_score(y_test, y_pred_ernie, average='micro')\n",
        "\n",
        "precision_macro = precision_score(y_test, y_pred_ernie, average='macro')\n",
        "recall_macro = recall_score(y_test, y_pred_ernie, average='macro')\n",
        "f1_macro = f1_score(y_test, y_pred_ernie, average='macro')\n",
        "\n",
        "precision_weighted = precision_score(y_test, y_pred_ernie, average='weighted')\n",
        "recall_weighted = recall_score(y_test, y_pred_ernie, average='weighted')\n",
        "f1_weighted = f1_score(y_test, y_pred_ernie, average='weighted')\n",
        "\n",
        "accuracy = accuracy_score(y_test, y_pred_ernie)\n",
        "\n",
        "# Print evaluation metrics\n",
        "print('\\nMicro Precision: ', precision_micro)\n",
        "print('Micro Recall: ', recall_micro)\n",
        "print('Micro F1-score: ', f1_micro)\n",
        "\n",
        "print('\\nMacro Precision: ', precision_macro)\n",
        "print('Macro Recall: ', recall_macro)\n",
        "print('Macro F1-score: ', f1_macro)\n",
        "\n",
        "print('\\nWeighted Precision: ', precision_weighted)\n",
        "print('Weighted Recall: ', recall_weighted)\n",
        "print('Weighted F1-score: ', f1_weighted)\n",
        "\n",
        "# Print overall accuracy\n",
        "print('\\nAccuracy: ', accuracy)"
      ]
    }
  ],
  "metadata": {
    "accelerator": "GPU",
    "colab": {
      "gpuType": "T4",
      "provenance": []
    },
    "kaggle": {
      "accelerator": "nvidiaTeslaT4",
      "dataSources": [
        {
          "datasetId": 4086646,
          "sourceId": 7091581,
          "sourceType": "datasetVersion"
        },
        {
          "datasetId": 4087434,
          "sourceId": 7092701,
          "sourceType": "datasetVersion"
        }
      ],
      "dockerImageVersionId": 30627,
      "isGpuEnabled": true,
      "isInternetEnabled": true,
      "language": "python",
      "sourceType": "notebook"
    },
    "kernelspec": {
      "display_name": "Python 3",
      "language": "python",
      "name": "python3"
    },
    "language_info": {
      "codemirror_mode": {
        "name": "ipython",
        "version": 3
      },
      "file_extension": ".py",
      "mimetype": "text/x-python",
      "name": "python",
      "nbconvert_exporter": "python",
      "pygments_lexer": "ipython3",
      "version": "3.10.12"
    },
    "widgets": {
      "application/vnd.jupyter.widget-state+json": {
        "72276203c4524ccfb8b907837e0dea0d": {
          "model_module": "@jupyter-widgets/controls",
          "model_name": "HBoxModel",
          "model_module_version": "1.5.0",
          "state": {
            "_dom_classes": [],
            "_model_module": "@jupyter-widgets/controls",
            "_model_module_version": "1.5.0",
            "_model_name": "HBoxModel",
            "_view_count": null,
            "_view_module": "@jupyter-widgets/controls",
            "_view_module_version": "1.5.0",
            "_view_name": "HBoxView",
            "box_style": "",
            "children": [
              "IPY_MODEL_71179c5aab30456aae8fbf29e8708550",
              "IPY_MODEL_941b1c06bb0142779e94e1692c98d408",
              "IPY_MODEL_77cc4180d6f1414493ca82dde23c97c6"
            ],
            "layout": "IPY_MODEL_3271e17a2a3f46d39f5e28d9941f0ff8"
          }
        },
        "71179c5aab30456aae8fbf29e8708550": {
          "model_module": "@jupyter-widgets/controls",
          "model_name": "HTMLModel",
          "model_module_version": "1.5.0",
          "state": {
            "_dom_classes": [],
            "_model_module": "@jupyter-widgets/controls",
            "_model_module_version": "1.5.0",
            "_model_name": "HTMLModel",
            "_view_count": null,
            "_view_module": "@jupyter-widgets/controls",
            "_view_module_version": "1.5.0",
            "_view_name": "HTMLView",
            "description": "",
            "description_tooltip": null,
            "layout": "IPY_MODEL_9f0f40bee8ad46389ef6927728fd8151",
            "placeholder": "​",
            "style": "IPY_MODEL_9c96455af8014fa3a29832b9ab7a773d",
            "value": "tokenizer_config.json: 100%"
          }
        },
        "941b1c06bb0142779e94e1692c98d408": {
          "model_module": "@jupyter-widgets/controls",
          "model_name": "FloatProgressModel",
          "model_module_version": "1.5.0",
          "state": {
            "_dom_classes": [],
            "_model_module": "@jupyter-widgets/controls",
            "_model_module_version": "1.5.0",
            "_model_name": "FloatProgressModel",
            "_view_count": null,
            "_view_module": "@jupyter-widgets/controls",
            "_view_module_version": "1.5.0",
            "_view_name": "ProgressView",
            "bar_style": "success",
            "description": "",
            "description_tooltip": null,
            "layout": "IPY_MODEL_7fb1a3673d1a475b8bc52a64cc621bd4",
            "max": 1078,
            "min": 0,
            "orientation": "horizontal",
            "style": "IPY_MODEL_61fd84a9346a4847923415ff1cdb27c5",
            "value": 1078
          }
        },
        "77cc4180d6f1414493ca82dde23c97c6": {
          "model_module": "@jupyter-widgets/controls",
          "model_name": "HTMLModel",
          "model_module_version": "1.5.0",
          "state": {
            "_dom_classes": [],
            "_model_module": "@jupyter-widgets/controls",
            "_model_module_version": "1.5.0",
            "_model_name": "HTMLModel",
            "_view_count": null,
            "_view_module": "@jupyter-widgets/controls",
            "_view_module_version": "1.5.0",
            "_view_name": "HTMLView",
            "description": "",
            "description_tooltip": null,
            "layout": "IPY_MODEL_4737c99f83ab4bcc8b14eca38a8cecc8",
            "placeholder": "​",
            "style": "IPY_MODEL_47012c7763994564b40968c986d21661",
            "value": " 1.08k/1.08k [00:00&lt;00:00, 69.2kB/s]"
          }
        },
        "3271e17a2a3f46d39f5e28d9941f0ff8": {
          "model_module": "@jupyter-widgets/base",
          "model_name": "LayoutModel",
          "model_module_version": "1.2.0",
          "state": {
            "_model_module": "@jupyter-widgets/base",
            "_model_module_version": "1.2.0",
            "_model_name": "LayoutModel",
            "_view_count": null,
            "_view_module": "@jupyter-widgets/base",
            "_view_module_version": "1.2.0",
            "_view_name": "LayoutView",
            "align_content": null,
            "align_items": null,
            "align_self": null,
            "border": null,
            "bottom": null,
            "display": null,
            "flex": null,
            "flex_flow": null,
            "grid_area": null,
            "grid_auto_columns": null,
            "grid_auto_flow": null,
            "grid_auto_rows": null,
            "grid_column": null,
            "grid_gap": null,
            "grid_row": null,
            "grid_template_areas": null,
            "grid_template_columns": null,
            "grid_template_rows": null,
            "height": null,
            "justify_content": null,
            "justify_items": null,
            "left": null,
            "margin": null,
            "max_height": null,
            "max_width": null,
            "min_height": null,
            "min_width": null,
            "object_fit": null,
            "object_position": null,
            "order": null,
            "overflow": null,
            "overflow_x": null,
            "overflow_y": null,
            "padding": null,
            "right": null,
            "top": null,
            "visibility": null,
            "width": null
          }
        },
        "9f0f40bee8ad46389ef6927728fd8151": {
          "model_module": "@jupyter-widgets/base",
          "model_name": "LayoutModel",
          "model_module_version": "1.2.0",
          "state": {
            "_model_module": "@jupyter-widgets/base",
            "_model_module_version": "1.2.0",
            "_model_name": "LayoutModel",
            "_view_count": null,
            "_view_module": "@jupyter-widgets/base",
            "_view_module_version": "1.2.0",
            "_view_name": "LayoutView",
            "align_content": null,
            "align_items": null,
            "align_self": null,
            "border": null,
            "bottom": null,
            "display": null,
            "flex": null,
            "flex_flow": null,
            "grid_area": null,
            "grid_auto_columns": null,
            "grid_auto_flow": null,
            "grid_auto_rows": null,
            "grid_column": null,
            "grid_gap": null,
            "grid_row": null,
            "grid_template_areas": null,
            "grid_template_columns": null,
            "grid_template_rows": null,
            "height": null,
            "justify_content": null,
            "justify_items": null,
            "left": null,
            "margin": null,
            "max_height": null,
            "max_width": null,
            "min_height": null,
            "min_width": null,
            "object_fit": null,
            "object_position": null,
            "order": null,
            "overflow": null,
            "overflow_x": null,
            "overflow_y": null,
            "padding": null,
            "right": null,
            "top": null,
            "visibility": null,
            "width": null
          }
        },
        "9c96455af8014fa3a29832b9ab7a773d": {
          "model_module": "@jupyter-widgets/controls",
          "model_name": "DescriptionStyleModel",
          "model_module_version": "1.5.0",
          "state": {
            "_model_module": "@jupyter-widgets/controls",
            "_model_module_version": "1.5.0",
            "_model_name": "DescriptionStyleModel",
            "_view_count": null,
            "_view_module": "@jupyter-widgets/base",
            "_view_module_version": "1.2.0",
            "_view_name": "StyleView",
            "description_width": ""
          }
        },
        "7fb1a3673d1a475b8bc52a64cc621bd4": {
          "model_module": "@jupyter-widgets/base",
          "model_name": "LayoutModel",
          "model_module_version": "1.2.0",
          "state": {
            "_model_module": "@jupyter-widgets/base",
            "_model_module_version": "1.2.0",
            "_model_name": "LayoutModel",
            "_view_count": null,
            "_view_module": "@jupyter-widgets/base",
            "_view_module_version": "1.2.0",
            "_view_name": "LayoutView",
            "align_content": null,
            "align_items": null,
            "align_self": null,
            "border": null,
            "bottom": null,
            "display": null,
            "flex": null,
            "flex_flow": null,
            "grid_area": null,
            "grid_auto_columns": null,
            "grid_auto_flow": null,
            "grid_auto_rows": null,
            "grid_column": null,
            "grid_gap": null,
            "grid_row": null,
            "grid_template_areas": null,
            "grid_template_columns": null,
            "grid_template_rows": null,
            "height": null,
            "justify_content": null,
            "justify_items": null,
            "left": null,
            "margin": null,
            "max_height": null,
            "max_width": null,
            "min_height": null,
            "min_width": null,
            "object_fit": null,
            "object_position": null,
            "order": null,
            "overflow": null,
            "overflow_x": null,
            "overflow_y": null,
            "padding": null,
            "right": null,
            "top": null,
            "visibility": null,
            "width": null
          }
        },
        "61fd84a9346a4847923415ff1cdb27c5": {
          "model_module": "@jupyter-widgets/controls",
          "model_name": "ProgressStyleModel",
          "model_module_version": "1.5.0",
          "state": {
            "_model_module": "@jupyter-widgets/controls",
            "_model_module_version": "1.5.0",
            "_model_name": "ProgressStyleModel",
            "_view_count": null,
            "_view_module": "@jupyter-widgets/base",
            "_view_module_version": "1.2.0",
            "_view_name": "StyleView",
            "bar_color": null,
            "description_width": ""
          }
        },
        "4737c99f83ab4bcc8b14eca38a8cecc8": {
          "model_module": "@jupyter-widgets/base",
          "model_name": "LayoutModel",
          "model_module_version": "1.2.0",
          "state": {
            "_model_module": "@jupyter-widgets/base",
            "_model_module_version": "1.2.0",
            "_model_name": "LayoutModel",
            "_view_count": null,
            "_view_module": "@jupyter-widgets/base",
            "_view_module_version": "1.2.0",
            "_view_name": "LayoutView",
            "align_content": null,
            "align_items": null,
            "align_self": null,
            "border": null,
            "bottom": null,
            "display": null,
            "flex": null,
            "flex_flow": null,
            "grid_area": null,
            "grid_auto_columns": null,
            "grid_auto_flow": null,
            "grid_auto_rows": null,
            "grid_column": null,
            "grid_gap": null,
            "grid_row": null,
            "grid_template_areas": null,
            "grid_template_columns": null,
            "grid_template_rows": null,
            "height": null,
            "justify_content": null,
            "justify_items": null,
            "left": null,
            "margin": null,
            "max_height": null,
            "max_width": null,
            "min_height": null,
            "min_width": null,
            "object_fit": null,
            "object_position": null,
            "order": null,
            "overflow": null,
            "overflow_x": null,
            "overflow_y": null,
            "padding": null,
            "right": null,
            "top": null,
            "visibility": null,
            "width": null
          }
        },
        "47012c7763994564b40968c986d21661": {
          "model_module": "@jupyter-widgets/controls",
          "model_name": "DescriptionStyleModel",
          "model_module_version": "1.5.0",
          "state": {
            "_model_module": "@jupyter-widgets/controls",
            "_model_module_version": "1.5.0",
            "_model_name": "DescriptionStyleModel",
            "_view_count": null,
            "_view_module": "@jupyter-widgets/base",
            "_view_module_version": "1.2.0",
            "_view_name": "StyleView",
            "description_width": ""
          }
        },
        "c6518ec7df0a4a65b47051e0d344aab4": {
          "model_module": "@jupyter-widgets/controls",
          "model_name": "HBoxModel",
          "model_module_version": "1.5.0",
          "state": {
            "_dom_classes": [],
            "_model_module": "@jupyter-widgets/controls",
            "_model_module_version": "1.5.0",
            "_model_name": "HBoxModel",
            "_view_count": null,
            "_view_module": "@jupyter-widgets/controls",
            "_view_module_version": "1.5.0",
            "_view_name": "HBoxView",
            "box_style": "",
            "children": [
              "IPY_MODEL_e433c772fb854157ab7b74ad6582c665",
              "IPY_MODEL_bae5e8f5e8b8485e85841b2852a2eec1",
              "IPY_MODEL_f3f325d54ca84aa286abeb9be9a6dfc7"
            ],
            "layout": "IPY_MODEL_6419a3cd9a6948b999131903c2c823ea"
          }
        },
        "e433c772fb854157ab7b74ad6582c665": {
          "model_module": "@jupyter-widgets/controls",
          "model_name": "HTMLModel",
          "model_module_version": "1.5.0",
          "state": {
            "_dom_classes": [],
            "_model_module": "@jupyter-widgets/controls",
            "_model_module_version": "1.5.0",
            "_model_name": "HTMLModel",
            "_view_count": null,
            "_view_module": "@jupyter-widgets/controls",
            "_view_module_version": "1.5.0",
            "_view_name": "HTMLView",
            "description": "",
            "description_tooltip": null,
            "layout": "IPY_MODEL_96a0ade41a524c0cafedbbadd9c470a0",
            "placeholder": "​",
            "style": "IPY_MODEL_1a056a7a1e7a45e185c91ed6461ae625",
            "value": "config.json: 100%"
          }
        },
        "bae5e8f5e8b8485e85841b2852a2eec1": {
          "model_module": "@jupyter-widgets/controls",
          "model_name": "FloatProgressModel",
          "model_module_version": "1.5.0",
          "state": {
            "_dom_classes": [],
            "_model_module": "@jupyter-widgets/controls",
            "_model_module_version": "1.5.0",
            "_model_name": "FloatProgressModel",
            "_view_count": null,
            "_view_module": "@jupyter-widgets/controls",
            "_view_module_version": "1.5.0",
            "_view_name": "ProgressView",
            "bar_style": "success",
            "description": "",
            "description_tooltip": null,
            "layout": "IPY_MODEL_f13f4da9aae643dfb18938138c8271c7",
            "max": 541,
            "min": 0,
            "orientation": "horizontal",
            "style": "IPY_MODEL_b91a2b0cdb69464caf87d40c5114909f",
            "value": 541
          }
        },
        "f3f325d54ca84aa286abeb9be9a6dfc7": {
          "model_module": "@jupyter-widgets/controls",
          "model_name": "HTMLModel",
          "model_module_version": "1.5.0",
          "state": {
            "_dom_classes": [],
            "_model_module": "@jupyter-widgets/controls",
            "_model_module_version": "1.5.0",
            "_model_name": "HTMLModel",
            "_view_count": null,
            "_view_module": "@jupyter-widgets/controls",
            "_view_module_version": "1.5.0",
            "_view_name": "HTMLView",
            "description": "",
            "description_tooltip": null,
            "layout": "IPY_MODEL_c43cf88a62f44bf690f6ed1e2ee3b3ec",
            "placeholder": "​",
            "style": "IPY_MODEL_e35506cf23e0434ea85cc40eb4c41402",
            "value": " 541/541 [00:00&lt;00:00, 34.0kB/s]"
          }
        },
        "6419a3cd9a6948b999131903c2c823ea": {
          "model_module": "@jupyter-widgets/base",
          "model_name": "LayoutModel",
          "model_module_version": "1.2.0",
          "state": {
            "_model_module": "@jupyter-widgets/base",
            "_model_module_version": "1.2.0",
            "_model_name": "LayoutModel",
            "_view_count": null,
            "_view_module": "@jupyter-widgets/base",
            "_view_module_version": "1.2.0",
            "_view_name": "LayoutView",
            "align_content": null,
            "align_items": null,
            "align_self": null,
            "border": null,
            "bottom": null,
            "display": null,
            "flex": null,
            "flex_flow": null,
            "grid_area": null,
            "grid_auto_columns": null,
            "grid_auto_flow": null,
            "grid_auto_rows": null,
            "grid_column": null,
            "grid_gap": null,
            "grid_row": null,
            "grid_template_areas": null,
            "grid_template_columns": null,
            "grid_template_rows": null,
            "height": null,
            "justify_content": null,
            "justify_items": null,
            "left": null,
            "margin": null,
            "max_height": null,
            "max_width": null,
            "min_height": null,
            "min_width": null,
            "object_fit": null,
            "object_position": null,
            "order": null,
            "overflow": null,
            "overflow_x": null,
            "overflow_y": null,
            "padding": null,
            "right": null,
            "top": null,
            "visibility": null,
            "width": null
          }
        },
        "96a0ade41a524c0cafedbbadd9c470a0": {
          "model_module": "@jupyter-widgets/base",
          "model_name": "LayoutModel",
          "model_module_version": "1.2.0",
          "state": {
            "_model_module": "@jupyter-widgets/base",
            "_model_module_version": "1.2.0",
            "_model_name": "LayoutModel",
            "_view_count": null,
            "_view_module": "@jupyter-widgets/base",
            "_view_module_version": "1.2.0",
            "_view_name": "LayoutView",
            "align_content": null,
            "align_items": null,
            "align_self": null,
            "border": null,
            "bottom": null,
            "display": null,
            "flex": null,
            "flex_flow": null,
            "grid_area": null,
            "grid_auto_columns": null,
            "grid_auto_flow": null,
            "grid_auto_rows": null,
            "grid_column": null,
            "grid_gap": null,
            "grid_row": null,
            "grid_template_areas": null,
            "grid_template_columns": null,
            "grid_template_rows": null,
            "height": null,
            "justify_content": null,
            "justify_items": null,
            "left": null,
            "margin": null,
            "max_height": null,
            "max_width": null,
            "min_height": null,
            "min_width": null,
            "object_fit": null,
            "object_position": null,
            "order": null,
            "overflow": null,
            "overflow_x": null,
            "overflow_y": null,
            "padding": null,
            "right": null,
            "top": null,
            "visibility": null,
            "width": null
          }
        },
        "1a056a7a1e7a45e185c91ed6461ae625": {
          "model_module": "@jupyter-widgets/controls",
          "model_name": "DescriptionStyleModel",
          "model_module_version": "1.5.0",
          "state": {
            "_model_module": "@jupyter-widgets/controls",
            "_model_module_version": "1.5.0",
            "_model_name": "DescriptionStyleModel",
            "_view_count": null,
            "_view_module": "@jupyter-widgets/base",
            "_view_module_version": "1.2.0",
            "_view_name": "StyleView",
            "description_width": ""
          }
        },
        "f13f4da9aae643dfb18938138c8271c7": {
          "model_module": "@jupyter-widgets/base",
          "model_name": "LayoutModel",
          "model_module_version": "1.2.0",
          "state": {
            "_model_module": "@jupyter-widgets/base",
            "_model_module_version": "1.2.0",
            "_model_name": "LayoutModel",
            "_view_count": null,
            "_view_module": "@jupyter-widgets/base",
            "_view_module_version": "1.2.0",
            "_view_name": "LayoutView",
            "align_content": null,
            "align_items": null,
            "align_self": null,
            "border": null,
            "bottom": null,
            "display": null,
            "flex": null,
            "flex_flow": null,
            "grid_area": null,
            "grid_auto_columns": null,
            "grid_auto_flow": null,
            "grid_auto_rows": null,
            "grid_column": null,
            "grid_gap": null,
            "grid_row": null,
            "grid_template_areas": null,
            "grid_template_columns": null,
            "grid_template_rows": null,
            "height": null,
            "justify_content": null,
            "justify_items": null,
            "left": null,
            "margin": null,
            "max_height": null,
            "max_width": null,
            "min_height": null,
            "min_width": null,
            "object_fit": null,
            "object_position": null,
            "order": null,
            "overflow": null,
            "overflow_x": null,
            "overflow_y": null,
            "padding": null,
            "right": null,
            "top": null,
            "visibility": null,
            "width": null
          }
        },
        "b91a2b0cdb69464caf87d40c5114909f": {
          "model_module": "@jupyter-widgets/controls",
          "model_name": "ProgressStyleModel",
          "model_module_version": "1.5.0",
          "state": {
            "_model_module": "@jupyter-widgets/controls",
            "_model_module_version": "1.5.0",
            "_model_name": "ProgressStyleModel",
            "_view_count": null,
            "_view_module": "@jupyter-widgets/base",
            "_view_module_version": "1.2.0",
            "_view_name": "StyleView",
            "bar_color": null,
            "description_width": ""
          }
        },
        "c43cf88a62f44bf690f6ed1e2ee3b3ec": {
          "model_module": "@jupyter-widgets/base",
          "model_name": "LayoutModel",
          "model_module_version": "1.2.0",
          "state": {
            "_model_module": "@jupyter-widgets/base",
            "_model_module_version": "1.2.0",
            "_model_name": "LayoutModel",
            "_view_count": null,
            "_view_module": "@jupyter-widgets/base",
            "_view_module_version": "1.2.0",
            "_view_name": "LayoutView",
            "align_content": null,
            "align_items": null,
            "align_self": null,
            "border": null,
            "bottom": null,
            "display": null,
            "flex": null,
            "flex_flow": null,
            "grid_area": null,
            "grid_auto_columns": null,
            "grid_auto_flow": null,
            "grid_auto_rows": null,
            "grid_column": null,
            "grid_gap": null,
            "grid_row": null,
            "grid_template_areas": null,
            "grid_template_columns": null,
            "grid_template_rows": null,
            "height": null,
            "justify_content": null,
            "justify_items": null,
            "left": null,
            "margin": null,
            "max_height": null,
            "max_width": null,
            "min_height": null,
            "min_width": null,
            "object_fit": null,
            "object_position": null,
            "order": null,
            "overflow": null,
            "overflow_x": null,
            "overflow_y": null,
            "padding": null,
            "right": null,
            "top": null,
            "visibility": null,
            "width": null
          }
        },
        "e35506cf23e0434ea85cc40eb4c41402": {
          "model_module": "@jupyter-widgets/controls",
          "model_name": "DescriptionStyleModel",
          "model_module_version": "1.5.0",
          "state": {
            "_model_module": "@jupyter-widgets/controls",
            "_model_module_version": "1.5.0",
            "_model_name": "DescriptionStyleModel",
            "_view_count": null,
            "_view_module": "@jupyter-widgets/base",
            "_view_module_version": "1.2.0",
            "_view_name": "StyleView",
            "description_width": ""
          }
        },
        "37a7436db0ba462283e599b47ac32ab1": {
          "model_module": "@jupyter-widgets/controls",
          "model_name": "HBoxModel",
          "model_module_version": "1.5.0",
          "state": {
            "_dom_classes": [],
            "_model_module": "@jupyter-widgets/controls",
            "_model_module_version": "1.5.0",
            "_model_name": "HBoxModel",
            "_view_count": null,
            "_view_module": "@jupyter-widgets/controls",
            "_view_module_version": "1.5.0",
            "_view_name": "HBoxView",
            "box_style": "",
            "children": [
              "IPY_MODEL_4b0c0fc4cfbe4be3a4bbb9c8bc4f1f4e",
              "IPY_MODEL_e9623f9d6b91432295d3722fd8dd4b53",
              "IPY_MODEL_c975881b983540bbb6d4df83813abb69"
            ],
            "layout": "IPY_MODEL_4a9bbc273df847bc8f877b55aec37c44"
          }
        },
        "4b0c0fc4cfbe4be3a4bbb9c8bc4f1f4e": {
          "model_module": "@jupyter-widgets/controls",
          "model_name": "HTMLModel",
          "model_module_version": "1.5.0",
          "state": {
            "_dom_classes": [],
            "_model_module": "@jupyter-widgets/controls",
            "_model_module_version": "1.5.0",
            "_model_name": "HTMLModel",
            "_view_count": null,
            "_view_module": "@jupyter-widgets/controls",
            "_view_module_version": "1.5.0",
            "_view_name": "HTMLView",
            "description": "",
            "description_tooltip": null,
            "layout": "IPY_MODEL_fcefb7026e40488b824b990566da8a52",
            "placeholder": "​",
            "style": "IPY_MODEL_adcb1c067c6045888b0ce818c6084945",
            "value": "vocab.json: 100%"
          }
        },
        "e9623f9d6b91432295d3722fd8dd4b53": {
          "model_module": "@jupyter-widgets/controls",
          "model_name": "FloatProgressModel",
          "model_module_version": "1.5.0",
          "state": {
            "_dom_classes": [],
            "_model_module": "@jupyter-widgets/controls",
            "_model_module_version": "1.5.0",
            "_model_name": "FloatProgressModel",
            "_view_count": null,
            "_view_module": "@jupyter-widgets/controls",
            "_view_module_version": "1.5.0",
            "_view_name": "ProgressView",
            "bar_style": "success",
            "description": "",
            "description_tooltip": null,
            "layout": "IPY_MODEL_a54a5cb55b5c47d3b64c1505b7905272",
            "max": 898822,
            "min": 0,
            "orientation": "horizontal",
            "style": "IPY_MODEL_cdf2611e325248c38bf693c7bfc8a531",
            "value": 898822
          }
        },
        "c975881b983540bbb6d4df83813abb69": {
          "model_module": "@jupyter-widgets/controls",
          "model_name": "HTMLModel",
          "model_module_version": "1.5.0",
          "state": {
            "_dom_classes": [],
            "_model_module": "@jupyter-widgets/controls",
            "_model_module_version": "1.5.0",
            "_model_name": "HTMLModel",
            "_view_count": null,
            "_view_module": "@jupyter-widgets/controls",
            "_view_module_version": "1.5.0",
            "_view_name": "HTMLView",
            "description": "",
            "description_tooltip": null,
            "layout": "IPY_MODEL_70d2e309df884d58a3edd7503d156b50",
            "placeholder": "​",
            "style": "IPY_MODEL_ae102c8e9e314cddb596b856d2086783",
            "value": " 899k/899k [00:00&lt;00:00, 1.26MB/s]"
          }
        },
        "4a9bbc273df847bc8f877b55aec37c44": {
          "model_module": "@jupyter-widgets/base",
          "model_name": "LayoutModel",
          "model_module_version": "1.2.0",
          "state": {
            "_model_module": "@jupyter-widgets/base",
            "_model_module_version": "1.2.0",
            "_model_name": "LayoutModel",
            "_view_count": null,
            "_view_module": "@jupyter-widgets/base",
            "_view_module_version": "1.2.0",
            "_view_name": "LayoutView",
            "align_content": null,
            "align_items": null,
            "align_self": null,
            "border": null,
            "bottom": null,
            "display": null,
            "flex": null,
            "flex_flow": null,
            "grid_area": null,
            "grid_auto_columns": null,
            "grid_auto_flow": null,
            "grid_auto_rows": null,
            "grid_column": null,
            "grid_gap": null,
            "grid_row": null,
            "grid_template_areas": null,
            "grid_template_columns": null,
            "grid_template_rows": null,
            "height": null,
            "justify_content": null,
            "justify_items": null,
            "left": null,
            "margin": null,
            "max_height": null,
            "max_width": null,
            "min_height": null,
            "min_width": null,
            "object_fit": null,
            "object_position": null,
            "order": null,
            "overflow": null,
            "overflow_x": null,
            "overflow_y": null,
            "padding": null,
            "right": null,
            "top": null,
            "visibility": null,
            "width": null
          }
        },
        "fcefb7026e40488b824b990566da8a52": {
          "model_module": "@jupyter-widgets/base",
          "model_name": "LayoutModel",
          "model_module_version": "1.2.0",
          "state": {
            "_model_module": "@jupyter-widgets/base",
            "_model_module_version": "1.2.0",
            "_model_name": "LayoutModel",
            "_view_count": null,
            "_view_module": "@jupyter-widgets/base",
            "_view_module_version": "1.2.0",
            "_view_name": "LayoutView",
            "align_content": null,
            "align_items": null,
            "align_self": null,
            "border": null,
            "bottom": null,
            "display": null,
            "flex": null,
            "flex_flow": null,
            "grid_area": null,
            "grid_auto_columns": null,
            "grid_auto_flow": null,
            "grid_auto_rows": null,
            "grid_column": null,
            "grid_gap": null,
            "grid_row": null,
            "grid_template_areas": null,
            "grid_template_columns": null,
            "grid_template_rows": null,
            "height": null,
            "justify_content": null,
            "justify_items": null,
            "left": null,
            "margin": null,
            "max_height": null,
            "max_width": null,
            "min_height": null,
            "min_width": null,
            "object_fit": null,
            "object_position": null,
            "order": null,
            "overflow": null,
            "overflow_x": null,
            "overflow_y": null,
            "padding": null,
            "right": null,
            "top": null,
            "visibility": null,
            "width": null
          }
        },
        "adcb1c067c6045888b0ce818c6084945": {
          "model_module": "@jupyter-widgets/controls",
          "model_name": "DescriptionStyleModel",
          "model_module_version": "1.5.0",
          "state": {
            "_model_module": "@jupyter-widgets/controls",
            "_model_module_version": "1.5.0",
            "_model_name": "DescriptionStyleModel",
            "_view_count": null,
            "_view_module": "@jupyter-widgets/base",
            "_view_module_version": "1.2.0",
            "_view_name": "StyleView",
            "description_width": ""
          }
        },
        "a54a5cb55b5c47d3b64c1505b7905272": {
          "model_module": "@jupyter-widgets/base",
          "model_name": "LayoutModel",
          "model_module_version": "1.2.0",
          "state": {
            "_model_module": "@jupyter-widgets/base",
            "_model_module_version": "1.2.0",
            "_model_name": "LayoutModel",
            "_view_count": null,
            "_view_module": "@jupyter-widgets/base",
            "_view_module_version": "1.2.0",
            "_view_name": "LayoutView",
            "align_content": null,
            "align_items": null,
            "align_self": null,
            "border": null,
            "bottom": null,
            "display": null,
            "flex": null,
            "flex_flow": null,
            "grid_area": null,
            "grid_auto_columns": null,
            "grid_auto_flow": null,
            "grid_auto_rows": null,
            "grid_column": null,
            "grid_gap": null,
            "grid_row": null,
            "grid_template_areas": null,
            "grid_template_columns": null,
            "grid_template_rows": null,
            "height": null,
            "justify_content": null,
            "justify_items": null,
            "left": null,
            "margin": null,
            "max_height": null,
            "max_width": null,
            "min_height": null,
            "min_width": null,
            "object_fit": null,
            "object_position": null,
            "order": null,
            "overflow": null,
            "overflow_x": null,
            "overflow_y": null,
            "padding": null,
            "right": null,
            "top": null,
            "visibility": null,
            "width": null
          }
        },
        "cdf2611e325248c38bf693c7bfc8a531": {
          "model_module": "@jupyter-widgets/controls",
          "model_name": "ProgressStyleModel",
          "model_module_version": "1.5.0",
          "state": {
            "_model_module": "@jupyter-widgets/controls",
            "_model_module_version": "1.5.0",
            "_model_name": "ProgressStyleModel",
            "_view_count": null,
            "_view_module": "@jupyter-widgets/base",
            "_view_module_version": "1.2.0",
            "_view_name": "StyleView",
            "bar_color": null,
            "description_width": ""
          }
        },
        "70d2e309df884d58a3edd7503d156b50": {
          "model_module": "@jupyter-widgets/base",
          "model_name": "LayoutModel",
          "model_module_version": "1.2.0",
          "state": {
            "_model_module": "@jupyter-widgets/base",
            "_model_module_version": "1.2.0",
            "_model_name": "LayoutModel",
            "_view_count": null,
            "_view_module": "@jupyter-widgets/base",
            "_view_module_version": "1.2.0",
            "_view_name": "LayoutView",
            "align_content": null,
            "align_items": null,
            "align_self": null,
            "border": null,
            "bottom": null,
            "display": null,
            "flex": null,
            "flex_flow": null,
            "grid_area": null,
            "grid_auto_columns": null,
            "grid_auto_flow": null,
            "grid_auto_rows": null,
            "grid_column": null,
            "grid_gap": null,
            "grid_row": null,
            "grid_template_areas": null,
            "grid_template_columns": null,
            "grid_template_rows": null,
            "height": null,
            "justify_content": null,
            "justify_items": null,
            "left": null,
            "margin": null,
            "max_height": null,
            "max_width": null,
            "min_height": null,
            "min_width": null,
            "object_fit": null,
            "object_position": null,
            "order": null,
            "overflow": null,
            "overflow_x": null,
            "overflow_y": null,
            "padding": null,
            "right": null,
            "top": null,
            "visibility": null,
            "width": null
          }
        },
        "ae102c8e9e314cddb596b856d2086783": {
          "model_module": "@jupyter-widgets/controls",
          "model_name": "DescriptionStyleModel",
          "model_module_version": "1.5.0",
          "state": {
            "_model_module": "@jupyter-widgets/controls",
            "_model_module_version": "1.5.0",
            "_model_name": "DescriptionStyleModel",
            "_view_count": null,
            "_view_module": "@jupyter-widgets/base",
            "_view_module_version": "1.2.0",
            "_view_name": "StyleView",
            "description_width": ""
          }
        },
        "26f9e0b9b45841db8eb45a27f79e1b75": {
          "model_module": "@jupyter-widgets/controls",
          "model_name": "HBoxModel",
          "model_module_version": "1.5.0",
          "state": {
            "_dom_classes": [],
            "_model_module": "@jupyter-widgets/controls",
            "_model_module_version": "1.5.0",
            "_model_name": "HBoxModel",
            "_view_count": null,
            "_view_module": "@jupyter-widgets/controls",
            "_view_module_version": "1.5.0",
            "_view_name": "HBoxView",
            "box_style": "",
            "children": [
              "IPY_MODEL_dc264e6dce9a429f979e382e51b00d90",
              "IPY_MODEL_80f8f5551e464b7eaf41a9c85759db38",
              "IPY_MODEL_5c2291c8f3ac499582f5343901ad25ae"
            ],
            "layout": "IPY_MODEL_c9ffcc6f61c14a1e9e85cd9e08426538"
          }
        },
        "dc264e6dce9a429f979e382e51b00d90": {
          "model_module": "@jupyter-widgets/controls",
          "model_name": "HTMLModel",
          "model_module_version": "1.5.0",
          "state": {
            "_dom_classes": [],
            "_model_module": "@jupyter-widgets/controls",
            "_model_module_version": "1.5.0",
            "_model_name": "HTMLModel",
            "_view_count": null,
            "_view_module": "@jupyter-widgets/controls",
            "_view_module_version": "1.5.0",
            "_view_name": "HTMLView",
            "description": "",
            "description_tooltip": null,
            "layout": "IPY_MODEL_f715dabaa44e41249d603cb5f26a822d",
            "placeholder": "​",
            "style": "IPY_MODEL_45c4c81bc0744ab3b63a563a62e58cdf",
            "value": "merges.txt: 100%"
          }
        },
        "80f8f5551e464b7eaf41a9c85759db38": {
          "model_module": "@jupyter-widgets/controls",
          "model_name": "FloatProgressModel",
          "model_module_version": "1.5.0",
          "state": {
            "_dom_classes": [],
            "_model_module": "@jupyter-widgets/controls",
            "_model_module_version": "1.5.0",
            "_model_name": "FloatProgressModel",
            "_view_count": null,
            "_view_module": "@jupyter-widgets/controls",
            "_view_module_version": "1.5.0",
            "_view_name": "ProgressView",
            "bar_style": "success",
            "description": "",
            "description_tooltip": null,
            "layout": "IPY_MODEL_fada492205044bde875beb2f2d771c8d",
            "max": 456318,
            "min": 0,
            "orientation": "horizontal",
            "style": "IPY_MODEL_de4016b845a2442fbf85fe5a80be21f6",
            "value": 456318
          }
        },
        "5c2291c8f3ac499582f5343901ad25ae": {
          "model_module": "@jupyter-widgets/controls",
          "model_name": "HTMLModel",
          "model_module_version": "1.5.0",
          "state": {
            "_dom_classes": [],
            "_model_module": "@jupyter-widgets/controls",
            "_model_module_version": "1.5.0",
            "_model_name": "HTMLModel",
            "_view_count": null,
            "_view_module": "@jupyter-widgets/controls",
            "_view_module_version": "1.5.0",
            "_view_name": "HTMLView",
            "description": "",
            "description_tooltip": null,
            "layout": "IPY_MODEL_a6ffb70578564b4f8226a16b36fdfd9e",
            "placeholder": "​",
            "style": "IPY_MODEL_6e7f57a7e3ce465587559ea8f8b59343",
            "value": " 456k/456k [00:00&lt;00:00, 1.91MB/s]"
          }
        },
        "c9ffcc6f61c14a1e9e85cd9e08426538": {
          "model_module": "@jupyter-widgets/base",
          "model_name": "LayoutModel",
          "model_module_version": "1.2.0",
          "state": {
            "_model_module": "@jupyter-widgets/base",
            "_model_module_version": "1.2.0",
            "_model_name": "LayoutModel",
            "_view_count": null,
            "_view_module": "@jupyter-widgets/base",
            "_view_module_version": "1.2.0",
            "_view_name": "LayoutView",
            "align_content": null,
            "align_items": null,
            "align_self": null,
            "border": null,
            "bottom": null,
            "display": null,
            "flex": null,
            "flex_flow": null,
            "grid_area": null,
            "grid_auto_columns": null,
            "grid_auto_flow": null,
            "grid_auto_rows": null,
            "grid_column": null,
            "grid_gap": null,
            "grid_row": null,
            "grid_template_areas": null,
            "grid_template_columns": null,
            "grid_template_rows": null,
            "height": null,
            "justify_content": null,
            "justify_items": null,
            "left": null,
            "margin": null,
            "max_height": null,
            "max_width": null,
            "min_height": null,
            "min_width": null,
            "object_fit": null,
            "object_position": null,
            "order": null,
            "overflow": null,
            "overflow_x": null,
            "overflow_y": null,
            "padding": null,
            "right": null,
            "top": null,
            "visibility": null,
            "width": null
          }
        },
        "f715dabaa44e41249d603cb5f26a822d": {
          "model_module": "@jupyter-widgets/base",
          "model_name": "LayoutModel",
          "model_module_version": "1.2.0",
          "state": {
            "_model_module": "@jupyter-widgets/base",
            "_model_module_version": "1.2.0",
            "_model_name": "LayoutModel",
            "_view_count": null,
            "_view_module": "@jupyter-widgets/base",
            "_view_module_version": "1.2.0",
            "_view_name": "LayoutView",
            "align_content": null,
            "align_items": null,
            "align_self": null,
            "border": null,
            "bottom": null,
            "display": null,
            "flex": null,
            "flex_flow": null,
            "grid_area": null,
            "grid_auto_columns": null,
            "grid_auto_flow": null,
            "grid_auto_rows": null,
            "grid_column": null,
            "grid_gap": null,
            "grid_row": null,
            "grid_template_areas": null,
            "grid_template_columns": null,
            "grid_template_rows": null,
            "height": null,
            "justify_content": null,
            "justify_items": null,
            "left": null,
            "margin": null,
            "max_height": null,
            "max_width": null,
            "min_height": null,
            "min_width": null,
            "object_fit": null,
            "object_position": null,
            "order": null,
            "overflow": null,
            "overflow_x": null,
            "overflow_y": null,
            "padding": null,
            "right": null,
            "top": null,
            "visibility": null,
            "width": null
          }
        },
        "45c4c81bc0744ab3b63a563a62e58cdf": {
          "model_module": "@jupyter-widgets/controls",
          "model_name": "DescriptionStyleModel",
          "model_module_version": "1.5.0",
          "state": {
            "_model_module": "@jupyter-widgets/controls",
            "_model_module_version": "1.5.0",
            "_model_name": "DescriptionStyleModel",
            "_view_count": null,
            "_view_module": "@jupyter-widgets/base",
            "_view_module_version": "1.2.0",
            "_view_name": "StyleView",
            "description_width": ""
          }
        },
        "fada492205044bde875beb2f2d771c8d": {
          "model_module": "@jupyter-widgets/base",
          "model_name": "LayoutModel",
          "model_module_version": "1.2.0",
          "state": {
            "_model_module": "@jupyter-widgets/base",
            "_model_module_version": "1.2.0",
            "_model_name": "LayoutModel",
            "_view_count": null,
            "_view_module": "@jupyter-widgets/base",
            "_view_module_version": "1.2.0",
            "_view_name": "LayoutView",
            "align_content": null,
            "align_items": null,
            "align_self": null,
            "border": null,
            "bottom": null,
            "display": null,
            "flex": null,
            "flex_flow": null,
            "grid_area": null,
            "grid_auto_columns": null,
            "grid_auto_flow": null,
            "grid_auto_rows": null,
            "grid_column": null,
            "grid_gap": null,
            "grid_row": null,
            "grid_template_areas": null,
            "grid_template_columns": null,
            "grid_template_rows": null,
            "height": null,
            "justify_content": null,
            "justify_items": null,
            "left": null,
            "margin": null,
            "max_height": null,
            "max_width": null,
            "min_height": null,
            "min_width": null,
            "object_fit": null,
            "object_position": null,
            "order": null,
            "overflow": null,
            "overflow_x": null,
            "overflow_y": null,
            "padding": null,
            "right": null,
            "top": null,
            "visibility": null,
            "width": null
          }
        },
        "de4016b845a2442fbf85fe5a80be21f6": {
          "model_module": "@jupyter-widgets/controls",
          "model_name": "ProgressStyleModel",
          "model_module_version": "1.5.0",
          "state": {
            "_model_module": "@jupyter-widgets/controls",
            "_model_module_version": "1.5.0",
            "_model_name": "ProgressStyleModel",
            "_view_count": null,
            "_view_module": "@jupyter-widgets/base",
            "_view_module_version": "1.2.0",
            "_view_name": "StyleView",
            "bar_color": null,
            "description_width": ""
          }
        },
        "a6ffb70578564b4f8226a16b36fdfd9e": {
          "model_module": "@jupyter-widgets/base",
          "model_name": "LayoutModel",
          "model_module_version": "1.2.0",
          "state": {
            "_model_module": "@jupyter-widgets/base",
            "_model_module_version": "1.2.0",
            "_model_name": "LayoutModel",
            "_view_count": null,
            "_view_module": "@jupyter-widgets/base",
            "_view_module_version": "1.2.0",
            "_view_name": "LayoutView",
            "align_content": null,
            "align_items": null,
            "align_self": null,
            "border": null,
            "bottom": null,
            "display": null,
            "flex": null,
            "flex_flow": null,
            "grid_area": null,
            "grid_auto_columns": null,
            "grid_auto_flow": null,
            "grid_auto_rows": null,
            "grid_column": null,
            "grid_gap": null,
            "grid_row": null,
            "grid_template_areas": null,
            "grid_template_columns": null,
            "grid_template_rows": null,
            "height": null,
            "justify_content": null,
            "justify_items": null,
            "left": null,
            "margin": null,
            "max_height": null,
            "max_width": null,
            "min_height": null,
            "min_width": null,
            "object_fit": null,
            "object_position": null,
            "order": null,
            "overflow": null,
            "overflow_x": null,
            "overflow_y": null,
            "padding": null,
            "right": null,
            "top": null,
            "visibility": null,
            "width": null
          }
        },
        "6e7f57a7e3ce465587559ea8f8b59343": {
          "model_module": "@jupyter-widgets/controls",
          "model_name": "DescriptionStyleModel",
          "model_module_version": "1.5.0",
          "state": {
            "_model_module": "@jupyter-widgets/controls",
            "_model_module_version": "1.5.0",
            "_model_name": "DescriptionStyleModel",
            "_view_count": null,
            "_view_module": "@jupyter-widgets/base",
            "_view_module_version": "1.2.0",
            "_view_name": "StyleView",
            "description_width": ""
          }
        },
        "b2aa860982f844f1b3c90f01e78667f4": {
          "model_module": "@jupyter-widgets/controls",
          "model_name": "HBoxModel",
          "model_module_version": "1.5.0",
          "state": {
            "_dom_classes": [],
            "_model_module": "@jupyter-widgets/controls",
            "_model_module_version": "1.5.0",
            "_model_name": "HBoxModel",
            "_view_count": null,
            "_view_module": "@jupyter-widgets/controls",
            "_view_module_version": "1.5.0",
            "_view_name": "HBoxView",
            "box_style": "",
            "children": [
              "IPY_MODEL_f95e06347f2948abbc140d590ac667f0",
              "IPY_MODEL_d1f22c140cfb45b9a29a4093bd964118",
              "IPY_MODEL_c2c820c78fb34f66a2e7c0f56fcf3276"
            ],
            "layout": "IPY_MODEL_2d20967d2b8e437287295af82d63ab17"
          }
        },
        "f95e06347f2948abbc140d590ac667f0": {
          "model_module": "@jupyter-widgets/controls",
          "model_name": "HTMLModel",
          "model_module_version": "1.5.0",
          "state": {
            "_dom_classes": [],
            "_model_module": "@jupyter-widgets/controls",
            "_model_module_version": "1.5.0",
            "_model_name": "HTMLModel",
            "_view_count": null,
            "_view_module": "@jupyter-widgets/controls",
            "_view_module_version": "1.5.0",
            "_view_name": "HTMLView",
            "description": "",
            "description_tooltip": null,
            "layout": "IPY_MODEL_3529e1fbab0b4038947d739aebe20e43",
            "placeholder": "​",
            "style": "IPY_MODEL_7f977ab01e944b64ac1dd81559ba5db7",
            "value": "tokenizer.json: 100%"
          }
        },
        "d1f22c140cfb45b9a29a4093bd964118": {
          "model_module": "@jupyter-widgets/controls",
          "model_name": "FloatProgressModel",
          "model_module_version": "1.5.0",
          "state": {
            "_dom_classes": [],
            "_model_module": "@jupyter-widgets/controls",
            "_model_module_version": "1.5.0",
            "_model_name": "FloatProgressModel",
            "_view_count": null,
            "_view_module": "@jupyter-widgets/controls",
            "_view_module_version": "1.5.0",
            "_view_name": "ProgressView",
            "bar_style": "success",
            "description": "",
            "description_tooltip": null,
            "layout": "IPY_MODEL_bdf30ddc631847bf9f4b235fdc9e3afd",
            "max": 1355863,
            "min": 0,
            "orientation": "horizontal",
            "style": "IPY_MODEL_31674c0836424720b6ca1456720d5418",
            "value": 1355863
          }
        },
        "c2c820c78fb34f66a2e7c0f56fcf3276": {
          "model_module": "@jupyter-widgets/controls",
          "model_name": "HTMLModel",
          "model_module_version": "1.5.0",
          "state": {
            "_dom_classes": [],
            "_model_module": "@jupyter-widgets/controls",
            "_model_module_version": "1.5.0",
            "_model_name": "HTMLModel",
            "_view_count": null,
            "_view_module": "@jupyter-widgets/controls",
            "_view_module_version": "1.5.0",
            "_view_name": "HTMLView",
            "description": "",
            "description_tooltip": null,
            "layout": "IPY_MODEL_4bf674de61b344af911af79ff081f0f1",
            "placeholder": "​",
            "style": "IPY_MODEL_eb3072cbd7c84b04a13d0b37b53c5d9c",
            "value": " 1.36M/1.36M [00:00&lt;00:00, 2.84MB/s]"
          }
        },
        "2d20967d2b8e437287295af82d63ab17": {
          "model_module": "@jupyter-widgets/base",
          "model_name": "LayoutModel",
          "model_module_version": "1.2.0",
          "state": {
            "_model_module": "@jupyter-widgets/base",
            "_model_module_version": "1.2.0",
            "_model_name": "LayoutModel",
            "_view_count": null,
            "_view_module": "@jupyter-widgets/base",
            "_view_module_version": "1.2.0",
            "_view_name": "LayoutView",
            "align_content": null,
            "align_items": null,
            "align_self": null,
            "border": null,
            "bottom": null,
            "display": null,
            "flex": null,
            "flex_flow": null,
            "grid_area": null,
            "grid_auto_columns": null,
            "grid_auto_flow": null,
            "grid_auto_rows": null,
            "grid_column": null,
            "grid_gap": null,
            "grid_row": null,
            "grid_template_areas": null,
            "grid_template_columns": null,
            "grid_template_rows": null,
            "height": null,
            "justify_content": null,
            "justify_items": null,
            "left": null,
            "margin": null,
            "max_height": null,
            "max_width": null,
            "min_height": null,
            "min_width": null,
            "object_fit": null,
            "object_position": null,
            "order": null,
            "overflow": null,
            "overflow_x": null,
            "overflow_y": null,
            "padding": null,
            "right": null,
            "top": null,
            "visibility": null,
            "width": null
          }
        },
        "3529e1fbab0b4038947d739aebe20e43": {
          "model_module": "@jupyter-widgets/base",
          "model_name": "LayoutModel",
          "model_module_version": "1.2.0",
          "state": {
            "_model_module": "@jupyter-widgets/base",
            "_model_module_version": "1.2.0",
            "_model_name": "LayoutModel",
            "_view_count": null,
            "_view_module": "@jupyter-widgets/base",
            "_view_module_version": "1.2.0",
            "_view_name": "LayoutView",
            "align_content": null,
            "align_items": null,
            "align_self": null,
            "border": null,
            "bottom": null,
            "display": null,
            "flex": null,
            "flex_flow": null,
            "grid_area": null,
            "grid_auto_columns": null,
            "grid_auto_flow": null,
            "grid_auto_rows": null,
            "grid_column": null,
            "grid_gap": null,
            "grid_row": null,
            "grid_template_areas": null,
            "grid_template_columns": null,
            "grid_template_rows": null,
            "height": null,
            "justify_content": null,
            "justify_items": null,
            "left": null,
            "margin": null,
            "max_height": null,
            "max_width": null,
            "min_height": null,
            "min_width": null,
            "object_fit": null,
            "object_position": null,
            "order": null,
            "overflow": null,
            "overflow_x": null,
            "overflow_y": null,
            "padding": null,
            "right": null,
            "top": null,
            "visibility": null,
            "width": null
          }
        },
        "7f977ab01e944b64ac1dd81559ba5db7": {
          "model_module": "@jupyter-widgets/controls",
          "model_name": "DescriptionStyleModel",
          "model_module_version": "1.5.0",
          "state": {
            "_model_module": "@jupyter-widgets/controls",
            "_model_module_version": "1.5.0",
            "_model_name": "DescriptionStyleModel",
            "_view_count": null,
            "_view_module": "@jupyter-widgets/base",
            "_view_module_version": "1.2.0",
            "_view_name": "StyleView",
            "description_width": ""
          }
        },
        "bdf30ddc631847bf9f4b235fdc9e3afd": {
          "model_module": "@jupyter-widgets/base",
          "model_name": "LayoutModel",
          "model_module_version": "1.2.0",
          "state": {
            "_model_module": "@jupyter-widgets/base",
            "_model_module_version": "1.2.0",
            "_model_name": "LayoutModel",
            "_view_count": null,
            "_view_module": "@jupyter-widgets/base",
            "_view_module_version": "1.2.0",
            "_view_name": "LayoutView",
            "align_content": null,
            "align_items": null,
            "align_self": null,
            "border": null,
            "bottom": null,
            "display": null,
            "flex": null,
            "flex_flow": null,
            "grid_area": null,
            "grid_auto_columns": null,
            "grid_auto_flow": null,
            "grid_auto_rows": null,
            "grid_column": null,
            "grid_gap": null,
            "grid_row": null,
            "grid_template_areas": null,
            "grid_template_columns": null,
            "grid_template_rows": null,
            "height": null,
            "justify_content": null,
            "justify_items": null,
            "left": null,
            "margin": null,
            "max_height": null,
            "max_width": null,
            "min_height": null,
            "min_width": null,
            "object_fit": null,
            "object_position": null,
            "order": null,
            "overflow": null,
            "overflow_x": null,
            "overflow_y": null,
            "padding": null,
            "right": null,
            "top": null,
            "visibility": null,
            "width": null
          }
        },
        "31674c0836424720b6ca1456720d5418": {
          "model_module": "@jupyter-widgets/controls",
          "model_name": "ProgressStyleModel",
          "model_module_version": "1.5.0",
          "state": {
            "_model_module": "@jupyter-widgets/controls",
            "_model_module_version": "1.5.0",
            "_model_name": "ProgressStyleModel",
            "_view_count": null,
            "_view_module": "@jupyter-widgets/base",
            "_view_module_version": "1.2.0",
            "_view_name": "StyleView",
            "bar_color": null,
            "description_width": ""
          }
        },
        "4bf674de61b344af911af79ff081f0f1": {
          "model_module": "@jupyter-widgets/base",
          "model_name": "LayoutModel",
          "model_module_version": "1.2.0",
          "state": {
            "_model_module": "@jupyter-widgets/base",
            "_model_module_version": "1.2.0",
            "_model_name": "LayoutModel",
            "_view_count": null,
            "_view_module": "@jupyter-widgets/base",
            "_view_module_version": "1.2.0",
            "_view_name": "LayoutView",
            "align_content": null,
            "align_items": null,
            "align_self": null,
            "border": null,
            "bottom": null,
            "display": null,
            "flex": null,
            "flex_flow": null,
            "grid_area": null,
            "grid_auto_columns": null,
            "grid_auto_flow": null,
            "grid_auto_rows": null,
            "grid_column": null,
            "grid_gap": null,
            "grid_row": null,
            "grid_template_areas": null,
            "grid_template_columns": null,
            "grid_template_rows": null,
            "height": null,
            "justify_content": null,
            "justify_items": null,
            "left": null,
            "margin": null,
            "max_height": null,
            "max_width": null,
            "min_height": null,
            "min_width": null,
            "object_fit": null,
            "object_position": null,
            "order": null,
            "overflow": null,
            "overflow_x": null,
            "overflow_y": null,
            "padding": null,
            "right": null,
            "top": null,
            "visibility": null,
            "width": null
          }
        },
        "eb3072cbd7c84b04a13d0b37b53c5d9c": {
          "model_module": "@jupyter-widgets/controls",
          "model_name": "DescriptionStyleModel",
          "model_module_version": "1.5.0",
          "state": {
            "_model_module": "@jupyter-widgets/controls",
            "_model_module_version": "1.5.0",
            "_model_name": "DescriptionStyleModel",
            "_view_count": null,
            "_view_module": "@jupyter-widgets/base",
            "_view_module_version": "1.2.0",
            "_view_name": "StyleView",
            "description_width": ""
          }
        },
        "f0d63519fa5b46d3986f4e2bf3d59b70": {
          "model_module": "@jupyter-widgets/controls",
          "model_name": "HBoxModel",
          "model_module_version": "1.5.0",
          "state": {
            "_dom_classes": [],
            "_model_module": "@jupyter-widgets/controls",
            "_model_module_version": "1.5.0",
            "_model_name": "HBoxModel",
            "_view_count": null,
            "_view_module": "@jupyter-widgets/controls",
            "_view_module_version": "1.5.0",
            "_view_name": "HBoxView",
            "box_style": "",
            "children": [
              "IPY_MODEL_0b58b0d23ab64dd4ac8e4093493ea125",
              "IPY_MODEL_444d259669c54e189c1c03172aba94f4",
              "IPY_MODEL_7daf00f7710b44ddb63140a9ee410ed9"
            ],
            "layout": "IPY_MODEL_b3f61a2fdebf4d3aa5491b6bd9745968"
          }
        },
        "0b58b0d23ab64dd4ac8e4093493ea125": {
          "model_module": "@jupyter-widgets/controls",
          "model_name": "HTMLModel",
          "model_module_version": "1.5.0",
          "state": {
            "_dom_classes": [],
            "_model_module": "@jupyter-widgets/controls",
            "_model_module_version": "1.5.0",
            "_model_name": "HTMLModel",
            "_view_count": null,
            "_view_module": "@jupyter-widgets/controls",
            "_view_module_version": "1.5.0",
            "_view_name": "HTMLView",
            "description": "",
            "description_tooltip": null,
            "layout": "IPY_MODEL_3600e2f109664f798723ea3daadd38d9",
            "placeholder": "​",
            "style": "IPY_MODEL_0ce4a3d228bf4e578f9a379792d763ef",
            "value": "special_tokens_map.json: 100%"
          }
        },
        "444d259669c54e189c1c03172aba94f4": {
          "model_module": "@jupyter-widgets/controls",
          "model_name": "FloatProgressModel",
          "model_module_version": "1.5.0",
          "state": {
            "_dom_classes": [],
            "_model_module": "@jupyter-widgets/controls",
            "_model_module_version": "1.5.0",
            "_model_name": "FloatProgressModel",
            "_view_count": null,
            "_view_module": "@jupyter-widgets/controls",
            "_view_module_version": "1.5.0",
            "_view_name": "ProgressView",
            "bar_style": "success",
            "description": "",
            "description_tooltip": null,
            "layout": "IPY_MODEL_be522d5c283e47ebb0e814004701976f",
            "max": 772,
            "min": 0,
            "orientation": "horizontal",
            "style": "IPY_MODEL_01227c1afc0c4b8488fc79cdf9205ec3",
            "value": 772
          }
        },
        "7daf00f7710b44ddb63140a9ee410ed9": {
          "model_module": "@jupyter-widgets/controls",
          "model_name": "HTMLModel",
          "model_module_version": "1.5.0",
          "state": {
            "_dom_classes": [],
            "_model_module": "@jupyter-widgets/controls",
            "_model_module_version": "1.5.0",
            "_model_name": "HTMLModel",
            "_view_count": null,
            "_view_module": "@jupyter-widgets/controls",
            "_view_module_version": "1.5.0",
            "_view_name": "HTMLView",
            "description": "",
            "description_tooltip": null,
            "layout": "IPY_MODEL_a0a0f553d72349ef993400620bede066",
            "placeholder": "​",
            "style": "IPY_MODEL_711622c3bd8142158d04b1dee8aff552",
            "value": " 772/772 [00:00&lt;00:00, 17.2kB/s]"
          }
        },
        "b3f61a2fdebf4d3aa5491b6bd9745968": {
          "model_module": "@jupyter-widgets/base",
          "model_name": "LayoutModel",
          "model_module_version": "1.2.0",
          "state": {
            "_model_module": "@jupyter-widgets/base",
            "_model_module_version": "1.2.0",
            "_model_name": "LayoutModel",
            "_view_count": null,
            "_view_module": "@jupyter-widgets/base",
            "_view_module_version": "1.2.0",
            "_view_name": "LayoutView",
            "align_content": null,
            "align_items": null,
            "align_self": null,
            "border": null,
            "bottom": null,
            "display": null,
            "flex": null,
            "flex_flow": null,
            "grid_area": null,
            "grid_auto_columns": null,
            "grid_auto_flow": null,
            "grid_auto_rows": null,
            "grid_column": null,
            "grid_gap": null,
            "grid_row": null,
            "grid_template_areas": null,
            "grid_template_columns": null,
            "grid_template_rows": null,
            "height": null,
            "justify_content": null,
            "justify_items": null,
            "left": null,
            "margin": null,
            "max_height": null,
            "max_width": null,
            "min_height": null,
            "min_width": null,
            "object_fit": null,
            "object_position": null,
            "order": null,
            "overflow": null,
            "overflow_x": null,
            "overflow_y": null,
            "padding": null,
            "right": null,
            "top": null,
            "visibility": null,
            "width": null
          }
        },
        "3600e2f109664f798723ea3daadd38d9": {
          "model_module": "@jupyter-widgets/base",
          "model_name": "LayoutModel",
          "model_module_version": "1.2.0",
          "state": {
            "_model_module": "@jupyter-widgets/base",
            "_model_module_version": "1.2.0",
            "_model_name": "LayoutModel",
            "_view_count": null,
            "_view_module": "@jupyter-widgets/base",
            "_view_module_version": "1.2.0",
            "_view_name": "LayoutView",
            "align_content": null,
            "align_items": null,
            "align_self": null,
            "border": null,
            "bottom": null,
            "display": null,
            "flex": null,
            "flex_flow": null,
            "grid_area": null,
            "grid_auto_columns": null,
            "grid_auto_flow": null,
            "grid_auto_rows": null,
            "grid_column": null,
            "grid_gap": null,
            "grid_row": null,
            "grid_template_areas": null,
            "grid_template_columns": null,
            "grid_template_rows": null,
            "height": null,
            "justify_content": null,
            "justify_items": null,
            "left": null,
            "margin": null,
            "max_height": null,
            "max_width": null,
            "min_height": null,
            "min_width": null,
            "object_fit": null,
            "object_position": null,
            "order": null,
            "overflow": null,
            "overflow_x": null,
            "overflow_y": null,
            "padding": null,
            "right": null,
            "top": null,
            "visibility": null,
            "width": null
          }
        },
        "0ce4a3d228bf4e578f9a379792d763ef": {
          "model_module": "@jupyter-widgets/controls",
          "model_name": "DescriptionStyleModel",
          "model_module_version": "1.5.0",
          "state": {
            "_model_module": "@jupyter-widgets/controls",
            "_model_module_version": "1.5.0",
            "_model_name": "DescriptionStyleModel",
            "_view_count": null,
            "_view_module": "@jupyter-widgets/base",
            "_view_module_version": "1.2.0",
            "_view_name": "StyleView",
            "description_width": ""
          }
        },
        "be522d5c283e47ebb0e814004701976f": {
          "model_module": "@jupyter-widgets/base",
          "model_name": "LayoutModel",
          "model_module_version": "1.2.0",
          "state": {
            "_model_module": "@jupyter-widgets/base",
            "_model_module_version": "1.2.0",
            "_model_name": "LayoutModel",
            "_view_count": null,
            "_view_module": "@jupyter-widgets/base",
            "_view_module_version": "1.2.0",
            "_view_name": "LayoutView",
            "align_content": null,
            "align_items": null,
            "align_self": null,
            "border": null,
            "bottom": null,
            "display": null,
            "flex": null,
            "flex_flow": null,
            "grid_area": null,
            "grid_auto_columns": null,
            "grid_auto_flow": null,
            "grid_auto_rows": null,
            "grid_column": null,
            "grid_gap": null,
            "grid_row": null,
            "grid_template_areas": null,
            "grid_template_columns": null,
            "grid_template_rows": null,
            "height": null,
            "justify_content": null,
            "justify_items": null,
            "left": null,
            "margin": null,
            "max_height": null,
            "max_width": null,
            "min_height": null,
            "min_width": null,
            "object_fit": null,
            "object_position": null,
            "order": null,
            "overflow": null,
            "overflow_x": null,
            "overflow_y": null,
            "padding": null,
            "right": null,
            "top": null,
            "visibility": null,
            "width": null
          }
        },
        "01227c1afc0c4b8488fc79cdf9205ec3": {
          "model_module": "@jupyter-widgets/controls",
          "model_name": "ProgressStyleModel",
          "model_module_version": "1.5.0",
          "state": {
            "_model_module": "@jupyter-widgets/controls",
            "_model_module_version": "1.5.0",
            "_model_name": "ProgressStyleModel",
            "_view_count": null,
            "_view_module": "@jupyter-widgets/base",
            "_view_module_version": "1.2.0",
            "_view_name": "StyleView",
            "bar_color": null,
            "description_width": ""
          }
        },
        "a0a0f553d72349ef993400620bede066": {
          "model_module": "@jupyter-widgets/base",
          "model_name": "LayoutModel",
          "model_module_version": "1.2.0",
          "state": {
            "_model_module": "@jupyter-widgets/base",
            "_model_module_version": "1.2.0",
            "_model_name": "LayoutModel",
            "_view_count": null,
            "_view_module": "@jupyter-widgets/base",
            "_view_module_version": "1.2.0",
            "_view_name": "LayoutView",
            "align_content": null,
            "align_items": null,
            "align_self": null,
            "border": null,
            "bottom": null,
            "display": null,
            "flex": null,
            "flex_flow": null,
            "grid_area": null,
            "grid_auto_columns": null,
            "grid_auto_flow": null,
            "grid_auto_rows": null,
            "grid_column": null,
            "grid_gap": null,
            "grid_row": null,
            "grid_template_areas": null,
            "grid_template_columns": null,
            "grid_template_rows": null,
            "height": null,
            "justify_content": null,
            "justify_items": null,
            "left": null,
            "margin": null,
            "max_height": null,
            "max_width": null,
            "min_height": null,
            "min_width": null,
            "object_fit": null,
            "object_position": null,
            "order": null,
            "overflow": null,
            "overflow_x": null,
            "overflow_y": null,
            "padding": null,
            "right": null,
            "top": null,
            "visibility": null,
            "width": null
          }
        },
        "711622c3bd8142158d04b1dee8aff552": {
          "model_module": "@jupyter-widgets/controls",
          "model_name": "DescriptionStyleModel",
          "model_module_version": "1.5.0",
          "state": {
            "_model_module": "@jupyter-widgets/controls",
            "_model_module_version": "1.5.0",
            "_model_name": "DescriptionStyleModel",
            "_view_count": null,
            "_view_module": "@jupyter-widgets/base",
            "_view_module_version": "1.2.0",
            "_view_name": "StyleView",
            "description_width": ""
          }
        }
      }
    }
  },
  "nbformat": 4,
  "nbformat_minor": 0
}