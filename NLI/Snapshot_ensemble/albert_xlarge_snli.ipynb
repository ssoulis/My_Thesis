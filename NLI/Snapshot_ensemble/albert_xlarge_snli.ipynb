{
 "cells": [
  {
   "cell_type": "code",
   "execution_count": 1,
   "metadata": {
    "execution": {
     "iopub.execute_input": "2024-05-17T19:22:50.242737Z",
     "iopub.status.busy": "2024-05-17T19:22:50.242320Z",
     "iopub.status.idle": "2024-05-17T19:22:51.224164Z",
     "shell.execute_reply": "2024-05-17T19:22:51.223090Z",
     "shell.execute_reply.started": "2024-05-17T19:22:50.242696Z"
    }
   },
   "outputs": [
    {
     "name": "stdout",
     "output_type": "stream",
     "text": [
      "Tue May 21 01:06:59 2024       \n",
      "+-----------------------------------------------------------------------------+\n",
      "| NVIDIA-SMI 525.147.05   Driver Version: 525.147.05   CUDA Version: 12.0     |\n",
      "|-------------------------------+----------------------+----------------------+\n",
      "| GPU  Name        Persistence-M| Bus-Id        Disp.A | Volatile Uncorr. ECC |\n",
      "| Fan  Temp  Perf  Pwr:Usage/Cap|         Memory-Usage | GPU-Util  Compute M. |\n",
      "|                               |                      |               MIG M. |\n",
      "|===============================+======================+======================|\n",
      "|   0  NVIDIA A100-SXM...  Off  | 00000000:07:00.0 Off |                    0 |\n",
      "| N/A   29C    P0    56W / 400W |   5640MiB / 40960MiB |      0%      Default |\n",
      "|                               |                      |             Disabled |\n",
      "+-------------------------------+----------------------+----------------------+\n",
      "|   1  NVIDIA A100-SXM...  Off  | 00000000:0A:00.0 Off |                    0 |\n",
      "| N/A   26C    P0    72W / 400W |  37974MiB / 40960MiB |      0%      Default |\n",
      "|                               |                      |             Disabled |\n",
      "+-------------------------------+----------------------+----------------------+\n",
      "|   2  NVIDIA A100-SXM...  On   | 00000000:47:00.0 Off |                    0 |\n",
      "| N/A   25C    P0    56W / 400W |      2MiB / 40960MiB |      0%      Default |\n",
      "|                               |                      |             Disabled |\n",
      "+-------------------------------+----------------------+----------------------+\n",
      "|   3  NVIDIA A100-SXM...  Off  | 00000000:4D:00.0 Off |                    0 |\n",
      "| N/A   28C    P0    59W / 400W |   9452MiB / 40960MiB |      0%      Default |\n",
      "|                               |                      |             Disabled |\n",
      "+-------------------------------+----------------------+----------------------+\n",
      "|   4  NVIDIA A100-SXM...  Off  | 00000000:87:00.0 Off |                    0 |\n",
      "| N/A   34C    P0    54W / 400W |      2MiB / 40960MiB |      0%      Default |\n",
      "|                               |                      |             Disabled |\n",
      "+-------------------------------+----------------------+----------------------+\n",
      "|   5  NVIDIA A100-SXM...  Off  | 00000000:8D:00.0 Off |                    0 |\n",
      "| N/A   42C    P0   258W / 400W |  39522MiB / 40960MiB |     91%      Default |\n",
      "|                               |                      |             Disabled |\n",
      "+-------------------------------+----------------------+----------------------+\n",
      "|   6  NVIDIA A100-SXM...  Off  | 00000000:C7:00.0 Off |                    0 |\n",
      "| N/A   27C    P0    73W / 400W |  37974MiB / 40960MiB |      0%      Default |\n",
      "|                               |                      |             Disabled |\n",
      "+-------------------------------+----------------------+----------------------+\n",
      "|   7  NVIDIA A100-SXM...  Off  | 00000000:CA:00.0 Off |                    0 |\n",
      "| N/A   27C    P0    55W / 400W |  34906MiB / 40960MiB |      0%      Default |\n",
      "|                               |                      |             Disabled |\n",
      "+-------------------------------+----------------------+----------------------+\n",
      "                                                                               \n",
      "+-----------------------------------------------------------------------------+\n",
      "| Processes:                                                                  |\n",
      "|  GPU   GI   CI        PID   Type   Process name                  GPU Memory |\n",
      "|        ID   ID                                                   Usage      |\n",
      "|=============================================================================|\n",
      "|    0   N/A  N/A    559832      C   .../envs/tsai_env/bin/python     1596MiB |\n",
      "|    0   N/A  N/A    570195      C   .../envs/tsai_env/bin/python     1596MiB |\n",
      "|    0   N/A  N/A   1716425      C   .../envs/torchenv/bin/python      850MiB |\n",
      "|    0   N/A  N/A   1769536      C   .../envs/tsai_env/bin/python     1596MiB |\n",
      "|    1   N/A  N/A   2007824      C   ...onserver/bin/tritonserver    37488MiB |\n",
      "|    1   N/A  N/A   2007825      C   ...onserver/bin/tritonserver      478MiB |\n",
      "|    3   N/A  N/A    559832      C   .../envs/tsai_env/bin/python     3148MiB |\n",
      "|    3   N/A  N/A    570195      C   .../envs/tsai_env/bin/python     3150MiB |\n",
      "|    3   N/A  N/A   1769536      C   .../envs/tsai_env/bin/python     3152MiB |\n",
      "|    5   N/A  N/A   1247639      C   python                          39520MiB |\n",
      "|    6   N/A  N/A   2007824      C   ...onserver/bin/tritonserver      478MiB |\n",
      "|    6   N/A  N/A   2007825      C   ...onserver/bin/tritonserver    37488MiB |\n",
      "|    7   N/A  N/A   1508043      C   python                          34904MiB |\n",
      "+-----------------------------------------------------------------------------+\n"
     ]
    }
   ],
   "source": [
    "!nvidia-smi"
   ]
  },
  {
   "cell_type": "code",
   "execution_count": 2,
   "metadata": {
    "execution": {
     "iopub.execute_input": "2024-05-17T19:22:51.226583Z",
     "iopub.status.busy": "2024-05-17T19:22:51.226277Z",
     "iopub.status.idle": "2024-05-17T19:22:57.082817Z",
     "shell.execute_reply": "2024-05-17T19:22:57.081874Z",
     "shell.execute_reply.started": "2024-05-17T19:22:51.226556Z"
    }
   },
   "outputs": [
    {
     "name": "stdout",
     "output_type": "stream",
     "text": [
      "Available GPUs:\n",
      "0: NVIDIA A100-SXM4-40GB\n",
      "1: NVIDIA A100-SXM4-40GB\n",
      "2: NVIDIA A100-SXM4-40GB\n",
      "3: NVIDIA A100-SXM4-40GB\n",
      "4: NVIDIA A100-SXM4-40GB\n",
      "5: NVIDIA A100-SXM4-40GB\n",
      "6: NVIDIA A100-SXM4-40GB\n",
      "7: NVIDIA A100-SXM4-40GB\n",
      "Select GPU by entering the device ID (default 0): 0\n",
      "Using GPU: NVIDIA A100-SXM4-40GB\n"
     ]
    }
   ],
   "source": [
    "import torch\n",
    "\n",
    "\n",
    "# Function to list available GPUs and select one\n",
    "def select_device():\n",
    "    if torch.cuda.is_available():\n",
    "        print(\"Available GPUs:\")\n",
    "        for i in range(torch.cuda.device_count()):\n",
    "            print(f\"{i}: {torch.cuda.get_device_name(i)}\")\n",
    "        device_id = int(input(\"Select GPU by entering the device ID (default 0): \") or 0)\n",
    "        if device_id < torch.cuda.device_count():\n",
    "            print(f\"Using GPU: {torch.cuda.get_device_name(device_id)}\")\n",
    "            return torch.device(f\"cuda:{device_id}\")\n",
    "        else:\n",
    "            print(f\"Invalid device ID. Using GPU: {torch.cuda.get_device_name(0)}\")\n",
    "            return torch.device(\"cuda:0\")\n",
    "    else:\n",
    "        print(\"No GPU available. Using CPU.\")\n",
    "        return torch.device(\"cpu\")\n",
    "\n",
    "# Select the device\n",
    "device = select_device()"
   ]
  },
  {
   "cell_type": "code",
   "execution_count": 3,
   "metadata": {
    "execution": {
     "iopub.execute_input": "2024-05-17T19:22:57.084159Z",
     "iopub.status.busy": "2024-05-17T19:22:57.083813Z",
     "iopub.status.idle": "2024-05-17T19:23:04.793963Z",
     "shell.execute_reply": "2024-05-17T19:23:04.793228Z",
     "shell.execute_reply.started": "2024-05-17T19:22:57.084137Z"
    }
   },
   "outputs": [
    {
     "name": "stderr",
     "output_type": "stream",
     "text": [
      "/opt/anaconda3/lib/python3.11/site-packages/transformers/utils/generic.py:260: UserWarning: torch.utils._pytree._register_pytree_node is deprecated. Please use torch.utils._pytree.register_pytree_node instead.\n",
      "  torch.utils._pytree._register_pytree_node(\n"
     ]
    },
    {
     "data": {
      "application/vnd.jupyter.widget-view+json": {
       "model_id": "12862f51ab0c4aab87ec7fc676a47f78",
       "version_major": 2,
       "version_minor": 0
      },
      "text/plain": [
       "Downloading spiece.model:   0%|          | 0.00/760k [00:00<?, ?B/s]"
      ]
     },
     "metadata": {},
     "output_type": "display_data"
    },
    {
     "data": {
      "application/vnd.jupyter.widget-view+json": {
       "model_id": "c6613a1cadfb4da3ab943c717c9a4e03",
       "version_major": 2,
       "version_minor": 0
      },
      "text/plain": [
       "Downloading tokenizer_config.json:   0%|          | 0.00/25.0 [00:00<?, ?B/s]"
      ]
     },
     "metadata": {},
     "output_type": "display_data"
    },
    {
     "data": {
      "application/vnd.jupyter.widget-view+json": {
       "model_id": "3da4af2b2597460aae5dbeca80b2061c",
       "version_major": 2,
       "version_minor": 0
      },
      "text/plain": [
       "Downloading config.json:   0%|          | 0.00/685 [00:00<?, ?B/s]"
      ]
     },
     "metadata": {},
     "output_type": "display_data"
    },
    {
     "data": {
      "application/vnd.jupyter.widget-view+json": {
       "model_id": "6d1bef63ba934f169cb27f04fbb88a0d",
       "version_major": 2,
       "version_minor": 0
      },
      "text/plain": [
       "Downloading model.safetensors:   0%|          | 0.00/236M [00:00<?, ?B/s]"
      ]
     },
     "metadata": {},
     "output_type": "display_data"
    },
    {
     "name": "stderr",
     "output_type": "stream",
     "text": [
      "Some weights of AlbertForSequenceClassification were not initialized from the model checkpoint at albert-xlarge-v2 and are newly initialized: ['classifier.weight', 'classifier.bias']\n",
      "You should probably TRAIN this model on a down-stream task to be able to use it for predictions and inference.\n"
     ]
    }
   ],
   "source": [
    "from transformers import AlbertForSequenceClassification, AlbertTokenizer\n",
    "from torch.utils.data import DataLoader, Dataset\n",
    "import torch\n",
    "\n",
    "# Define the model and tokenizer for ALBERT xxlarge version 2\n",
    "model_name = \"albert-xlarge-v2\"\n",
    "tokenizer = AlbertTokenizer.from_pretrained(model_name)\n",
    "model = AlbertForSequenceClassification.from_pretrained(model_name, num_labels=3)  # Assuming 3 labels for the task\n"
   ]
  },
  {
   "cell_type": "code",
   "execution_count": 4,
   "metadata": {
    "execution": {
     "iopub.execute_input": "2024-05-17T19:23:04.796605Z",
     "iopub.status.busy": "2024-05-17T19:23:04.796158Z",
     "iopub.status.idle": "2024-05-17T19:23:14.611570Z",
     "shell.execute_reply": "2024-05-17T19:23:14.610711Z",
     "shell.execute_reply.started": "2024-05-17T19:23:04.796578Z"
    }
   },
   "outputs": [],
   "source": [
    "import pandas as pd\n",
    "\n",
    "# SNLI train dataset\n",
    "\n",
    "df_snli_train = pd.read_csv('SNLI/snli_1.0_train.csv')"
   ]
  },
  {
   "cell_type": "code",
   "execution_count": 5,
   "metadata": {
    "execution": {
     "iopub.execute_input": "2024-05-17T19:23:14.612966Z",
     "iopub.status.busy": "2024-05-17T19:23:14.612682Z",
     "iopub.status.idle": "2024-05-17T19:23:14.640758Z",
     "shell.execute_reply": "2024-05-17T19:23:14.639890Z",
     "shell.execute_reply.started": "2024-05-17T19:23:14.612943Z"
    }
   },
   "outputs": [
    {
     "data": {
      "text/html": [
       "<div>\n",
       "<style scoped>\n",
       "    .dataframe tbody tr th:only-of-type {\n",
       "        vertical-align: middle;\n",
       "    }\n",
       "\n",
       "    .dataframe tbody tr th {\n",
       "        vertical-align: top;\n",
       "    }\n",
       "\n",
       "    .dataframe thead th {\n",
       "        text-align: right;\n",
       "    }\n",
       "</style>\n",
       "<table border=\"1\" class=\"dataframe\">\n",
       "  <thead>\n",
       "    <tr style=\"text-align: right;\">\n",
       "      <th></th>\n",
       "      <th>gold_label</th>\n",
       "      <th>sentence1_binary_parse</th>\n",
       "      <th>sentence2_binary_parse</th>\n",
       "      <th>sentence1_parse</th>\n",
       "      <th>sentence2_parse</th>\n",
       "      <th>sentence1</th>\n",
       "      <th>sentence2</th>\n",
       "      <th>captionID</th>\n",
       "      <th>pairID</th>\n",
       "      <th>label1</th>\n",
       "      <th>label2</th>\n",
       "      <th>label3</th>\n",
       "      <th>label4</th>\n",
       "      <th>label5</th>\n",
       "    </tr>\n",
       "  </thead>\n",
       "  <tbody>\n",
       "    <tr>\n",
       "      <th>0</th>\n",
       "      <td>neutral</td>\n",
       "      <td>( ( ( A person ) ( on ( a horse ) ) ) ( ( jump...</td>\n",
       "      <td>( ( A person ) ( ( is ( ( training ( his horse...</td>\n",
       "      <td>(ROOT (S (NP (NP (DT A) (NN person)) (PP (IN o...</td>\n",
       "      <td>(ROOT (S (NP (DT A) (NN person)) (VP (VBZ is) ...</td>\n",
       "      <td>A person on a horse jumps over a broken down a...</td>\n",
       "      <td>A person is training his horse for a competition.</td>\n",
       "      <td>3416050480.jpg#4</td>\n",
       "      <td>3416050480.jpg#4r1n</td>\n",
       "      <td>neutral</td>\n",
       "      <td>NaN</td>\n",
       "      <td>NaN</td>\n",
       "      <td>NaN</td>\n",
       "      <td>NaN</td>\n",
       "    </tr>\n",
       "    <tr>\n",
       "      <th>1</th>\n",
       "      <td>contradiction</td>\n",
       "      <td>( ( ( A person ) ( on ( a horse ) ) ) ( ( jump...</td>\n",
       "      <td>( ( A person ) ( ( ( ( is ( at ( a diner ) ) )...</td>\n",
       "      <td>(ROOT (S (NP (NP (DT A) (NN person)) (PP (IN o...</td>\n",
       "      <td>(ROOT (S (NP (DT A) (NN person)) (VP (VBZ is) ...</td>\n",
       "      <td>A person on a horse jumps over a broken down a...</td>\n",
       "      <td>A person is at a diner, ordering an omelette.</td>\n",
       "      <td>3416050480.jpg#4</td>\n",
       "      <td>3416050480.jpg#4r1c</td>\n",
       "      <td>contradiction</td>\n",
       "      <td>NaN</td>\n",
       "      <td>NaN</td>\n",
       "      <td>NaN</td>\n",
       "      <td>NaN</td>\n",
       "    </tr>\n",
       "    <tr>\n",
       "      <th>2</th>\n",
       "      <td>entailment</td>\n",
       "      <td>( ( ( A person ) ( on ( a horse ) ) ) ( ( jump...</td>\n",
       "      <td>( ( A person ) ( ( ( ( is outdoors ) , ) ( on ...</td>\n",
       "      <td>(ROOT (S (NP (NP (DT A) (NN person)) (PP (IN o...</td>\n",
       "      <td>(ROOT (S (NP (DT A) (NN person)) (VP (VBZ is) ...</td>\n",
       "      <td>A person on a horse jumps over a broken down a...</td>\n",
       "      <td>A person is outdoors, on a horse.</td>\n",
       "      <td>3416050480.jpg#4</td>\n",
       "      <td>3416050480.jpg#4r1e</td>\n",
       "      <td>entailment</td>\n",
       "      <td>NaN</td>\n",
       "      <td>NaN</td>\n",
       "      <td>NaN</td>\n",
       "      <td>NaN</td>\n",
       "    </tr>\n",
       "    <tr>\n",
       "      <th>3</th>\n",
       "      <td>neutral</td>\n",
       "      <td>( Children ( ( ( smiling and ) waving ) ( at c...</td>\n",
       "      <td>( They ( are ( smiling ( at ( their parents ) ...</td>\n",
       "      <td>(ROOT (NP (S (NP (NNP Children)) (VP (VBG smil...</td>\n",
       "      <td>(ROOT (S (NP (PRP They)) (VP (VBP are) (VP (VB...</td>\n",
       "      <td>Children smiling and waving at camera</td>\n",
       "      <td>They are smiling at their parents</td>\n",
       "      <td>2267923837.jpg#2</td>\n",
       "      <td>2267923837.jpg#2r1n</td>\n",
       "      <td>neutral</td>\n",
       "      <td>NaN</td>\n",
       "      <td>NaN</td>\n",
       "      <td>NaN</td>\n",
       "      <td>NaN</td>\n",
       "    </tr>\n",
       "    <tr>\n",
       "      <th>4</th>\n",
       "      <td>entailment</td>\n",
       "      <td>( Children ( ( ( smiling and ) waving ) ( at c...</td>\n",
       "      <td>( There ( ( are children ) present ) )</td>\n",
       "      <td>(ROOT (NP (S (NP (NNP Children)) (VP (VBG smil...</td>\n",
       "      <td>(ROOT (S (NP (EX There)) (VP (VBP are) (NP (NN...</td>\n",
       "      <td>Children smiling and waving at camera</td>\n",
       "      <td>There are children present</td>\n",
       "      <td>2267923837.jpg#2</td>\n",
       "      <td>2267923837.jpg#2r1e</td>\n",
       "      <td>entailment</td>\n",
       "      <td>NaN</td>\n",
       "      <td>NaN</td>\n",
       "      <td>NaN</td>\n",
       "      <td>NaN</td>\n",
       "    </tr>\n",
       "    <tr>\n",
       "      <th>...</th>\n",
       "      <td>...</td>\n",
       "      <td>...</td>\n",
       "      <td>...</td>\n",
       "      <td>...</td>\n",
       "      <td>...</td>\n",
       "      <td>...</td>\n",
       "      <td>...</td>\n",
       "      <td>...</td>\n",
       "      <td>...</td>\n",
       "      <td>...</td>\n",
       "      <td>...</td>\n",
       "      <td>...</td>\n",
       "      <td>...</td>\n",
       "      <td>...</td>\n",
       "    </tr>\n",
       "    <tr>\n",
       "      <th>550147</th>\n",
       "      <td>contradiction</td>\n",
       "      <td>( ( ( ( Four dirty ) and ) ( barefooted childr...</td>\n",
       "      <td>( ( four kids ) ( ( won awards ) ( ( ( for ` )...</td>\n",
       "      <td>(ROOT (NP (NP (CD Four) (NNS dirty)) (CC and) ...</td>\n",
       "      <td>(ROOT (S (NP (CD four) (NNS kids)) (VP (VBD wo...</td>\n",
       "      <td>Four dirty and barefooted children.</td>\n",
       "      <td>four kids won awards for 'cleanest feet'</td>\n",
       "      <td>2267923837.jpg#3</td>\n",
       "      <td>2267923837.jpg#3r1c</td>\n",
       "      <td>contradiction</td>\n",
       "      <td>NaN</td>\n",
       "      <td>NaN</td>\n",
       "      <td>NaN</td>\n",
       "      <td>NaN</td>\n",
       "    </tr>\n",
       "    <tr>\n",
       "      <th>550148</th>\n",
       "      <td>neutral</td>\n",
       "      <td>( ( ( ( Four dirty ) and ) ( barefooted childr...</td>\n",
       "      <td>( ( ( ( ( ( four ( homeless children ) ) ( had...</td>\n",
       "      <td>(ROOT (NP (NP (CD Four) (NNS dirty)) (CC and) ...</td>\n",
       "      <td>(ROOT (S (S (NP (CD four) (JJ homeless) (NNS c...</td>\n",
       "      <td>Four dirty and barefooted children.</td>\n",
       "      <td>four homeless children had their shoes stolen,...</td>\n",
       "      <td>2267923837.jpg#3</td>\n",
       "      <td>2267923837.jpg#3r1n</td>\n",
       "      <td>neutral</td>\n",
       "      <td>NaN</td>\n",
       "      <td>NaN</td>\n",
       "      <td>NaN</td>\n",
       "      <td>NaN</td>\n",
       "    </tr>\n",
       "    <tr>\n",
       "      <th>550149</th>\n",
       "      <td>neutral</td>\n",
       "      <td>( ( A man ) ( ( is ( surfing ( in ( ( a bodysu...</td>\n",
       "      <td>( ( ( A man ) ( in ( a bodysuit ) ) ) ( ( is (...</td>\n",
       "      <td>(ROOT (S (NP (DT A) (NN man)) (VP (VBZ is) (VP...</td>\n",
       "      <td>(ROOT (S (NP (NP (DT A) (NN man)) (PP (IN in) ...</td>\n",
       "      <td>A man is surfing in a bodysuit in beautiful bl...</td>\n",
       "      <td>A man in a bodysuit is competing in a surfing ...</td>\n",
       "      <td>7979219683.jpg#2</td>\n",
       "      <td>7979219683.jpg#2r1n</td>\n",
       "      <td>neutral</td>\n",
       "      <td>NaN</td>\n",
       "      <td>NaN</td>\n",
       "      <td>NaN</td>\n",
       "      <td>NaN</td>\n",
       "    </tr>\n",
       "    <tr>\n",
       "      <th>550150</th>\n",
       "      <td>contradiction</td>\n",
       "      <td>( ( A man ) ( ( is ( surfing ( in ( ( a bodysu...</td>\n",
       "      <td>( ( ( A man ) ( in ( a ( business suit ) ) ) )...</td>\n",
       "      <td>(ROOT (S (NP (DT A) (NN man)) (VP (VBZ is) (VP...</td>\n",
       "      <td>(ROOT (S (NP (NP (DT A) (NN man)) (PP (IN in) ...</td>\n",
       "      <td>A man is surfing in a bodysuit in beautiful bl...</td>\n",
       "      <td>A man in a business suit is heading to a board...</td>\n",
       "      <td>7979219683.jpg#2</td>\n",
       "      <td>7979219683.jpg#2r1c</td>\n",
       "      <td>contradiction</td>\n",
       "      <td>NaN</td>\n",
       "      <td>NaN</td>\n",
       "      <td>NaN</td>\n",
       "      <td>NaN</td>\n",
       "    </tr>\n",
       "    <tr>\n",
       "      <th>550151</th>\n",
       "      <td>entailment</td>\n",
       "      <td>( ( A man ) ( ( is ( surfing ( in ( ( a bodysu...</td>\n",
       "      <td>( ( On ( the ( beautiful ( blue water ) ) ) ) ...</td>\n",
       "      <td>(ROOT (S (NP (DT A) (NN man)) (VP (VBZ is) (VP...</td>\n",
       "      <td>(ROOT (S (PP (IN On) (NP (DT the) (JJ beautifu...</td>\n",
       "      <td>A man is surfing in a bodysuit in beautiful bl...</td>\n",
       "      <td>On the beautiful blue water there is a man in ...</td>\n",
       "      <td>7979219683.jpg#2</td>\n",
       "      <td>7979219683.jpg#2r1e</td>\n",
       "      <td>entailment</td>\n",
       "      <td>NaN</td>\n",
       "      <td>NaN</td>\n",
       "      <td>NaN</td>\n",
       "      <td>NaN</td>\n",
       "    </tr>\n",
       "  </tbody>\n",
       "</table>\n",
       "<p>550152 rows × 14 columns</p>\n",
       "</div>"
      ],
      "text/plain": [
       "           gold_label                             sentence1_binary_parse  \\\n",
       "0             neutral  ( ( ( A person ) ( on ( a horse ) ) ) ( ( jump...   \n",
       "1       contradiction  ( ( ( A person ) ( on ( a horse ) ) ) ( ( jump...   \n",
       "2          entailment  ( ( ( A person ) ( on ( a horse ) ) ) ( ( jump...   \n",
       "3             neutral  ( Children ( ( ( smiling and ) waving ) ( at c...   \n",
       "4          entailment  ( Children ( ( ( smiling and ) waving ) ( at c...   \n",
       "...               ...                                                ...   \n",
       "550147  contradiction  ( ( ( ( Four dirty ) and ) ( barefooted childr...   \n",
       "550148        neutral  ( ( ( ( Four dirty ) and ) ( barefooted childr...   \n",
       "550149        neutral  ( ( A man ) ( ( is ( surfing ( in ( ( a bodysu...   \n",
       "550150  contradiction  ( ( A man ) ( ( is ( surfing ( in ( ( a bodysu...   \n",
       "550151     entailment  ( ( A man ) ( ( is ( surfing ( in ( ( a bodysu...   \n",
       "\n",
       "                                   sentence2_binary_parse  \\\n",
       "0       ( ( A person ) ( ( is ( ( training ( his horse...   \n",
       "1       ( ( A person ) ( ( ( ( is ( at ( a diner ) ) )...   \n",
       "2       ( ( A person ) ( ( ( ( is outdoors ) , ) ( on ...   \n",
       "3       ( They ( are ( smiling ( at ( their parents ) ...   \n",
       "4                  ( There ( ( are children ) present ) )   \n",
       "...                                                   ...   \n",
       "550147  ( ( four kids ) ( ( won awards ) ( ( ( for ` )...   \n",
       "550148  ( ( ( ( ( ( four ( homeless children ) ) ( had...   \n",
       "550149  ( ( ( A man ) ( in ( a bodysuit ) ) ) ( ( is (...   \n",
       "550150  ( ( ( A man ) ( in ( a ( business suit ) ) ) )...   \n",
       "550151  ( ( On ( the ( beautiful ( blue water ) ) ) ) ...   \n",
       "\n",
       "                                          sentence1_parse  \\\n",
       "0       (ROOT (S (NP (NP (DT A) (NN person)) (PP (IN o...   \n",
       "1       (ROOT (S (NP (NP (DT A) (NN person)) (PP (IN o...   \n",
       "2       (ROOT (S (NP (NP (DT A) (NN person)) (PP (IN o...   \n",
       "3       (ROOT (NP (S (NP (NNP Children)) (VP (VBG smil...   \n",
       "4       (ROOT (NP (S (NP (NNP Children)) (VP (VBG smil...   \n",
       "...                                                   ...   \n",
       "550147  (ROOT (NP (NP (CD Four) (NNS dirty)) (CC and) ...   \n",
       "550148  (ROOT (NP (NP (CD Four) (NNS dirty)) (CC and) ...   \n",
       "550149  (ROOT (S (NP (DT A) (NN man)) (VP (VBZ is) (VP...   \n",
       "550150  (ROOT (S (NP (DT A) (NN man)) (VP (VBZ is) (VP...   \n",
       "550151  (ROOT (S (NP (DT A) (NN man)) (VP (VBZ is) (VP...   \n",
       "\n",
       "                                          sentence2_parse  \\\n",
       "0       (ROOT (S (NP (DT A) (NN person)) (VP (VBZ is) ...   \n",
       "1       (ROOT (S (NP (DT A) (NN person)) (VP (VBZ is) ...   \n",
       "2       (ROOT (S (NP (DT A) (NN person)) (VP (VBZ is) ...   \n",
       "3       (ROOT (S (NP (PRP They)) (VP (VBP are) (VP (VB...   \n",
       "4       (ROOT (S (NP (EX There)) (VP (VBP are) (NP (NN...   \n",
       "...                                                   ...   \n",
       "550147  (ROOT (S (NP (CD four) (NNS kids)) (VP (VBD wo...   \n",
       "550148  (ROOT (S (S (NP (CD four) (JJ homeless) (NNS c...   \n",
       "550149  (ROOT (S (NP (NP (DT A) (NN man)) (PP (IN in) ...   \n",
       "550150  (ROOT (S (NP (NP (DT A) (NN man)) (PP (IN in) ...   \n",
       "550151  (ROOT (S (PP (IN On) (NP (DT the) (JJ beautifu...   \n",
       "\n",
       "                                                sentence1  \\\n",
       "0       A person on a horse jumps over a broken down a...   \n",
       "1       A person on a horse jumps over a broken down a...   \n",
       "2       A person on a horse jumps over a broken down a...   \n",
       "3                   Children smiling and waving at camera   \n",
       "4                   Children smiling and waving at camera   \n",
       "...                                                   ...   \n",
       "550147                Four dirty and barefooted children.   \n",
       "550148                Four dirty and barefooted children.   \n",
       "550149  A man is surfing in a bodysuit in beautiful bl...   \n",
       "550150  A man is surfing in a bodysuit in beautiful bl...   \n",
       "550151  A man is surfing in a bodysuit in beautiful bl...   \n",
       "\n",
       "                                                sentence2         captionID  \\\n",
       "0       A person is training his horse for a competition.  3416050480.jpg#4   \n",
       "1           A person is at a diner, ordering an omelette.  3416050480.jpg#4   \n",
       "2                       A person is outdoors, on a horse.  3416050480.jpg#4   \n",
       "3                       They are smiling at their parents  2267923837.jpg#2   \n",
       "4                              There are children present  2267923837.jpg#2   \n",
       "...                                                   ...               ...   \n",
       "550147           four kids won awards for 'cleanest feet'  2267923837.jpg#3   \n",
       "550148  four homeless children had their shoes stolen,...  2267923837.jpg#3   \n",
       "550149  A man in a bodysuit is competing in a surfing ...  7979219683.jpg#2   \n",
       "550150  A man in a business suit is heading to a board...  7979219683.jpg#2   \n",
       "550151  On the beautiful blue water there is a man in ...  7979219683.jpg#2   \n",
       "\n",
       "                     pairID         label1 label2 label3 label4 label5  \n",
       "0       3416050480.jpg#4r1n        neutral    NaN    NaN    NaN    NaN  \n",
       "1       3416050480.jpg#4r1c  contradiction    NaN    NaN    NaN    NaN  \n",
       "2       3416050480.jpg#4r1e     entailment    NaN    NaN    NaN    NaN  \n",
       "3       2267923837.jpg#2r1n        neutral    NaN    NaN    NaN    NaN  \n",
       "4       2267923837.jpg#2r1e     entailment    NaN    NaN    NaN    NaN  \n",
       "...                     ...            ...    ...    ...    ...    ...  \n",
       "550147  2267923837.jpg#3r1c  contradiction    NaN    NaN    NaN    NaN  \n",
       "550148  2267923837.jpg#3r1n        neutral    NaN    NaN    NaN    NaN  \n",
       "550149  7979219683.jpg#2r1n        neutral    NaN    NaN    NaN    NaN  \n",
       "550150  7979219683.jpg#2r1c  contradiction    NaN    NaN    NaN    NaN  \n",
       "550151  7979219683.jpg#2r1e     entailment    NaN    NaN    NaN    NaN  \n",
       "\n",
       "[550152 rows x 14 columns]"
      ]
     },
     "execution_count": 5,
     "metadata": {},
     "output_type": "execute_result"
    }
   ],
   "source": [
    "df_snli_train"
   ]
  },
  {
   "cell_type": "code",
   "execution_count": 6,
   "metadata": {
    "execution": {
     "iopub.execute_input": "2024-05-17T19:23:14.642060Z",
     "iopub.status.busy": "2024-05-17T19:23:14.641727Z",
     "iopub.status.idle": "2024-05-17T19:23:15.313973Z",
     "shell.execute_reply": "2024-05-17T19:23:15.313014Z",
     "shell.execute_reply.started": "2024-05-17T19:23:14.642035Z"
    }
   },
   "outputs": [
    {
     "name": "stdout",
     "output_type": "stream",
     "text": [
      "<class 'pandas.core.frame.DataFrame'>\n",
      "RangeIndex: 550152 entries, 0 to 550151\n",
      "Data columns (total 14 columns):\n",
      " #   Column                  Non-Null Count   Dtype \n",
      "---  ------                  --------------   ----- \n",
      " 0   gold_label              550152 non-null  object\n",
      " 1   sentence1_binary_parse  550152 non-null  object\n",
      " 2   sentence2_binary_parse  550146 non-null  object\n",
      " 3   sentence1_parse         550152 non-null  object\n",
      " 4   sentence2_parse         550152 non-null  object\n",
      " 5   sentence1               550152 non-null  object\n",
      " 6   sentence2               550146 non-null  object\n",
      " 7   captionID               550152 non-null  object\n",
      " 8   pairID                  550152 non-null  object\n",
      " 9   label1                  550152 non-null  object\n",
      " 10  label2                  39370 non-null   object\n",
      " 11  label3                  39395 non-null   object\n",
      " 12  label4                  39383 non-null   object\n",
      " 13  label5                  36914 non-null   object\n",
      "dtypes: object(14)\n",
      "memory usage: 58.8+ MB\n"
     ]
    }
   ],
   "source": [
    "df_snli_train.info()"
   ]
  },
  {
   "cell_type": "code",
   "execution_count": 7,
   "metadata": {
    "execution": {
     "iopub.execute_input": "2024-05-17T19:23:15.315929Z",
     "iopub.status.busy": "2024-05-17T19:23:15.315327Z",
     "iopub.status.idle": "2024-05-17T19:23:15.482458Z",
     "shell.execute_reply": "2024-05-17T19:23:15.481393Z",
     "shell.execute_reply.started": "2024-05-17T19:23:15.315895Z"
    }
   },
   "outputs": [],
   "source": [
    "# SNLI test dataset\n",
    "\n",
    "df_snli_test = pd.read_csv('SNLI/snli_1.0_test.csv')"
   ]
  },
  {
   "cell_type": "code",
   "execution_count": 8,
   "metadata": {
    "execution": {
     "iopub.execute_input": "2024-05-17T19:23:15.484650Z",
     "iopub.status.busy": "2024-05-17T19:23:15.483934Z",
     "iopub.status.idle": "2024-05-17T19:23:15.504692Z",
     "shell.execute_reply": "2024-05-17T19:23:15.503792Z",
     "shell.execute_reply.started": "2024-05-17T19:23:15.484614Z"
    }
   },
   "outputs": [
    {
     "data": {
      "text/html": [
       "<div>\n",
       "<style scoped>\n",
       "    .dataframe tbody tr th:only-of-type {\n",
       "        vertical-align: middle;\n",
       "    }\n",
       "\n",
       "    .dataframe tbody tr th {\n",
       "        vertical-align: top;\n",
       "    }\n",
       "\n",
       "    .dataframe thead th {\n",
       "        text-align: right;\n",
       "    }\n",
       "</style>\n",
       "<table border=\"1\" class=\"dataframe\">\n",
       "  <thead>\n",
       "    <tr style=\"text-align: right;\">\n",
       "      <th></th>\n",
       "      <th>gold_label</th>\n",
       "      <th>sentence1_binary_parse</th>\n",
       "      <th>sentence2_binary_parse</th>\n",
       "      <th>sentence1_parse</th>\n",
       "      <th>sentence2_parse</th>\n",
       "      <th>sentence1</th>\n",
       "      <th>sentence2</th>\n",
       "      <th>captionID</th>\n",
       "      <th>pairID</th>\n",
       "      <th>label1</th>\n",
       "      <th>label2</th>\n",
       "      <th>label3</th>\n",
       "      <th>label4</th>\n",
       "      <th>label5</th>\n",
       "    </tr>\n",
       "  </thead>\n",
       "  <tbody>\n",
       "    <tr>\n",
       "      <th>0</th>\n",
       "      <td>neutral</td>\n",
       "      <td>( ( This ( church choir ) ) ( ( ( sings ( to (...</td>\n",
       "      <td>( ( The church ) ( ( has ( cracks ( in ( the c...</td>\n",
       "      <td>(ROOT (S (NP (DT This) (NN church) (NN choir))...</td>\n",
       "      <td>(ROOT (S (NP (DT The) (NN church)) (VP (VBZ ha...</td>\n",
       "      <td>This church choir sings to the masses as they ...</td>\n",
       "      <td>The church has cracks in the ceiling.</td>\n",
       "      <td>2677109430.jpg#1</td>\n",
       "      <td>2677109430.jpg#1r1n</td>\n",
       "      <td>neutral</td>\n",
       "      <td>contradiction</td>\n",
       "      <td>contradiction</td>\n",
       "      <td>neutral</td>\n",
       "      <td>neutral</td>\n",
       "    </tr>\n",
       "    <tr>\n",
       "      <th>1</th>\n",
       "      <td>entailment</td>\n",
       "      <td>( ( This ( church choir ) ) ( ( ( sings ( to (...</td>\n",
       "      <td>( ( The church ) ( ( is ( filled ( with song )...</td>\n",
       "      <td>(ROOT (S (NP (DT This) (NN church) (NN choir))...</td>\n",
       "      <td>(ROOT (S (NP (DT The) (NN church)) (VP (VBZ is...</td>\n",
       "      <td>This church choir sings to the masses as they ...</td>\n",
       "      <td>The church is filled with song.</td>\n",
       "      <td>2677109430.jpg#1</td>\n",
       "      <td>2677109430.jpg#1r1e</td>\n",
       "      <td>entailment</td>\n",
       "      <td>entailment</td>\n",
       "      <td>entailment</td>\n",
       "      <td>neutral</td>\n",
       "      <td>entailment</td>\n",
       "    </tr>\n",
       "    <tr>\n",
       "      <th>2</th>\n",
       "      <td>contradiction</td>\n",
       "      <td>( ( This ( church choir ) ) ( ( ( sings ( to (...</td>\n",
       "      <td>( ( ( A choir ) ( singing ( at ( a ( baseball ...</td>\n",
       "      <td>(ROOT (S (NP (DT This) (NN church) (NN choir))...</td>\n",
       "      <td>(ROOT (NP (NP (DT A) (NN choir)) (VP (VBG sing...</td>\n",
       "      <td>This church choir sings to the masses as they ...</td>\n",
       "      <td>A choir singing at a baseball game.</td>\n",
       "      <td>2677109430.jpg#1</td>\n",
       "      <td>2677109430.jpg#1r1c</td>\n",
       "      <td>contradiction</td>\n",
       "      <td>contradiction</td>\n",
       "      <td>contradiction</td>\n",
       "      <td>contradiction</td>\n",
       "      <td>contradiction</td>\n",
       "    </tr>\n",
       "    <tr>\n",
       "      <th>3</th>\n",
       "      <td>neutral</td>\n",
       "      <td>( ( ( A woman ) ( with ( ( ( ( ( a ( green hea...</td>\n",
       "      <td>( ( The woman ) ( ( is young ) . ) )</td>\n",
       "      <td>(ROOT (NP (NP (DT A) (NN woman)) (PP (IN with)...</td>\n",
       "      <td>(ROOT (S (NP (DT The) (NN woman)) (VP (VBZ is)...</td>\n",
       "      <td>A woman with a green headscarf, blue shirt and...</td>\n",
       "      <td>The woman is young.</td>\n",
       "      <td>6160193920.jpg#4</td>\n",
       "      <td>6160193920.jpg#4r1n</td>\n",
       "      <td>neutral</td>\n",
       "      <td>neutral</td>\n",
       "      <td>neutral</td>\n",
       "      <td>neutral</td>\n",
       "      <td>neutral</td>\n",
       "    </tr>\n",
       "    <tr>\n",
       "      <th>4</th>\n",
       "      <td>entailment</td>\n",
       "      <td>( ( ( A woman ) ( with ( ( ( ( ( a ( green hea...</td>\n",
       "      <td>( ( The woman ) ( ( is ( very happy ) ) . ) )</td>\n",
       "      <td>(ROOT (NP (NP (DT A) (NN woman)) (PP (IN with)...</td>\n",
       "      <td>(ROOT (S (NP (DT The) (NN woman)) (VP (VBZ is)...</td>\n",
       "      <td>A woman with a green headscarf, blue shirt and...</td>\n",
       "      <td>The woman is very happy.</td>\n",
       "      <td>6160193920.jpg#4</td>\n",
       "      <td>6160193920.jpg#4r1e</td>\n",
       "      <td>entailment</td>\n",
       "      <td>entailment</td>\n",
       "      <td>contradiction</td>\n",
       "      <td>entailment</td>\n",
       "      <td>neutral</td>\n",
       "    </tr>\n",
       "    <tr>\n",
       "      <th>...</th>\n",
       "      <td>...</td>\n",
       "      <td>...</td>\n",
       "      <td>...</td>\n",
       "      <td>...</td>\n",
       "      <td>...</td>\n",
       "      <td>...</td>\n",
       "      <td>...</td>\n",
       "      <td>...</td>\n",
       "      <td>...</td>\n",
       "      <td>...</td>\n",
       "      <td>...</td>\n",
       "      <td>...</td>\n",
       "      <td>...</td>\n",
       "      <td>...</td>\n",
       "    </tr>\n",
       "    <tr>\n",
       "      <th>9995</th>\n",
       "      <td>contradiction</td>\n",
       "      <td>( ( Two women ) ( ( are ( ( observing somethin...</td>\n",
       "      <td>( ( ( Two women ) ( are ( standing ( with ( th...</td>\n",
       "      <td>(ROOT (S (NP (CD Two) (NNS women)) (VP (VBP ar...</td>\n",
       "      <td>(ROOT (S (NP (NP (CD Two) (NNS women)) (SBAR (...</td>\n",
       "      <td>Two women are observing something together.</td>\n",
       "      <td>Two women are standing with their eyes closed.</td>\n",
       "      <td>4378810163.jpg#4</td>\n",
       "      <td>4378810163.jpg#4r1c</td>\n",
       "      <td>contradiction</td>\n",
       "      <td>contradiction</td>\n",
       "      <td>contradiction</td>\n",
       "      <td>contradiction</td>\n",
       "      <td>contradiction</td>\n",
       "    </tr>\n",
       "    <tr>\n",
       "      <th>9996</th>\n",
       "      <td>entailment</td>\n",
       "      <td>( ( Two women ) ( ( are ( ( observing somethin...</td>\n",
       "      <td>( ( Two girls ) ( ( are ( looking ( at somethi...</td>\n",
       "      <td>(ROOT (S (NP (CD Two) (NNS women)) (VP (VBP ar...</td>\n",
       "      <td>(ROOT (S (NP (CD Two) (NNS girls)) (VP (VBP ar...</td>\n",
       "      <td>Two women are observing something together.</td>\n",
       "      <td>Two girls are looking at something.</td>\n",
       "      <td>4378810163.jpg#4</td>\n",
       "      <td>4378810163.jpg#4r1e</td>\n",
       "      <td>entailment</td>\n",
       "      <td>entailment</td>\n",
       "      <td>entailment</td>\n",
       "      <td>contradiction</td>\n",
       "      <td>entailment</td>\n",
       "    </tr>\n",
       "    <tr>\n",
       "      <th>9997</th>\n",
       "      <td>contradiction</td>\n",
       "      <td>( ( ( ( ( A man ) ( in ( a ( black ( leather j...</td>\n",
       "      <td>( ( A man ) ( ( is ( flying ( a kite ) ) ) . ) )</td>\n",
       "      <td>(ROOT (S (NP (NP (NP (DT A) (NN man)) (PP (IN ...</td>\n",
       "      <td>(ROOT (S (NP (DT A) (NN man)) (VP (VBZ is) (VP...</td>\n",
       "      <td>A man in a black leather jacket and a book in ...</td>\n",
       "      <td>A man is flying a kite.</td>\n",
       "      <td>152881593.jpg#1</td>\n",
       "      <td>152881593.jpg#1r1c</td>\n",
       "      <td>contradiction</td>\n",
       "      <td>contradiction</td>\n",
       "      <td>contradiction</td>\n",
       "      <td>contradiction</td>\n",
       "      <td>contradiction</td>\n",
       "    </tr>\n",
       "    <tr>\n",
       "      <th>9998</th>\n",
       "      <td>entailment</td>\n",
       "      <td>( ( ( ( ( A man ) ( in ( a ( black ( leather j...</td>\n",
       "      <td>( ( A man ) ( ( is ( speaking ( in ( a classro...</td>\n",
       "      <td>(ROOT (S (NP (NP (NP (DT A) (NN man)) (PP (IN ...</td>\n",
       "      <td>(ROOT (S (NP (DT A) (NN man)) (VP (VBZ is) (VP...</td>\n",
       "      <td>A man in a black leather jacket and a book in ...</td>\n",
       "      <td>A man is speaking in a classroom.</td>\n",
       "      <td>152881593.jpg#1</td>\n",
       "      <td>152881593.jpg#1r1e</td>\n",
       "      <td>entailment</td>\n",
       "      <td>entailment</td>\n",
       "      <td>entailment</td>\n",
       "      <td>neutral</td>\n",
       "      <td>entailment</td>\n",
       "    </tr>\n",
       "    <tr>\n",
       "      <th>9999</th>\n",
       "      <td>neutral</td>\n",
       "      <td>( ( ( ( ( A man ) ( in ( a ( black ( leather j...</td>\n",
       "      <td>( ( A man ) ( ( is ( ( teaching science ) ( in...</td>\n",
       "      <td>(ROOT (S (NP (NP (NP (DT A) (NN man)) (PP (IN ...</td>\n",
       "      <td>(ROOT (S (NP (DT A) (NN man)) (VP (VBZ is) (VP...</td>\n",
       "      <td>A man in a black leather jacket and a book in ...</td>\n",
       "      <td>A man is teaching science in a classroom.</td>\n",
       "      <td>152881593.jpg#1</td>\n",
       "      <td>152881593.jpg#1r1n</td>\n",
       "      <td>neutral</td>\n",
       "      <td>neutral</td>\n",
       "      <td>neutral</td>\n",
       "      <td>neutral</td>\n",
       "      <td>neutral</td>\n",
       "    </tr>\n",
       "  </tbody>\n",
       "</table>\n",
       "<p>10000 rows × 14 columns</p>\n",
       "</div>"
      ],
      "text/plain": [
       "         gold_label                             sentence1_binary_parse  \\\n",
       "0           neutral  ( ( This ( church choir ) ) ( ( ( sings ( to (...   \n",
       "1        entailment  ( ( This ( church choir ) ) ( ( ( sings ( to (...   \n",
       "2     contradiction  ( ( This ( church choir ) ) ( ( ( sings ( to (...   \n",
       "3           neutral  ( ( ( A woman ) ( with ( ( ( ( ( a ( green hea...   \n",
       "4        entailment  ( ( ( A woman ) ( with ( ( ( ( ( a ( green hea...   \n",
       "...             ...                                                ...   \n",
       "9995  contradiction  ( ( Two women ) ( ( are ( ( observing somethin...   \n",
       "9996     entailment  ( ( Two women ) ( ( are ( ( observing somethin...   \n",
       "9997  contradiction  ( ( ( ( ( A man ) ( in ( a ( black ( leather j...   \n",
       "9998     entailment  ( ( ( ( ( A man ) ( in ( a ( black ( leather j...   \n",
       "9999        neutral  ( ( ( ( ( A man ) ( in ( a ( black ( leather j...   \n",
       "\n",
       "                                 sentence2_binary_parse  \\\n",
       "0     ( ( The church ) ( ( has ( cracks ( in ( the c...   \n",
       "1     ( ( The church ) ( ( is ( filled ( with song )...   \n",
       "2     ( ( ( A choir ) ( singing ( at ( a ( baseball ...   \n",
       "3                  ( ( The woman ) ( ( is young ) . ) )   \n",
       "4         ( ( The woman ) ( ( is ( very happy ) ) . ) )   \n",
       "...                                                 ...   \n",
       "9995  ( ( ( Two women ) ( are ( standing ( with ( th...   \n",
       "9996  ( ( Two girls ) ( ( are ( looking ( at somethi...   \n",
       "9997   ( ( A man ) ( ( is ( flying ( a kite ) ) ) . ) )   \n",
       "9998  ( ( A man ) ( ( is ( speaking ( in ( a classro...   \n",
       "9999  ( ( A man ) ( ( is ( ( teaching science ) ( in...   \n",
       "\n",
       "                                        sentence1_parse  \\\n",
       "0     (ROOT (S (NP (DT This) (NN church) (NN choir))...   \n",
       "1     (ROOT (S (NP (DT This) (NN church) (NN choir))...   \n",
       "2     (ROOT (S (NP (DT This) (NN church) (NN choir))...   \n",
       "3     (ROOT (NP (NP (DT A) (NN woman)) (PP (IN with)...   \n",
       "4     (ROOT (NP (NP (DT A) (NN woman)) (PP (IN with)...   \n",
       "...                                                 ...   \n",
       "9995  (ROOT (S (NP (CD Two) (NNS women)) (VP (VBP ar...   \n",
       "9996  (ROOT (S (NP (CD Two) (NNS women)) (VP (VBP ar...   \n",
       "9997  (ROOT (S (NP (NP (NP (DT A) (NN man)) (PP (IN ...   \n",
       "9998  (ROOT (S (NP (NP (NP (DT A) (NN man)) (PP (IN ...   \n",
       "9999  (ROOT (S (NP (NP (NP (DT A) (NN man)) (PP (IN ...   \n",
       "\n",
       "                                        sentence2_parse  \\\n",
       "0     (ROOT (S (NP (DT The) (NN church)) (VP (VBZ ha...   \n",
       "1     (ROOT (S (NP (DT The) (NN church)) (VP (VBZ is...   \n",
       "2     (ROOT (NP (NP (DT A) (NN choir)) (VP (VBG sing...   \n",
       "3     (ROOT (S (NP (DT The) (NN woman)) (VP (VBZ is)...   \n",
       "4     (ROOT (S (NP (DT The) (NN woman)) (VP (VBZ is)...   \n",
       "...                                                 ...   \n",
       "9995  (ROOT (S (NP (NP (CD Two) (NNS women)) (SBAR (...   \n",
       "9996  (ROOT (S (NP (CD Two) (NNS girls)) (VP (VBP ar...   \n",
       "9997  (ROOT (S (NP (DT A) (NN man)) (VP (VBZ is) (VP...   \n",
       "9998  (ROOT (S (NP (DT A) (NN man)) (VP (VBZ is) (VP...   \n",
       "9999  (ROOT (S (NP (DT A) (NN man)) (VP (VBZ is) (VP...   \n",
       "\n",
       "                                              sentence1  \\\n",
       "0     This church choir sings to the masses as they ...   \n",
       "1     This church choir sings to the masses as they ...   \n",
       "2     This church choir sings to the masses as they ...   \n",
       "3     A woman with a green headscarf, blue shirt and...   \n",
       "4     A woman with a green headscarf, blue shirt and...   \n",
       "...                                                 ...   \n",
       "9995        Two women are observing something together.   \n",
       "9996        Two women are observing something together.   \n",
       "9997  A man in a black leather jacket and a book in ...   \n",
       "9998  A man in a black leather jacket and a book in ...   \n",
       "9999  A man in a black leather jacket and a book in ...   \n",
       "\n",
       "                                           sentence2         captionID  \\\n",
       "0              The church has cracks in the ceiling.  2677109430.jpg#1   \n",
       "1                    The church is filled with song.  2677109430.jpg#1   \n",
       "2                A choir singing at a baseball game.  2677109430.jpg#1   \n",
       "3                                The woman is young.  6160193920.jpg#4   \n",
       "4                           The woman is very happy.  6160193920.jpg#4   \n",
       "...                                              ...               ...   \n",
       "9995  Two women are standing with their eyes closed.  4378810163.jpg#4   \n",
       "9996             Two girls are looking at something.  4378810163.jpg#4   \n",
       "9997                         A man is flying a kite.   152881593.jpg#1   \n",
       "9998               A man is speaking in a classroom.   152881593.jpg#1   \n",
       "9999       A man is teaching science in a classroom.   152881593.jpg#1   \n",
       "\n",
       "                   pairID         label1         label2         label3  \\\n",
       "0     2677109430.jpg#1r1n        neutral  contradiction  contradiction   \n",
       "1     2677109430.jpg#1r1e     entailment     entailment     entailment   \n",
       "2     2677109430.jpg#1r1c  contradiction  contradiction  contradiction   \n",
       "3     6160193920.jpg#4r1n        neutral        neutral        neutral   \n",
       "4     6160193920.jpg#4r1e     entailment     entailment  contradiction   \n",
       "...                   ...            ...            ...            ...   \n",
       "9995  4378810163.jpg#4r1c  contradiction  contradiction  contradiction   \n",
       "9996  4378810163.jpg#4r1e     entailment     entailment     entailment   \n",
       "9997   152881593.jpg#1r1c  contradiction  contradiction  contradiction   \n",
       "9998   152881593.jpg#1r1e     entailment     entailment     entailment   \n",
       "9999   152881593.jpg#1r1n        neutral        neutral        neutral   \n",
       "\n",
       "             label4         label5  \n",
       "0           neutral        neutral  \n",
       "1           neutral     entailment  \n",
       "2     contradiction  contradiction  \n",
       "3           neutral        neutral  \n",
       "4        entailment        neutral  \n",
       "...             ...            ...  \n",
       "9995  contradiction  contradiction  \n",
       "9996  contradiction     entailment  \n",
       "9997  contradiction  contradiction  \n",
       "9998        neutral     entailment  \n",
       "9999        neutral        neutral  \n",
       "\n",
       "[10000 rows x 14 columns]"
      ]
     },
     "execution_count": 8,
     "metadata": {},
     "output_type": "execute_result"
    }
   ],
   "source": [
    "df_snli_test"
   ]
  },
  {
   "cell_type": "code",
   "execution_count": 9,
   "metadata": {
    "execution": {
     "iopub.execute_input": "2024-05-17T19:23:15.506697Z",
     "iopub.status.busy": "2024-05-17T19:23:15.505926Z",
     "iopub.status.idle": "2024-05-17T19:23:15.532291Z",
     "shell.execute_reply": "2024-05-17T19:23:15.531250Z",
     "shell.execute_reply.started": "2024-05-17T19:23:15.506673Z"
    }
   },
   "outputs": [
    {
     "name": "stdout",
     "output_type": "stream",
     "text": [
      "<class 'pandas.core.frame.DataFrame'>\n",
      "RangeIndex: 10000 entries, 0 to 9999\n",
      "Data columns (total 14 columns):\n",
      " #   Column                  Non-Null Count  Dtype \n",
      "---  ------                  --------------  ----- \n",
      " 0   gold_label              10000 non-null  object\n",
      " 1   sentence1_binary_parse  10000 non-null  object\n",
      " 2   sentence2_binary_parse  10000 non-null  object\n",
      " 3   sentence1_parse         10000 non-null  object\n",
      " 4   sentence2_parse         10000 non-null  object\n",
      " 5   sentence1               10000 non-null  object\n",
      " 6   sentence2               10000 non-null  object\n",
      " 7   captionID               10000 non-null  object\n",
      " 8   pairID                  10000 non-null  object\n",
      " 9   label1                  10000 non-null  object\n",
      " 10  label2                  10000 non-null  object\n",
      " 11  label3                  10000 non-null  object\n",
      " 12  label4                  10000 non-null  object\n",
      " 13  label5                  9990 non-null   object\n",
      "dtypes: object(14)\n",
      "memory usage: 1.1+ MB\n"
     ]
    }
   ],
   "source": [
    "df_snli_test.info()"
   ]
  },
  {
   "cell_type": "code",
   "execution_count": 10,
   "metadata": {
    "execution": {
     "iopub.execute_input": "2024-05-17T19:23:15.535736Z",
     "iopub.status.busy": "2024-05-17T19:23:15.535092Z",
     "iopub.status.idle": "2024-05-17T19:23:21.373475Z",
     "shell.execute_reply": "2024-05-17T19:23:21.372272Z",
     "shell.execute_reply.started": "2024-05-17T19:23:15.535712Z"
    }
   },
   "outputs": [
    {
     "name": "stdout",
     "output_type": "stream",
     "text": [
      "                                           sentence1  \\\n",
      "0  a person on a horse jumps over a broken down a...   \n",
      "1  a person on a horse jumps over a broken down a...   \n",
      "2  a person on a horse jumps over a broken down a...   \n",
      "3              children smiling and waving at camera   \n",
      "4              children smiling and waving at camera   \n",
      "\n",
      "                                           sentence2  gold_label  \n",
      "0  a person is training his horse for a competition.           1  \n",
      "1      a person is at a diner, ordering an omelette.           2  \n",
      "2                  a person is outdoors, on a horse.           0  \n",
      "3                  they are smiling at their parents           1  \n",
      "4                         there are children present           0  \n"
     ]
    }
   ],
   "source": [
    "# Step 1: Load and preprocess the data\n",
    "def load_and_preprocess_data(filepath):\n",
    "    # Load the dataset\n",
    "    df = pd.read_csv(filepath)\n",
    "    \n",
    "    # Select only the required columns\n",
    "    df = df[['sentence1', 'sentence2', 'gold_label']]\n",
    "    \n",
    "    # Convert sentences to lowercase to standardize the text\n",
    "    df['sentence1'] = df['sentence1'].str.lower()\n",
    "    df['sentence2'] = df['sentence2'].str.lower()\n",
    "    \n",
    "    # Mapping labels to integers\n",
    "    label_mapping = {'entailment': 0, 'neutral': 1, 'contradiction': 2}\n",
    "    df['gold_label'] = df['gold_label'].map(label_mapping)\n",
    "    \n",
    "    # Drop rows with any missing values in these columns\n",
    "    df.dropna(subset=['sentence1', 'sentence2', 'gold_label'], inplace=True)\n",
    "    \n",
    "    # Ensure the gold_label column is of type integer\n",
    "    df['gold_label'] = df['gold_label'].astype(int)\n",
    "    \n",
    "    return df\n",
    "\n",
    "# File paths\n",
    "train_path = 'SNLI/snli_1.0_train.csv'\n",
    "dev_path = 'SNLI/snli_1.0_dev.csv'\n",
    "\n",
    "# Load and preprocess the training and development datasets\n",
    "df_snli_train = load_and_preprocess_data(train_path)\n",
    "df_snli_dev = load_and_preprocess_data(dev_path)\n",
    "\n",
    "# Display the first few rows of the training data to verify\n",
    "print(df_snli_train.head())\n"
   ]
  },
  {
   "cell_type": "code",
   "execution_count": 11,
   "metadata": {
    "execution": {
     "iopub.execute_input": "2024-05-17T19:23:21.375265Z",
     "iopub.status.busy": "2024-05-17T19:23:21.374863Z",
     "iopub.status.idle": "2024-05-17T19:23:21.386407Z",
     "shell.execute_reply": "2024-05-17T19:23:21.385440Z",
     "shell.execute_reply.started": "2024-05-17T19:23:21.375229Z"
    }
   },
   "outputs": [
    {
     "data": {
      "text/html": [
       "<div>\n",
       "<style scoped>\n",
       "    .dataframe tbody tr th:only-of-type {\n",
       "        vertical-align: middle;\n",
       "    }\n",
       "\n",
       "    .dataframe tbody tr th {\n",
       "        vertical-align: top;\n",
       "    }\n",
       "\n",
       "    .dataframe thead th {\n",
       "        text-align: right;\n",
       "    }\n",
       "</style>\n",
       "<table border=\"1\" class=\"dataframe\">\n",
       "  <thead>\n",
       "    <tr style=\"text-align: right;\">\n",
       "      <th></th>\n",
       "      <th>sentence1</th>\n",
       "      <th>sentence2</th>\n",
       "      <th>gold_label</th>\n",
       "    </tr>\n",
       "  </thead>\n",
       "  <tbody>\n",
       "    <tr>\n",
       "      <th>0</th>\n",
       "      <td>two women are embracing while holding to go pa...</td>\n",
       "      <td>the sisters are hugging goodbye while holding ...</td>\n",
       "      <td>1</td>\n",
       "    </tr>\n",
       "    <tr>\n",
       "      <th>1</th>\n",
       "      <td>two women are embracing while holding to go pa...</td>\n",
       "      <td>two woman are holding packages.</td>\n",
       "      <td>0</td>\n",
       "    </tr>\n",
       "    <tr>\n",
       "      <th>2</th>\n",
       "      <td>two women are embracing while holding to go pa...</td>\n",
       "      <td>the men are fighting outside a deli.</td>\n",
       "      <td>2</td>\n",
       "    </tr>\n",
       "    <tr>\n",
       "      <th>3</th>\n",
       "      <td>two young children in blue jerseys, one with t...</td>\n",
       "      <td>two kids in numbered jerseys wash their hands.</td>\n",
       "      <td>0</td>\n",
       "    </tr>\n",
       "    <tr>\n",
       "      <th>4</th>\n",
       "      <td>two young children in blue jerseys, one with t...</td>\n",
       "      <td>two kids at a ballgame wash their hands.</td>\n",
       "      <td>1</td>\n",
       "    </tr>\n",
       "  </tbody>\n",
       "</table>\n",
       "</div>"
      ],
      "text/plain": [
       "                                           sentence1  \\\n",
       "0  two women are embracing while holding to go pa...   \n",
       "1  two women are embracing while holding to go pa...   \n",
       "2  two women are embracing while holding to go pa...   \n",
       "3  two young children in blue jerseys, one with t...   \n",
       "4  two young children in blue jerseys, one with t...   \n",
       "\n",
       "                                           sentence2  gold_label  \n",
       "0  the sisters are hugging goodbye while holding ...           1  \n",
       "1                    two woman are holding packages.           0  \n",
       "2               the men are fighting outside a deli.           2  \n",
       "3     two kids in numbered jerseys wash their hands.           0  \n",
       "4           two kids at a ballgame wash their hands.           1  "
      ]
     },
     "execution_count": 11,
     "metadata": {},
     "output_type": "execute_result"
    }
   ],
   "source": [
    "df_snli_dev.head()"
   ]
  },
  {
   "cell_type": "code",
   "execution_count": 12,
   "metadata": {
    "execution": {
     "iopub.execute_input": "2024-05-17T19:23:21.387808Z",
     "iopub.status.busy": "2024-05-17T19:23:21.387540Z",
     "iopub.status.idle": "2024-05-17T19:23:22.903979Z",
     "shell.execute_reply": "2024-05-17T19:23:22.903103Z",
     "shell.execute_reply.started": "2024-05-17T19:23:21.387786Z"
    }
   },
   "outputs": [
    {
     "data": {
      "image/png": "[encoded data removed]",
      "text/plain": [
       "<Figure size 800x500 with 1 Axes>"
      ]
     },
     "metadata": {},
     "output_type": "display_data"
    }
   ],
   "source": [
    "import matplotlib.pyplot as plt\n",
    "\n",
    "# Plotting the distribution of labels\n",
    "label_counts = df_snli_train['gold_label'].value_counts()\n",
    "plt.figure(figsize=(8, 5))\n",
    "label_counts.plot(kind='bar')\n",
    "plt.title('Distribution of Labels in the Training Data')\n",
    "plt.xlabel('Labels')\n",
    "plt.ylabel('Frequency')\n",
    "plt.xticks(rotation=0)\n",
    "plt.show()"
   ]
  },
  {
   "cell_type": "code",
   "execution_count": 13,
   "metadata": {
    "execution": {
     "iopub.execute_input": "2024-05-17T19:23:22.906005Z",
     "iopub.status.busy": "2024-05-17T19:23:22.905301Z",
     "iopub.status.idle": "2024-05-17T19:24:28.245752Z",
     "shell.execute_reply": "2024-05-17T19:24:28.244847Z",
     "shell.execute_reply.started": "2024-05-17T19:23:22.905970Z"
    }
   },
   "outputs": [
    {
     "data": {
      "image/png": "[encoded data removed]",
      "text/plain": [
       "<Figure size 1000x500 with 1 Axes>"
      ]
     },
     "metadata": {},
     "output_type": "display_data"
    }
   ],
   "source": [
    "import matplotlib.pyplot as plt\n",
    "\n",
    "# Function to calculate the length of tokenized sentences\n",
    "def calculate_lengths(tokenizer, sentences):\n",
    "    lengths = []\n",
    "    for sentence in sentences:\n",
    "        # Tokenize and count the number of tokens\n",
    "        tokens = tokenizer.tokenize(sentence)\n",
    "        lengths.append(len(tokens))\n",
    "    return lengths\n",
    "\n",
    "# Concatenate the sentences from both fields for a more comprehensive overview\n",
    "all_sentences = df_snli_train['sentence1'].tolist() + df_snli_train['sentence2'].tolist()\n",
    "\n",
    "# Calculate lengths\n",
    "lengths = calculate_lengths(tokenizer, all_sentences)\n",
    "\n",
    "# Plot histogram\n",
    "plt.figure(figsize=(10, 5))\n",
    "plt.hist(lengths, bins=range(0, max(lengths) + 10, 5), alpha=0.75, color='blue')\n",
    "plt.title('Distribution of Sentence Lengths')\n",
    "plt.xlabel('Length of tokenized sentences')\n",
    "plt.ylabel('Number of sentences')\n",
    "plt.grid(True)\n",
    "plt.show()\n"
   ]
  },
  {
   "cell_type": "code",
   "execution_count": 14,
   "metadata": {
    "execution": {
     "iopub.execute_input": "2024-05-17T19:24:28.247350Z",
     "iopub.status.busy": "2024-05-17T19:24:28.246983Z",
     "iopub.status.idle": "2024-05-17T19:24:28.488281Z",
     "shell.execute_reply": "2024-05-17T19:24:28.487381Z",
     "shell.execute_reply.started": "2024-05-17T19:24:28.247315Z"
    }
   },
   "outputs": [
    {
     "data": {
      "image/png": "[encoded data removed]",
      "text/plain": [
       "<Figure size 800x500 with 1 Axes>"
      ]
     },
     "metadata": {},
     "output_type": "display_data"
    }
   ],
   "source": [
    "# Optional: Plot distribution of labels to check balance\n",
    "import matplotlib.pyplot as plt\n",
    "label_counts = df_snli_dev['gold_label'].value_counts()\n",
    "plt.figure(figsize=(8, 5))\n",
    "label_counts.plot(kind='bar')\n",
    "plt.title('Distribution of Labels in the Validation Data')\n",
    "plt.xlabel('Labels')\n",
    "plt.ylabel('Frequency')\n",
    "plt.xticks(rotation=0)\n",
    "plt.show()"
   ]
  },
  {
   "cell_type": "code",
   "execution_count": 15,
   "metadata": {
    "execution": {
     "iopub.execute_input": "2024-05-17T19:24:28.490093Z",
     "iopub.status.busy": "2024-05-17T19:24:28.489759Z",
     "iopub.status.idle": "2024-05-17T19:26:43.444187Z",
     "shell.execute_reply": "2024-05-17T19:26:43.443223Z",
     "shell.execute_reply.started": "2024-05-17T19:24:28.490067Z"
    }
   },
   "outputs": [
    {
     "name": "stdout",
     "output_type": "stream",
     "text": [
      "Training input IDs shape: torch.Size([549361, 45])\n",
      "Validation input IDs shape: torch.Size([9842, 45])\n",
      "Training labels shape: torch.Size([549361])\n",
      "Validation labels shape: torch.Size([9842])\n"
     ]
    }
   ],
   "source": [
    "import logging\n",
    "\n",
    "logging.disable(logging.WARNING)\n",
    "\n",
    "\n",
    "\n",
    "def tokenize_and_prepare_inputs(df, tokenizer, max_length=45):\n",
    "    # Tokenize, pad and create attention masks\n",
    "    # 'max_length' is a parameter you can tune depending on the maximum length you observed in your dataset analysis\n",
    "    tokenized_inputs = tokenizer(\n",
    "        df['sentence1'].tolist(),\n",
    "        df['sentence2'].tolist(),\n",
    "        max_length=max_length,\n",
    "        padding='max_length',\n",
    "        truncation=True,\n",
    "        return_tensors=\"pt\"\n",
    "    )\n",
    "    \n",
    "    # Extracting input_ids and attention masks from the tokenized inputs\n",
    "    input_ids = tokenized_inputs['input_ids']\n",
    "    attention_masks = tokenized_inputs['attention_mask']\n",
    "    \n",
    "    return input_ids, attention_masks\n",
    "\n",
    "# Tokenize training data\n",
    "train_input_ids, train_attention_masks = tokenize_and_prepare_inputs(df_snli_train, tokenizer)\n",
    "\n",
    "# Tokenize validation data\n",
    "validation_input_ids, validation_attention_masks = tokenize_and_prepare_inputs(df_snli_dev, tokenizer)\n",
    "\n",
    "# Convert labels to tensors\n",
    "train_labels = torch.tensor(df_snli_train['gold_label'].values)\n",
    "validation_labels = torch.tensor(df_snli_dev['gold_label'].values)\n",
    "\n",
    "# Print some details to verify everything is as expected\n",
    "print(\"Training input IDs shape:\", train_input_ids.shape)\n",
    "print(\"Validation input IDs shape:\", validation_input_ids.shape)\n",
    "print(\"Training labels shape:\", train_labels.shape)\n",
    "print(\"Validation labels shape:\", validation_labels.shape)\n"
   ]
  },
  {
   "cell_type": "code",
   "execution_count": 16,
   "metadata": {
    "execution": {
     "iopub.execute_input": "2024-05-17T19:26:43.445518Z",
     "iopub.status.busy": "2024-05-17T19:26:43.445323Z",
     "iopub.status.idle": "2024-05-17T19:26:43.455930Z",
     "shell.execute_reply": "2024-05-17T19:26:43.455245Z",
     "shell.execute_reply.started": "2024-05-17T19:26:43.445496Z"
    }
   },
   "outputs": [],
   "source": [
    "from torch.utils.data import Dataset, DataLoader\n",
    "\n",
    "class SNLIDataset(Dataset):\n",
    "    def __init__(self, input_ids, attention_masks, labels):\n",
    "        self.input_ids = input_ids\n",
    "        self.attention_masks = attention_masks\n",
    "        self.labels = labels\n",
    "    \n",
    "    def __len__(self):\n",
    "        return len(self.labels)\n",
    "    \n",
    "    def __getitem__(self, idx):\n",
    "        item = {\n",
    "            'input_ids': self.input_ids[idx],\n",
    "            'attention_mask': self.attention_masks[idx],\n",
    "            'labels': self.labels[idx]\n",
    "        }\n",
    "        return item\n",
    "\n",
    "    \n",
    "train_dataset = SNLIDataset(train_input_ids, train_attention_masks, train_labels)\n",
    "validation_dataset = SNLIDataset(validation_input_ids, validation_attention_masks, validation_labels)\n",
    "\n",
    "batch_size = 32  # Adjust based on your GPU memory\n",
    "\n",
    "train_loader = DataLoader(train_dataset, batch_size=batch_size, shuffle=True)\n",
    "validation_loader = DataLoader(validation_dataset, batch_size=batch_size, shuffle=False)\n"
   ]
  },
  {
   "cell_type": "code",
   "execution_count": 17,
   "metadata": {
    "execution": {
     "iopub.execute_input": "2024-05-17T19:26:43.457506Z",
     "iopub.status.busy": "2024-05-17T19:26:43.457244Z",
     "iopub.status.idle": "2024-05-17T19:27:24.855803Z",
     "shell.execute_reply": "2024-05-17T19:27:24.854643Z",
     "shell.execute_reply.started": "2024-05-17T19:26:43.457468Z"
    }
   },
   "outputs": [
    {
     "data": {
      "application/vnd.jupyter.widget-view+json": {
       "model_id": "0cc2e286d63c421fbda07c763eda14f5",
       "version_major": 2,
       "version_minor": 0
      },
      "text/plain": [
       "Epoch 1/5:   0%|          | 0/17168 [00:00<?, ?batch/s]"
      ]
     },
     "metadata": {},
     "output_type": "display_data"
    },
    {
     "name": "stdout",
     "output_type": "stream",
     "text": [
      "Snapshot saved at step 17168\n"
     ]
    },
    {
     "data": {
      "application/vnd.jupyter.widget-view+json": {
       "model_id": "",
       "version_major": 2,
       "version_minor": 0
      },
      "text/plain": [
       "Validating:   0%|          | 0/308 [00:00<?, ?batch/s]"
      ]
     },
     "metadata": {},
     "output_type": "display_data"
    },
    {
     "name": "stdout",
     "output_type": "stream",
     "text": [
      "\n",
      "Validation Loss: 0.2532 | Validation Accuracy: 91.10%\n"
     ]
    },
    {
     "data": {
      "application/vnd.jupyter.widget-view+json": {
       "model_id": "25e213494f9d4ab2b18459c2501909a7",
       "version_major": 2,
       "version_minor": 0
      },
      "text/plain": [
       "Epoch 2/5:   0%|          | 0/17168 [00:00<?, ?batch/s]"
      ]
     },
     "metadata": {},
     "output_type": "display_data"
    },
    {
     "name": "stdout",
     "output_type": "stream",
     "text": [
      "Snapshot saved at step 34336\n"
     ]
    },
    {
     "data": {
      "application/vnd.jupyter.widget-view+json": {
       "model_id": "",
       "version_major": 2,
       "version_minor": 0
      },
      "text/plain": [
       "Validating:   0%|          | 0/308 [00:00<?, ?batch/s]"
      ]
     },
     "metadata": {},
     "output_type": "display_data"
    },
    {
     "name": "stdout",
     "output_type": "stream",
     "text": [
      "\n",
      "Validation Loss: 0.2330 | Validation Accuracy: 91.88%\n"
     ]
    },
    {
     "data": {
      "application/vnd.jupyter.widget-view+json": {
       "model_id": "5838f6c1d6be41fda25e5c0533cdba10",
       "version_major": 2,
       "version_minor": 0
      },
      "text/plain": [
       "Epoch 3/5:   0%|          | 0/17168 [00:00<?, ?batch/s]"
      ]
     },
     "metadata": {},
     "output_type": "display_data"
    },
    {
     "name": "stdout",
     "output_type": "stream",
     "text": [
      "Snapshot saved at step 51504\n"
     ]
    },
    {
     "data": {
      "application/vnd.jupyter.widget-view+json": {
       "model_id": "",
       "version_major": 2,
       "version_minor": 0
      },
      "text/plain": [
       "Validating:   0%|          | 0/308 [00:00<?, ?batch/s]"
      ]
     },
     "metadata": {},
     "output_type": "display_data"
    },
    {
     "name": "stdout",
     "output_type": "stream",
     "text": [
      "\n",
      "Validation Loss: 0.2368 | Validation Accuracy: 91.96%\n"
     ]
    },
    {
     "data": {
      "application/vnd.jupyter.widget-view+json": {
       "model_id": "168a1218a0144fe1b595edb722195ba0",
       "version_major": 2,
       "version_minor": 0
      },
      "text/plain": [
       "Epoch 4/5:   0%|          | 0/17168 [00:00<?, ?batch/s]"
      ]
     },
     "metadata": {},
     "output_type": "display_data"
    },
    {
     "name": "stdout",
     "output_type": "stream",
     "text": [
      "Snapshot saved at step 68672\n"
     ]
    },
    {
     "data": {
      "application/vnd.jupyter.widget-view+json": {
       "model_id": "",
       "version_major": 2,
       "version_minor": 0
      },
      "text/plain": [
       "Validating:   0%|          | 0/308 [00:00<?, ?batch/s]"
      ]
     },
     "metadata": {},
     "output_type": "display_data"
    },
    {
     "name": "stdout",
     "output_type": "stream",
     "text": [
      "\n",
      "Validation Loss: 0.2593 | Validation Accuracy: 91.59%\n"
     ]
    },
    {
     "data": {
      "application/vnd.jupyter.widget-view+json": {
       "model_id": "a60fb43128a74735a9eb4b3e320c892d",
       "version_major": 2,
       "version_minor": 0
      },
      "text/plain": [
       "Epoch 5/5:   0%|          | 0/17168 [00:00<?, ?batch/s]"
      ]
     },
     "metadata": {},
     "output_type": "display_data"
    },
    {
     "name": "stdout",
     "output_type": "stream",
     "text": [
      "Snapshot saved at step 85840\n"
     ]
    },
    {
     "data": {
      "application/vnd.jupyter.widget-view+json": {
       "model_id": "",
       "version_major": 2,
       "version_minor": 0
      },
      "text/plain": [
       "Validating:   0%|          | 0/308 [00:00<?, ?batch/s]"
      ]
     },
     "metadata": {},
     "output_type": "display_data"
    },
    {
     "name": "stdout",
     "output_type": "stream",
     "text": [
      "\n",
      "Validation Loss: 0.2938 | Validation Accuracy: 91.27%\n"
     ]
    }
   ],
   "source": [
    "import torch\n",
    "from torch.optim import AdamW \n",
    "from torch.optim.lr_scheduler import CyclicLR\n",
    "from tqdm.auto import tqdm\n",
    "\n",
    "\n",
    "\n",
    "\n",
    "model.to(device)\n",
    "\n",
    "# Optimizer setup\n",
    "optimizer = AdamW(model.parameters(), lr=1e-5, weight_decay=1e-6)\n",
    "\n",
    "# CLR Scheduler setup (Ensure only one scheduler setup is active)\n",
    "scheduler = CyclicLR(optimizer, base_lr=5e-6, max_lr=1e-5, \n",
    "                     step_size_up=len(train_loader)//2, step_size_down=len(train_loader)//2,\n",
    "                     mode='triangular', cycle_momentum=False)\n",
    "\n",
    "# Training and validation functions\n",
    "def train_model(model, train_loader, validation_loader, optimizer, scheduler, epochs=3, save_path='model_snapshots'):\n",
    "    steps_per_epoch = len(train_loader)\n",
    "    for epoch in range(epochs):\n",
    "        model.train()\n",
    "        train_loss = 0\n",
    "        correct = 0\n",
    "        total = 0\n",
    "        progress_bar = tqdm(train_loader, desc=f'Epoch {epoch + 1}/{epochs}', unit='batch')\n",
    "\n",
    "        for batch_index, batch in enumerate(progress_bar):\n",
    "            batch = {k: v.to(device) for k, v in batch.items()}\n",
    "            outputs = model(**batch)\n",
    "            loss = outputs.loss\n",
    "            logits = outputs.logits\n",
    "\n",
    "            optimizer.zero_grad()\n",
    "            loss.backward()\n",
    "            optimizer.step()\n",
    "            scheduler.step()  # Update the learning rate after each batch\n",
    "\n",
    "            train_loss += loss.item()\n",
    "            _, predicted = torch.max(logits, dim=1)\n",
    "            correct += (predicted == batch['labels']).sum().item()\n",
    "            total += batch['labels'].size(0)\n",
    "            accuracy = 100. * correct / total\n",
    "            lr = scheduler.get_last_lr()[0]\n",
    "\n",
    "            progress_bar.set_postfix(loss=train_loss/(batch_index + 1), accuracy=f'{accuracy:.2f}%', lr=f'{lr:.6f}')\n",
    "\n",
    "            # Save snapshot at the end of each cycle\n",
    "            current_step = epoch * steps_per_epoch + batch_index\n",
    "            if (current_step + 1) % scheduler.total_size == 0:\n",
    "                torch.save(model.state_dict(), f'{save_path}/albert_xlarge_cycle_{current_step + 1}.pth')\n",
    "                print(f\"Snapshot saved at step {current_step + 1}\")\n",
    "\n",
    "        validate_model(model, validation_loader, device)\n",
    "\n",
    "def validate_model(model, validation_loader, device):\n",
    "    model.eval()\n",
    "    val_loss = 0\n",
    "    correct = 0\n",
    "    total = 0\n",
    "    with torch.no_grad():\n",
    "        for batch in tqdm(validation_loader, desc='Validating', leave=False, unit='batch'):\n",
    "            batch = {k: v.to(device) for k, v in batch.items()}\n",
    "            outputs = model(**batch)\n",
    "            loss = outputs.loss\n",
    "            logits = outputs.logits\n",
    "            val_loss += loss.item()\n",
    "            _, predicted = torch.max(logits, dim=1)\n",
    "            correct += (predicted == batch['labels']).sum().item()\n",
    "            total += batch['labels'].size(0)\n",
    "\n",
    "    val_accuracy = 100. * correct / total\n",
    "    print(f'\\nValidation Loss: {val_loss / len(validation_loader):.4f} | Validation Accuracy: {val_accuracy:.2f}%')\n",
    "\n",
    "# Start training\n",
    "train_model(model, train_loader, validation_loader, optimizer, scheduler, epochs=5, save_path='/storage/data/st1070263')"
   ]
  },
  {
   "cell_type": "code",
   "execution_count": null,
   "metadata": {},
   "outputs": [],
   "source": []
  }
 ],
 "metadata": {
  "kaggle": {
   "accelerator": "gpu",
   "dataSources": [
    {
     "datasetId": 1670,
     "sourceId": 2933,
     "sourceType": "datasetVersion"
    },
    {
     "datasetId": 2655798,
     "sourceId": 4548821,
     "sourceType": "datasetVersion"
    },
    {
     "datasetId": 2656775,
     "sourceId": 4550791,
     "sourceType": "datasetVersion"
    },
    {
     "datasetId": 4771616,
     "sourceId": 8083662,
     "sourceType": "datasetVersion"
    },
    {
     "datasetId": 4771621,
     "sourceId": 8083668,
     "sourceType": "datasetVersion"
    },
    {
     "datasetId": 4771629,
     "sourceId": 8083678,
     "sourceType": "datasetVersion"
    },
    {
     "datasetId": 4772442,
     "sourceId": 8084913,
     "sourceType": "datasetVersion"
    }
   ],
   "dockerImageVersionId": 30674,
   "isGpuEnabled": true,
   "isInternetEnabled": true,
   "language": "python",
   "sourceType": "notebook"
  },
  "kernelspec": {
   "display_name": "Python 3 (ipykernel)",
   "language": "python",
   "name": "python3"
  },
  "language_info": {
   "codemirror_mode": {
    "name": "ipython",
    "version": 3
   },
   "file_extension": ".py",
   "mimetype": "text/x-python",
   "name": "python",
   "nbconvert_exporter": "python",
   "pygments_lexer": "ipython3",
   "version": "3.11.5"
  }
 },
 "nbformat": 4,
 "nbformat_minor": 4
}
